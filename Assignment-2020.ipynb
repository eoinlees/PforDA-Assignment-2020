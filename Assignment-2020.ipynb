{
 "cells": [
  {
   "cell_type": "markdown",
   "metadata": {},
   "source": [
    "# Programming for Data Analytics -  numpy.random - Assignment\n",
    "### Eoin Lees - G00387888 - November 2020\n",
    "------------"
   ]
  },
  {
   "cell_type": "markdown",
   "metadata": {},
   "source": [
    "## Section 1. Explain the overall purpose of the package.\n",
    "--------------"
   ]
  },
  {
   "cell_type": "markdown",
   "metadata": {},
   "source": [
    "## <u>numpy.random</u> \n",
    "\n",
    "The overall purpose of the numpy.random package is to \"produce pseudo random numbers using combinations of a BitGenerator to create sequences and a Generator to use those sequences to sample from different statistical distributions\" [1]\n",
    "\n",
    "A random number does not mean a different number every time. Random means something that cannot be predicted logically. In order for a computer to achieve this it uses BitGenerators to create a number based on a generation algorithm. These are known as psudo random numbers. [2]\n",
    "\n",
    "\n",
    "##### BitGenerators: \n",
    "\n",
    "Objects that generate random numbers. These are typically unsigned integer words filled with sequences of either 32 or 64 random bits. There are a number of different generators than can be used for this since Numpy version 1.17.0. The use of seeds and there effects on this is explored further in section 4.   \n",
    "\n",
    "##### Generators: \n",
    "\n",
    "Objects that transform sequences of random bits from a BitGenerator into sequences of numbers that follow a specific probability distribution (such as uniform, Normal or Binomial) within a specified interval. In this document there is a description of the following distributions  in section 3: \n",
    "\n",
    "* Von meises \n",
    "* Binomial\n",
    "* Chi squared\n",
    "* Uniform\n",
    "* Normal\n",
    "\n",
    "[3]\n",
    "It is possible to create real random numbers using a true random number generator. An example of this can be seen at https://www.random.org/integers/ which uses atmospheric noise to create true random numbers. However this is a lot more involved and for the purpose of this analysis not relevant. \n",
    "\n",
    "It is worth noteing however that it is commonly reccomended not use psudo-random number generators if you require a cryptographically secure number. "
   ]
  },
  {
   "cell_type": "code",
   "execution_count": 4,
   "metadata": {},
   "outputs": [],
   "source": [
    "# Import all modules for this notebook\n",
    "import numpy as np\n",
    "import matplotlib.pyplot as plt"
   ]
  },
  {
   "cell_type": "markdown",
   "metadata": {},
   "source": [
    "## 2. Explain the use of the “Simple random data” and “Permutations” functions.\n",
    "-----------"
   ]
  },
  {
   "cell_type": "markdown",
   "metadata": {},
   "source": [
    "## <u>Simple Random Data</u>\n",
    "\n",
    "https://numpy.org/doc/stable/reference/random/generator.html#numpy.random.Generator\n",
    "\n",
    "Seeds info\n",
    "\n",
    "Read this page properly"
   ]
  },
  {
   "cell_type": "markdown",
   "metadata": {},
   "source": [
    "[1] https://numpy.org/doc/stable/reference/random/index.html\n",
    "[2] https://www.w3schools.com/python/numpy_random.asp\n",
    "[3] https://realpython.com/python-random/\n",
    "\n",
    "\n",
    "[2] https://docs.scipy.org/doc/numpy-1.15.0/reference/routines.random.html\n",
    "\n",
    "[3]  https://numpy.org/doc/stable/reference/random/generator.html#numpy.random.Generatorhttps://numpy.org/doc/stable/reference/random/generator.html#numpy.random.Generator\n",
    "\n",
    "[4]\n",
    "\n",
    "[5] "
   ]
  },
  {
   "cell_type": "markdown",
   "metadata": {},
   "source": [
    "* ### Random\n",
    "https://numpy.org/doc/stable/reference/random/generated/numpy.random.rand.html#numpy.random.rand"
   ]
  },
  {
   "cell_type": "code",
   "execution_count": 5,
   "metadata": {},
   "outputs": [
    {
     "data": {
      "text/plain": [
       "0.9148962611584714"
      ]
     },
     "execution_count": 5,
     "metadata": {},
     "output_type": "execute_result"
    }
   ],
   "source": [
    "np.random.rand()\n",
    "# creates a random number between 0 and 1. Uniformily distributed. "
   ]
  },
  {
   "cell_type": "code",
   "execution_count": 6,
   "metadata": {},
   "outputs": [
    {
     "data": {
      "text/plain": [
       "array([[0.14286534, 0.03173779],\n",
       "       [0.60700384, 0.24894145],\n",
       "       [0.22241012, 0.68970066]])"
      ]
     },
     "execution_count": 6,
     "metadata": {},
     "output_type": "execute_result"
    }
   ],
   "source": [
    "x = np.random.rand(3,2)\n",
    "# creates an array of  random numbers \n",
    "x"
   ]
  },
  {
   "cell_type": "markdown",
   "metadata": {},
   "source": [
    "Create an array of the given shape and populate it with random samples from a uniform distribution over [0, 1)."
   ]
  },
  {
   "cell_type": "markdown",
   "metadata": {},
   "source": [
    "* ### Integers\n",
    "\n",
    "https://numpy.org/doc/stable/reference/random/generated/numpy.random.Generator.integers.html#numpy.random.Generator.integers"
   ]
  },
  {
   "cell_type": "code",
   "execution_count": 5,
   "metadata": {},
   "outputs": [],
   "source": [
    "#  create rng - random number generator object\n",
    "rng = np.random.default_rng()"
   ]
  },
  {
   "cell_type": "code",
   "execution_count": 6,
   "metadata": {},
   "outputs": [
    {
     "data": {
      "text/plain": [
       "array([2, 0, 2, 2, 1, 2, 2, 2, 1, 1, 2, 2, 0, 0, 1], dtype=int64)"
      ]
     },
     "execution_count": 6,
     "metadata": {},
     "output_type": "execute_result"
    }
   ],
   "source": [
    "# use rng to generate sequence of random integers\n",
    "rng.integers(3, size=15)"
   ]
  },
  {
   "cell_type": "markdown",
   "metadata": {},
   "source": [
    "This generates a series of 15 numbers up to but not inclusive of 3. The data type is \"int64\" by default. It shows how by default the low parameter is 0 and the high value is stated as 3. "
   ]
  },
  {
   "cell_type": "code",
   "execution_count": 7,
   "metadata": {},
   "outputs": [
    {
     "data": {
      "text/plain": [
       "array([[2, 4, 2, 4, 4],\n",
       "       [3, 1, 4, 0, 4],\n",
       "       [2, 0, 1, 4, 0]], dtype=int64)"
      ]
     },
     "execution_count": 7,
     "metadata": {},
     "output_type": "execute_result"
    }
   ],
   "source": [
    "# using the size parameter to generate a 3 x 5 array.\n",
    "rng.integers(5, size=(3, 5))"
   ]
  },
  {
   "cell_type": "markdown",
   "metadata": {},
   "source": [
    "Again this demonstrates the high value set at 5. The size parameter states 2 variables, the first is the number of arrays, in this case 2. The second states the number of elements in each array. The size parameter allows further dimension to be added along the 3rd and 4th dimensions etc. This allows complex data structures be formed. "
   ]
  },
  {
   "cell_type": "code",
   "execution_count": 8,
   "metadata": {
    "scrolled": true
   },
   "outputs": [],
   "source": [
    "# Test the distribution of the random data\n",
    "x = rng.integers(100, size=100)"
   ]
  },
  {
   "cell_type": "markdown",
   "metadata": {},
   "source": [
    "Here we create an array of 100 values in order to determine what kind of distribution is set as default. "
   ]
  },
  {
   "cell_type": "code",
   "execution_count": 9,
   "metadata": {},
   "outputs": [
    {
     "data": {
      "text/plain": [
       "(array([ 8.,  7., 10.,  6., 12.,  9., 11., 10., 11., 16.]),\n",
       " array([ 0. ,  9.9, 19.8, 29.7, 39.6, 49.5, 59.4, 69.3, 79.2, 89.1, 99. ]),\n",
       " <a list of 10 Patch objects>)"
      ]
     },
     "execution_count": 9,
     "metadata": {},
     "output_type": "execute_result"
    },
    {
     "data": {
      "image/png": "[encoded data removed]",
      "text/plain": [
       "<Figure size 432x288 with 1 Axes>"
      ]
     },
     "metadata": {
      "needs_background": "light"
     },
     "output_type": "display_data"
    }
   ],
   "source": [
    "# Create histogram of plot\n",
    "plt.hist(x)"
   ]
  },
  {
   "cell_type": "markdown",
   "metadata": {},
   "source": [
    "This profile is quite varied. It does not allow us to determine much based off the limited number of random values. "
   ]
  },
  {
   "cell_type": "code",
   "execution_count": 10,
   "metadata": {},
   "outputs": [
    {
     "data": {
      "text/plain": [
       "(array([ 998977., 1000240.,  998037.,  999912., 1000545., 1001727.,\n",
       "        1000448.,  998975., 1000604., 1000535.]),\n",
       " array([ 0. ,  9.9, 19.8, 29.7, 39.6, 49.5, 59.4, 69.3, 79.2, 89.1, 99. ]),\n",
       " <a list of 10 Patch objects>)"
      ]
     },
     "execution_count": 10,
     "metadata": {},
     "output_type": "execute_result"
    },
    {
     "data": {
      "image/png": "[encoded data removed]",
      "text/plain": [
       "<Figure size 432x288 with 1 Axes>"
      ]
     },
     "metadata": {
      "needs_background": "light"
     },
     "output_type": "display_data"
    }
   ],
   "source": [
    "# set size = 10000000\n",
    "x = rng.integers(100, size=10000000)\n",
    "plt.hist(x)"
   ]
  },
  {
   "cell_type": "markdown",
   "metadata": {},
   "source": [
    "When we set the size the ten million we see that the profile of this data is flat. The distribution of numbers into each 20 unit bar seems to be the same.\n",
    "This is known as a uniform distribution, which is rare in a real world situation. "
   ]
  },
  {
   "cell_type": "markdown",
   "metadata": {},
   "source": [
    "* ### Choice \n",
    "\n",
    "https://numpy.org/doc/stable/reference/random/generated/numpy.random.Generator.choice.html#numpy.random.Generator.choice\n",
    "\n",
    "<u/>method</u>:\n",
    "numpy.random.choice(a, size=None, replace=True, p=None)"
   ]
  },
  {
   "cell_type": "code",
   "execution_count": 24,
   "metadata": {},
   "outputs": [
    {
     "data": {
      "text/plain": [
       "array([9, 2, 6], dtype=int64)"
      ]
     },
     "execution_count": 24,
     "metadata": {},
     "output_type": "execute_result"
    }
   ],
   "source": [
    "rng = np.random.default_rng()\n",
    "rng.choice(10, 3)\n",
    "\n",
    "#This is equivalent to rng.integers(0,5,3)\n",
    "# Picks 3 random numbers between 0 and 10\n",
    "# generate a uniform random sample from np.arange(5) of size 3:\n"
   ]
  },
  {
   "cell_type": "code",
   "execution_count": null,
   "metadata": {},
   "outputs": [],
   "source": []
  },
  {
   "cell_type": "markdown",
   "metadata": {},
   "source": [
    "* ### Bytes\n",
    "\n",
    "https://numpy.org/doc/stable/reference/random/generated/numpy.random.Generator.bytes.html#numpy.random.Generator.bytes\n",
    "\n",
    "<u/>method</u>: \n",
    "Generator.bytes(length)"
   ]
  },
  {
   "cell_type": "code",
   "execution_count": 12,
   "metadata": {},
   "outputs": [
    {
     "data": {
      "text/plain": [
       "b'\\xcb\\xc1~\\x8f\\xa2\\xd9\\x14U\\x1c\\x92'"
      ]
     },
     "execution_count": 12,
     "metadata": {},
     "output_type": "execute_result"
    }
   ],
   "source": [
    "np.random.default_rng().bytes(10)"
   ]
  },
  {
   "cell_type": "markdown",
   "metadata": {},
   "source": [
    "Returns a string of random bytes of specified length\n",
    "method : Generator.bytes(length)"
   ]
  },
  {
   "cell_type": "markdown",
   "metadata": {},
   "source": [
    "## <u>Permutations</u>\n",
    "-----------\n",
    "\n"
   ]
  },
  {
   "cell_type": "markdown",
   "metadata": {},
   "source": [
    "* ### Shuffle\n",
    "\n",
    "https://numpy.org/doc/stable/reference/random/generated/numpy.random.Generator.shuffle.html#numpy.random.Generator.shuffle"
   ]
  },
  {
   "cell_type": "code",
   "execution_count": 18,
   "metadata": {},
   "outputs": [
    {
     "name": "stdout",
     "output_type": "stream",
     "text": [
      "The following is 10 numbers arranged in ascending order:  [0 1 2 3 4 5 6 7 8 9]\n",
      "The following is the same 10 numbers shuffled and reprinted:  [3 2 4 6 9 8 1 5 0 7]\n"
     ]
    }
   ],
   "source": [
    "# Example\n",
    "\n",
    "arr = np.arange(10)\n",
    "\n",
    "print(\"The following is 10 numbers arranged in ascending order: \", arr)\n",
    "rng.shuffle(arr)\n",
    "print(\"The following is the same 10 numbers shuffled and reprinted: \", arr)"
   ]
  },
  {
   "cell_type": "code",
   "execution_count": null,
   "metadata": {},
   "outputs": [],
   "source": []
  },
  {
   "cell_type": "markdown",
   "metadata": {},
   "source": [
    "Description of Shuffle\n",
    "\n",
    "Modify a sequence in-place by shuffling its contents.\n",
    "\n",
    "The order of sub-arrays is changed but their contents remains the same.\n",
    "\n",
    "# method\n",
    "\n",
    "Generator.shuffle(x, axis=0)\n",
    "\n",
    "#####  Reword above"
   ]
  },
  {
   "cell_type": "markdown",
   "metadata": {},
   "source": [
    "* ### Permutations\n",
    "\n",
    "https://numpy.org/doc/stable/reference/random/generated/numpy.random.Generator.permutation.html#numpy.random.Generator.permutation"
   ]
  },
  {
   "cell_type": "code",
   "execution_count": 22,
   "metadata": {},
   "outputs": [
    {
     "data": {
      "text/plain": [
       "array([4, 3, 2, 9, 8, 5, 1, 6, 7, 0])"
      ]
     },
     "execution_count": 22,
     "metadata": {},
     "output_type": "execute_result"
    }
   ],
   "source": [
    "rng.permutation(10)"
   ]
  },
  {
   "cell_type": "code",
   "execution_count": 24,
   "metadata": {},
   "outputs": [
    {
     "data": {
      "text/plain": [
       "array([ 5,  4,  2,  9, 16, 18])"
      ]
     },
     "execution_count": 24,
     "metadata": {},
     "output_type": "execute_result"
    }
   ],
   "source": [
    "rng.permutation([2, 4, 5, 9, 16, 18])"
   ]
  },
  {
   "cell_type": "code",
   "execution_count": 31,
   "metadata": {},
   "outputs": [
    {
     "name": "stdout",
     "output_type": "stream",
     "text": [
      "[[0 1 2]\n",
      " [3 4 5]\n",
      " [6 7 8]]\n",
      "[[6 7 8]\n",
      " [3 4 5]\n",
      " [0 1 2]]\n"
     ]
    }
   ],
   "source": [
    "arr = np.arange(9).reshape((3, 3))\n",
    "print(arr)\n",
    "print(rng.permutation(arr))"
   ]
  },
  {
   "cell_type": "code",
   "execution_count": null,
   "metadata": {},
   "outputs": [],
   "source": []
  },
  {
   "cell_type": "markdown",
   "metadata": {},
   "source": [
    "Description of permutations\n",
    "\n",
    "method\n",
    "\n",
    "Generator.permutation(x, axis=0)\n",
    "Randomly permute a sequence, or return a permuted range.\n",
    "\n",
    "Parameters\n",
    "xint or array_like\n",
    "If x is an integer, randomly permute np.arange(x). If x is an array, make a copy and shuffle the elements randomly.\n",
    "\n",
    "axisint, optional\n",
    "The axis which x is shuffled along. Default is 0.\n",
    "\n",
    "Returns\n",
    "outndarray\n",
    "Permuted sequence or array range.\n",
    "\n"
   ]
  },
  {
   "cell_type": "markdown",
   "metadata": {},
   "source": [
    "## 3. Explain the use and purpose of at least five “Distributions” functions.\n",
    "------------"
   ]
  },
  {
   "cell_type": "markdown",
   "metadata": {},
   "source": [
    "* ### Distribution 1: von meises\n",
    "https://numpy.org/doc/stable/reference/random/generated/numpy.random.vonmises.html#numpy.random.vonmises"
   ]
  },
  {
   "cell_type": "code",
   "execution_count": 13,
   "metadata": {},
   "outputs": [],
   "source": [
    "mu, kappa = 0.0, 4.0 # mean and dispersion\n",
    "s = np.random.vonmises(mu, kappa, 1000)"
   ]
  },
  {
   "cell_type": "code",
   "execution_count": 14,
   "metadata": {},
   "outputs": [
    {
     "data": {
      "image/png": "[encoded data removed]",
      "text/plain": [
       "<Figure size 432x288 with 1 Axes>"
      ]
     },
     "metadata": {
      "needs_background": "light"
     },
     "output_type": "display_data"
    }
   ],
   "source": [
    "from scipy.special import i0  \n",
    "plt.hist(s, 50, density=True)\n",
    "x = np.linspace(-np.pi, np.pi, num=51)\n",
    "y = np.exp(kappa*np.cos(x-mu))/(2*np.pi*i0(kappa))  \n",
    "plt.plot(x, y, linewidth=2, color='r')  \n",
    "plt.show()"
   ]
  },
  {
   "cell_type": "markdown",
   "metadata": {},
   "source": [
    "Research von meises - familliar from engineering maths. \n",
    "\n",
    "https://en.wikipedia.org/wiki/Von_Mises_distribution"
   ]
  },
  {
   "cell_type": "markdown",
   "metadata": {},
   "source": [
    "* ### Distribution 2: binomial\n",
    "https://numpy.org/doc/stable/reference/random/generated/numpy.random.Generator.binomial.html#numpy.random.Generator.binomial"
   ]
  },
  {
   "cell_type": "code",
   "execution_count": 15,
   "metadata": {},
   "outputs": [
    {
     "data": {
      "text/plain": [
       "(array([   7.,  106.,  435., 1206., 2003., 2490., 2040., 1158.,  445.,\n",
       "         110.]),\n",
       " array([ 0.,  1.,  2.,  3.,  4.,  5.,  6.,  7.,  8.,  9., 10.]),\n",
       " <a list of 10 Patch objects>)"
      ]
     },
     "execution_count": 15,
     "metadata": {},
     "output_type": "execute_result"
    },
    {
     "data": {
      "image/png": "[encoded data removed]",
      "text/plain": [
       "<Figure size 432x288 with 1 Axes>"
      ]
     },
     "metadata": {
      "needs_background": "light"
     },
     "output_type": "display_data"
    }
   ],
   "source": [
    "rng = np.random.default_rng()\n",
    "n, p = 10, .5  # number of trials, probability of each trial\n",
    "s = rng.binomial(n, p, 10000)\n",
    "# result of flipping a coin 10 times, tested 1000 times.\n",
    "plt.hist(s, bins=10, range=None, rwidth=None, color=None, label=\"tEST\")\n",
    "\n",
    "# matplotlib.pyplot.hist(x, bins=2 range=None, rwidth=None, color=None, label=tEST)"
   ]
  },
  {
   "cell_type": "code",
   "execution_count": null,
   "metadata": {},
   "outputs": [],
   "source": []
  },
  {
   "cell_type": "markdown",
   "metadata": {},
   "source": [
    "* ### Distribution 3: chisquare\n",
    "https://numpy.org/doc/stable/reference/random/generated/numpy.random.Generator.chisquare.html#numpy.random.Generator.chisquare"
   ]
  },
  {
   "cell_type": "code",
   "execution_count": 16,
   "metadata": {},
   "outputs": [
    {
     "data": {
      "text/plain": [
       "(array([3., 0., 0., 0., 0., 0., 0., 1., 0., 1.]),\n",
       " array([1.55363581, 1.98727193, 2.42090804, 2.85454416, 3.28818028,\n",
       "        3.7218164 , 4.15545252, 4.58908864, 5.02272475, 5.45636087,\n",
       "        5.88999699]),\n",
       " <a list of 10 Patch objects>)"
      ]
     },
     "execution_count": 16,
     "metadata": {},
     "output_type": "execute_result"
    },
    {
     "data": {
      "image/png": "[encoded data removed]",
      "text/plain": [
       "<Figure size 432x288 with 1 Axes>"
      ]
     },
     "metadata": {
      "needs_background": "light"
     },
     "output_type": "display_data"
    }
   ],
   "source": [
    "x = np.random.default_rng().chisquare(3,5)\n",
    "plt.hist(x)"
   ]
  },
  {
   "cell_type": "markdown",
   "metadata": {},
   "source": [
    "Further investigation needed - do other task first"
   ]
  },
  {
   "cell_type": "markdown",
   "metadata": {},
   "source": [
    "* ### Distribution 4: Uniform\n",
    "https://numpy.org/doc/stable/reference/random/generated/numpy.random.Generator.uniform.html#numpy.random.Generator.uniform\n"
   ]
  },
  {
   "cell_type": "code",
   "execution_count": 17,
   "metadata": {},
   "outputs": [
    {
     "data": {
      "text/plain": [
       "(array([ 998705., 1000467., 1000000., 1000307., 1000008., 1000460.,\n",
       "        1000394.,  999111.,  999433., 1001115.]),\n",
       " array([ 0. ,  9.9, 19.8, 29.7, 39.6, 49.5, 59.4, 69.3, 79.2, 89.1, 99. ]),\n",
       " <a list of 10 Patch objects>)"
      ]
     },
     "execution_count": 17,
     "metadata": {},
     "output_type": "execute_result"
    },
    {
     "data": {
      "image/png": "[encoded data removed]",
      "text/plain": [
       "<Figure size 432x288 with 1 Axes>"
      ]
     },
     "metadata": {
      "needs_background": "light"
     },
     "output_type": "display_data"
    }
   ],
   "source": [
    "# set size = 10000000\n",
    "x = rng.integers(100, size=10000000)\n",
    "plt.hist(x)"
   ]
  },
  {
   "cell_type": "markdown",
   "metadata": {},
   "source": [
    "This is generally the distribution expected from a computer when a random generated number is needed. So the number 4 is as likely to come out as the number 10,000 etc. It will generate all numbers with the same probability."
   ]
  },
  {
   "cell_type": "markdown",
   "metadata": {},
   "source": [
    "* ### Distribution 5: normal\n",
    "https://numpy.org/doc/stable/reference/random/generated/numpy.random.normal.html#numpy.random.normal\n"
   ]
  },
  {
   "cell_type": "code",
   "execution_count": 18,
   "metadata": {},
   "outputs": [],
   "source": [
    " # Students heights - centerd around middle. distribouts towards each side. "
   ]
  },
  {
   "cell_type": "code",
   "execution_count": 19,
   "metadata": {},
   "outputs": [
    {
     "data": {
      "text/plain": [
       "(array([  2.,  16.,  58., 155., 209., 231., 173., 107.,  38.,  11.]),\n",
       " array([-0.32521188, -0.26349932, -0.20178677, -0.14007421, -0.07836165,\n",
       "        -0.01664909,  0.04506347,  0.10677603,  0.16848859,  0.23020114,\n",
       "         0.2919137 ]),\n",
       " <a list of 10 Patch objects>)"
      ]
     },
     "execution_count": 19,
     "metadata": {},
     "output_type": "execute_result"
    },
    {
     "data": {
      "image/png": "[encoded data removed]",
      "text/plain": [
       "<Figure size 432x288 with 1 Axes>"
      ]
     },
     "metadata": {
      "needs_background": "light"
     },
     "output_type": "display_data"
    }
   ],
   "source": [
    "mu, sigma = 0, 0.1 # mean and standard deviation\n",
    "s = np.random.normal(mu, sigma, 1000)\n",
    "plt.hist(s)"
   ]
  },
  {
   "cell_type": "code",
   "execution_count": 20,
   "metadata": {},
   "outputs": [
    {
     "data": {
      "image/png": "[encoded data removed]",
      "text/plain": [
       "<Figure size 432x288 with 1 Axes>"
      ]
     },
     "metadata": {
      "needs_background": "light"
     },
     "output_type": "display_data"
    }
   ],
   "source": [
    "# Probability density function plotted\n",
    "\n",
    "count, bins, ignored = plt.hist(s, 30, density=True)\n",
    "plt.plot(bins, 1/(sigma * np.sqrt(2 * np.pi)) *\n",
    "               np.exp( - (bins - mu)**2 / (2 * sigma**2) ),\n",
    "         linewidth=2, color='r')\n",
    "plt.show()"
   ]
  },
  {
   "cell_type": "markdown",
   "metadata": {},
   "source": [
    "This allows us to match the probability expected with real world data. eg. class heights. etc. \n",
    "\n",
    "research Gausian distributions\n",
    "\n",
    "https://en.wikipedia.org/wiki/Normal_distribution"
   ]
  },
  {
   "cell_type": "markdown",
   "metadata": {},
   "source": [
    "# NOTE - add extra dividers in distribution curves"
   ]
  },
  {
   "cell_type": "markdown",
   "metadata": {},
   "source": [
    "## 4. Explain the use of seeds in generating pseudorandom numbers.\n",
    "\n",
    "------------\n"
   ]
  },
  {
   "cell_type": "markdown",
   "metadata": {},
   "source": [
    "https://numpy.org/doc/stable/reference/random/generated/numpy.random.seed.html#numpy.random.seed\n",
    "\n",
    "For legacy reasons. Further research needed\n",
    "\n",
    "https://numpy.org/doc/stable/reference/random/bit_generators/mt19937.html"
   ]
  },
  {
   "cell_type": "code",
   "execution_count": null,
   "metadata": {},
   "outputs": [],
   "source": []
  },
  {
   "cell_type": "markdown",
   "metadata": {},
   "source": [
    "## References\n",
    "----------"
   ]
  },
  {
   "cell_type": "code",
   "execution_count": null,
   "metadata": {},
   "outputs": [],
   "source": []
  }
 ],
 "metadata": {
  "kernelspec": {
   "display_name": "Python 3",
   "language": "python",
   "name": "python3"
  },
  "language_info": {
   "codemirror_mode": {
    "name": "ipython",
    "version": 3
   },
   "file_extension": ".py",
   "mimetype": "text/x-python",
   "name": "python",
   "nbconvert_exporter": "python",
   "pygments_lexer": "ipython3",
   "version": "3.8.3"
  }
 },
 "nbformat": 4,
 "nbformat_minor": 4
}
