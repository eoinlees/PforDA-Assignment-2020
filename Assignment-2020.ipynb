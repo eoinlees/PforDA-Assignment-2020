{
 "cells": [
  {
   "cell_type": "markdown",
   "metadata": {},
   "source": [
    "# Programming for Data Analytics -  numpy.random - Assignment\n",
    "### Eoin Lees - G00387888 - November 2020\n",
    "------------"
   ]
  },
  {
   "cell_type": "markdown",
   "metadata": {},
   "source": [
    "## Section 1. Explain the overall purpose of the package.\n",
    "--------------"
   ]
  },
  {
   "cell_type": "markdown",
   "metadata": {},
   "source": [
    "## <u>numpy.random</u> \n",
    "\n",
    "The overall purpose of the numpy.random package is to \"produce pseudo random numbers using combinations of a BitGenerator to create sequences and a Generator to use those sequences to sample from different statistical distributions\" [1]\n",
    "\n",
    "A random number does not mean a different number every time. Random means something that cannot be predicted logically. In order for a computer to achieve this it uses BitGenerators to create a number based on a generation algorithm. These are known as psudo random numbers. [2]\n",
    "\n",
    "\n",
    "##### BitGenerators: \n",
    "\n",
    "Objects that generate random numbers. These are typically unsigned integer words filled with sequences of either 32 or 64 random bits. There are a number of different generators than can be used for this since Numpy version 1.17.0. The use of seeds and there effects on this is explored further in section 4.   \n",
    "\n",
    "##### Generators: \n",
    "\n",
    "Objects that transform sequences of random bits from a BitGenerator into sequences of numbers that follow a specific probability distribution (such as uniform, Normal or Binomial) within a specified interval. In this document there is a description of the following distributions  in section 3: \n",
    "\n",
    "* Von meises \n",
    "* Binomial\n",
    "* Chi squared\n",
    "* Uniform\n",
    "* Normal\n",
    "\n",
    "[3]\n",
    "It is possible to create real random numbers using a true random number generator. An example of this can be seen at https://www.random.org/integers/ which uses atmospheric noise to create true random numbers. However this is a lot more involved and for the purpose of this analysis not relevant. \n",
    "\n",
    "It is worth noteing however that it is commonly reccomended not use psudo-random number generators if you require a cryptographically secure number. "
   ]
  },
  {
   "cell_type": "code",
   "execution_count": 1,
   "metadata": {},
   "outputs": [],
   "source": [
    "# Import all modules for this notebook\n",
    "import numpy as np\n",
    "import matplotlib.pyplot as plt"
   ]
  },
  {
   "cell_type": "markdown",
   "metadata": {},
   "source": [
    "## Section 2. Explain the use of the “Simple random data” and “Permutations” functions.\n",
    "-----------"
   ]
  },
  {
   "cell_type": "markdown",
   "metadata": {},
   "source": [
    "## <u>Simple Random Data</u>\n",
    "\n",
    "[4]\n",
    "\n",
    "Simple random data is broken down below into the following:\n",
    "\n",
    "* random\n",
    "* integers\n",
    "* choice\n",
    "* bytes\n",
    "\n",
    "-------------\n"
   ]
  },
  {
   "cell_type": "markdown",
   "metadata": {},
   "source": [
    "* ### Random\n",
    "\n",
    "**numpy.random.rand(d0, d1, ..., dn)**\n",
    "\n",
    "Creates a random number between 0 and 1 that is uniformilly distributed. [5]\n",
    "\n",
    "* Parameters \n",
    "    * d0, d1, …, dnint, optional\n",
    "    * The dimensions of the returned array, must be non-negative. If no argument is given a single Python float is returned.\n",
    "\n",
    "* Returns\n",
    "    * out: ndarray, shape (d0, d1, ..., dn)\n",
    "    * Random values.\n",
    "\n",
    "Note: for more information on this function see numpy documentation. [5]\n",
    "\n",
    "Examples:"
   ]
  },
  {
   "cell_type": "code",
   "execution_count": 2,
   "metadata": {},
   "outputs": [
    {
     "data": {
      "text/plain": [
       "0.3395348108714207"
      ]
     },
     "execution_count": 2,
     "metadata": {},
     "output_type": "execute_result"
    }
   ],
   "source": [
    "np.random.rand()\n",
    "# creates a random number between 0 and 1. Uniformily distributed. "
   ]
  },
  {
   "cell_type": "code",
   "execution_count": 3,
   "metadata": {},
   "outputs": [
    {
     "data": {
      "text/plain": [
       "array([[0.88416908, 0.64674803],\n",
       "       [0.53392272, 0.87736276],\n",
       "       [0.94988758, 0.1864278 ],\n",
       "       [0.78204148, 0.60609932]])"
      ]
     },
     "execution_count": 3,
     "metadata": {},
     "output_type": "execute_result"
    }
   ],
   "source": [
    "x = np.random.rand(4,2)\n",
    "# creates an array with 4 lists of 2 random numbers \n",
    "x"
   ]
  },
  {
   "cell_type": "markdown",
   "metadata": {},
   "source": [
    "The above examples show how to use numpy.random.rand(). As stated in the parameters the dimensions of the returned array must be non negative. \n",
    "\n",
    "-------------"
   ]
  },
  {
   "cell_type": "markdown",
   "metadata": {},
   "source": [
    "* ### Integers\n",
    "\n",
    "**Generator.integers(low, high=None, size=None, dtype=np.int64, endpoint=False)**\n",
    "\n",
    "Integers returns random integers from low to high (not included). it returns ranndom integers from the “discrete uniform” distribution of the specified dtype. If high is None (the default), then results are from 0 to low. [6]\n",
    "\n",
    "* Parameters \n",
    "    * low: the lowest value to select from. \n",
    "    * high: the highest value to select from. \n",
    "    * size: the output shape. number of values returned or number of values and lists returned. \n",
    "    * dtype: dtype, default is np.int64\n",
    "    * endpoint: If true, sample from the interval [low, high] instead of the default [low, high) Defaults to False\n",
    "   \n",
    "\n",
    "* Returns\n",
    "    * out: (int or ndarray of ints) size-shaped array of random integers from the appropriate distribution, or a single such random int if size not provided.\n",
    "\n",
    "Note: for more information on this function see numpy documentation. [6]\n",
    "\n",
    "Examples:\n"
   ]
  },
  {
   "cell_type": "code",
   "execution_count": 4,
   "metadata": {},
   "outputs": [],
   "source": [
    "#  create rng - random number generator object\n",
    "rng = np.random.default_rng()"
   ]
  },
  {
   "cell_type": "code",
   "execution_count": 5,
   "metadata": {},
   "outputs": [
    {
     "data": {
      "text/plain": [
       "array([0, 2, 1, 1, 1, 1, 0, 0, 2, 2, 1, 1, 2, 0, 0], dtype=int64)"
      ]
     },
     "execution_count": 5,
     "metadata": {},
     "output_type": "execute_result"
    }
   ],
   "source": [
    "# use rng to generate sequence of random integers\n",
    "rng.integers(3, size=15)"
   ]
  },
  {
   "cell_type": "markdown",
   "metadata": {},
   "source": [
    "This generates a series of 15 numbers up to but not inclusive of 3. The data type is \"int64\" by default. It shows how by default the low parameter is 0 and the high value is stated as 3. "
   ]
  },
  {
   "cell_type": "code",
   "execution_count": 6,
   "metadata": {},
   "outputs": [
    {
     "data": {
      "text/plain": [
       "array([[1, 4, 2, 0, 2],\n",
       "       [1, 3, 1, 3, 0],\n",
       "       [0, 1, 0, 1, 3]], dtype=int64)"
      ]
     },
     "execution_count": 6,
     "metadata": {},
     "output_type": "execute_result"
    }
   ],
   "source": [
    "# using the size parameter to generate a 3 x 5 array.\n",
    "rng.integers(5, size=(3, 5))"
   ]
  },
  {
   "cell_type": "markdown",
   "metadata": {},
   "source": [
    "Again this demonstrates the high value set at 5. The size parameter states two variables, the first is the number of arrays, in this case three. The second states the number of elements in each array. The size parameter allows further dimension to be added along the 3rd and 4th dimensions etc. This allows complex data structures be formed. "
   ]
  },
  {
   "cell_type": "code",
   "execution_count": 7,
   "metadata": {
    "scrolled": true
   },
   "outputs": [],
   "source": [
    "# Test the distribution of the random data\n",
    "x = rng.integers(100, size=100)"
   ]
  },
  {
   "cell_type": "markdown",
   "metadata": {},
   "source": [
    "Here we create an array of 100 values in order to determine what kind of distribution is set as default. "
   ]
  },
  {
   "cell_type": "code",
   "execution_count": 8,
   "metadata": {},
   "outputs": [
    {
     "data": {
      "text/plain": [
       "(array([ 9.,  6., 13.,  7., 14.,  7., 10., 12., 12., 10.]),\n",
       " array([ 0. ,  9.9, 19.8, 29.7, 39.6, 49.5, 59.4, 69.3, 79.2, 89.1, 99. ]),\n",
       " <a list of 10 Patch objects>)"
      ]
     },
     "execution_count": 8,
     "metadata": {},
     "output_type": "execute_result"
    },
    {
     "data": {
      "image/png": "[encoded data removed]",
      "text/plain": [
       "<Figure size 432x288 with 1 Axes>"
      ]
     },
     "metadata": {
      "needs_background": "light"
     },
     "output_type": "display_data"
    }
   ],
   "source": [
    "# Create histogram of plot\n",
    "plt.hist(x)"
   ]
  },
  {
   "cell_type": "markdown",
   "metadata": {},
   "source": [
    "This profile is quite varied. It does not allow us to determine much based off the limited number of random values. "
   ]
  },
  {
   "cell_type": "code",
   "execution_count": 9,
   "metadata": {},
   "outputs": [
    {
     "data": {
      "text/plain": [
       "(array([1000467.,  999339.,  999743., 1002018., 1000798.,  997643.,\n",
       "        1000446., 1001177.,  998822.,  999547.]),\n",
       " array([ 0. ,  9.9, 19.8, 29.7, 39.6, 49.5, 59.4, 69.3, 79.2, 89.1, 99. ]),\n",
       " <a list of 10 Patch objects>)"
      ]
     },
     "execution_count": 9,
     "metadata": {},
     "output_type": "execute_result"
    },
    {
     "data": {
      "image/png": "[encoded data removed]",
      "text/plain": [
       "<Figure size 432x288 with 1 Axes>"
      ]
     },
     "metadata": {
      "needs_background": "light"
     },
     "output_type": "display_data"
    }
   ],
   "source": [
    "# set size = 10000000\n",
    "x = rng.integers(100, size=10000000)\n",
    "plt.hist(x)"
   ]
  },
  {
   "cell_type": "markdown",
   "metadata": {},
   "source": [
    "When we set the size the ten million we see that the profile of this data is flat. The distribution of numbers into each 20 unit bar seems to be the same.\n",
    "This is known as a uniform distribution, which is rare in a real world situation. \n",
    "\n",
    "--------------"
   ]
  },
  {
   "cell_type": "markdown",
   "metadata": {},
   "source": [
    "* ### Choice \n",
    "\n",
    "**Generator.choice(a, size=None, replace=True, p=None, axis=0, shuffle=True)**\n",
    " \n",
    " Creates a random sample from a given array. [7]\n",
    " \n",
    "\n",
    "* Parameters \n",
    "    * a: array. if ndarray, random sample generated from its elements. if int, random sample generated from np.arrange(a)\n",
    "    * size: output size\n",
    "    * replace: Whether the sample is with or without replacement\n",
    "    * p: the probabilities associated with each entry in a. \n",
    "    * axis: The axis along which the selection is performed. The default, 0, selects by row.\n",
    "    * shuffle: Whether the sample is shuffled when sampling without replacement. \n",
    "\n",
    "\n",
    "* Returns\n",
    "    * samples: returns a single item or the generated ndarray\n",
    "\n",
    "Note: for more information on this function see numpy documentation. [7]\n",
    "\n",
    "Examples:"
   ]
  },
  {
   "cell_type": "code",
   "execution_count": 10,
   "metadata": {},
   "outputs": [
    {
     "data": {
      "text/plain": [
       "array([7, 0, 8], dtype=int64)"
      ]
     },
     "execution_count": 10,
     "metadata": {},
     "output_type": "execute_result"
    }
   ],
   "source": [
    "rng = np.random.default_rng()\n",
    "rng.choice(10, 3)\n",
    "\n",
    "#This is equivalent to rng.integers(0,5,3)\n",
    "# Picks 3 random numbers between 0 and 10\n",
    "# generate a uniform random sample from np.arange(5) of size 3:\n"
   ]
  },
  {
   "cell_type": "code",
   "execution_count": 35,
   "metadata": {},
   "outputs": [
    {
     "data": {
      "text/plain": [
       "(array([ 9839., 10048.,  9999., 10042.,  9968., 10069.,  9895., 10199.,\n",
       "         9956.,  9985.]),\n",
       " array([0. , 0.9, 1.8, 2.7, 3.6, 4.5, 5.4, 6.3, 7.2, 8.1, 9. ]),\n",
       " <a list of 10 Patch objects>)"
      ]
     },
     "execution_count": 35,
     "metadata": {},
     "output_type": "execute_result"
    },
    {
     "data": {
      "image/png": "[encoded data removed]",
      "text/plain": [
       "<Figure size 432x288 with 1 Axes>"
      ]
     },
     "metadata": {
      "needs_background": "light"
     },
     "output_type": "display_data"
    }
   ],
   "source": [
    "# show that sample is uniformly distributed\n",
    "x = rng.choice(10, 100000)\n",
    "plt.hist(x)"
   ]
  },
  {
   "cell_type": "markdown",
   "metadata": {},
   "source": [
    "The histogram shows that the data produced by choice is uniformly distributed. "
   ]
  },
  {
   "cell_type": "code",
   "execution_count": 27,
   "metadata": {},
   "outputs": [
    {
     "data": {
      "text/plain": [
       "array(['car', 'car'], dtype='<U4')"
      ]
     },
     "execution_count": 27,
     "metadata": {},
     "output_type": "execute_result"
    }
   ],
   "source": [
    "rng.choice([\"car\", \"bar\", \"star\", \"tar\"], 2)\n",
    "\n",
    "# generates a random sample of size 2 of the list given. "
   ]
  },
  {
   "cell_type": "markdown",
   "metadata": {},
   "source": [
    "The choice command can be used to randomly select inputted strings also as shown above."
   ]
  },
  {
   "cell_type": "code",
   "execution_count": 39,
   "metadata": {},
   "outputs": [
    {
     "data": {
      "text/plain": [
       "array(['tar', 'star', 'star', 'tar'], dtype='<U4')"
      ]
     },
     "execution_count": 39,
     "metadata": {},
     "output_type": "execute_result"
    }
   ],
   "source": [
    "rng.choice([\"car\", \"bar\", \"star\", \"tar\"], 4, p=[0.1, 0.1, 0.6, 0.2])\n",
    "# adding probabilities"
   ]
  },
  {
   "cell_type": "code",
   "execution_count": 54,
   "metadata": {},
   "outputs": [
    {
     "data": {
      "text/plain": [
       "(array([2096.,    0.,    0., 6001.,    0.,    0.,  971.,    0.,    0.,\n",
       "         932.]),\n",
       " array([0. , 0.3, 0.6, 0.9, 1.2, 1.5, 1.8, 2.1, 2.4, 2.7, 3. ]),\n",
       " <a list of 10 Patch objects>)"
      ]
     },
     "execution_count": 54,
     "metadata": {},
     "output_type": "execute_result"
    },
    {
     "data": {
      "image/png": "[encoded data removed]",
      "text/plain": [
       "<Figure size 432x288 with 1 Axes>"
      ]
     },
     "metadata": {
      "needs_background": "light"
     },
     "output_type": "display_data"
    }
   ],
   "source": [
    "x = rng.choice([\"car\", \"bar\", \"star\", \"tar\"], 10000, p=[0.1, 0.1, 0.6, 0.2])\n",
    "plt.hist(x)\n",
    "# plotting command run 10000 times"
   ]
  },
  {
   "cell_type": "markdown",
   "metadata": {},
   "source": [
    "Using the p parameter we can set the probability of each entity. We can prove this probability by running the command 10,000 times and protting the results. \n",
    "\n",
    "-----------------"
   ]
  },
  {
   "cell_type": "markdown",
   "metadata": {},
   "source": [
    "* ### Bytes\n",
    "\n",
    "**Generator.bytes(length)**\n",
    "\n",
    "Returns a string of random bytes of specified length method : Generator.bytes(length) \n",
    "\n",
    "* Parameters \n",
    "    * length: the number of random bytes required. \n",
    "   \n",
    "* Returns\n",
    "    * out: string of length length\n",
    "\n",
    "Note: for more information on this function see numpy documentation. [8]\n",
    "\n",
    "Examples:"
   ]
  },
  {
   "cell_type": "code",
   "execution_count": 53,
   "metadata": {},
   "outputs": [
    {
     "data": {
      "text/plain": [
       "b'[\\xacvA\\x0e\\xe9\\xbdo\\x13\\x9f\\n\\x98\\xcc#\\xe2l\\x98\\xaa\\xdf\\x14'"
      ]
     },
     "execution_count": 53,
     "metadata": {},
     "output_type": "execute_result"
    }
   ],
   "source": [
    "np.random.default_rng().bytes(20)"
   ]
  },
  {
   "cell_type": "markdown",
   "metadata": {},
   "source": [
    "Returns a string of random bytes of length 20. \n",
    "\n",
    "--------------"
   ]
  },
  {
   "cell_type": "markdown",
   "metadata": {},
   "source": [
    "## <u>Permutations</u>\n",
    "-----------\n",
    "\n"
   ]
  },
  {
   "cell_type": "markdown",
   "metadata": {},
   "source": [
    "* ### Shuffle\n",
    "\n",
    "**Generator.shuffle(x, axis=0)**\n",
    " \n",
    "Modifies a sequence by change the order of its contents. The contents remain unchanged, only their order is changed. [9]\n",
    " \n",
    "\n",
    "* Parameters \n",
    "    * x: the array or list to be shuffled\n",
    "    * axis: the axis to shuffle x along. \n",
    "\n",
    "* Returns\n",
    "    * None\n",
    "    \n",
    "Note: for more information on this function see numpy documentation. [9]\n",
    "\n",
    "Examples"
   ]
  },
  {
   "cell_type": "code",
   "execution_count": 12,
   "metadata": {},
   "outputs": [
    {
     "name": "stdout",
     "output_type": "stream",
     "text": [
      "The following is 10 numbers arranged in ascending order:  [0 1 2 3 4 5 6 7 8 9]\n",
      "The following is the same 10 numbers shuffled and reprinted:  [2 6 4 1 5 0 8 7 3 9]\n"
     ]
    }
   ],
   "source": [
    "# Example of arrange on integers. \n",
    "\n",
    "arr = np.arange(10)\n",
    "\n",
    "print(\"The following is 10 numbers arranged in ascending order: \", arr)\n",
    "rng.shuffle(arr)\n",
    "print(\"The following is the same 10 numbers shuffled and reprinted: \", arr)"
   ]
  },
  {
   "cell_type": "code",
   "execution_count": 67,
   "metadata": {},
   "outputs": [
    {
     "name": "stdout",
     "output_type": "stream",
     "text": [
      "['tar', 'star', 'bar', 'car']\n"
     ]
    }
   ],
   "source": [
    "# Using shuffle to shuffle a list of strings. \n",
    "\n",
    "x = [\"car\", \"bar\", \"star\", \"tar\"]\n",
    "np.random.shuffle(x)\n",
    "print(x)"
   ]
  },
  {
   "cell_type": "markdown",
   "metadata": {},
   "source": [
    "Shuffle is a simple command that can be used to easily mix the arrangement of a list randomly as show above. The data can be a list, a tuple or a string. \n",
    "\n",
    "--------------------"
   ]
  },
  {
   "cell_type": "markdown",
   "metadata": {},
   "source": [
    "* ### Permutations\n",
    "\n",
    "**Generator.permutation(x, axis=0)**\n",
    " \n",
    "randomly permutes a sequence or returnes a range of permuted values. [10] \n",
    "\n",
    "\"In mathematics, a permutation of a set is an arrangement of its members into a sequence or linear order, or if the set is already ordered, a rearrangement of its elements. The word \"permutation\" also refers to the act or process of changing the linear order of an ordered set\" [11]\n",
    " \n",
    "\n",
    "* Parameters \n",
    "    * x: Randomly permutate if x is integar. If array, make copy then shuffle elements.\n",
    "    * axis: The axis which x is shuffled along. Default is 0.\n",
    "\n",
    "* Returns\n",
    "    * out: ndarray - permuted sequence or array range. \n",
    "    \n",
    "Note: for more information on this function see numpy documentation. [10]\n",
    "\n",
    "Examples\n"
   ]
  },
  {
   "cell_type": "code",
   "execution_count": 13,
   "metadata": {},
   "outputs": [
    {
     "data": {
      "text/plain": [
       "array([9, 0, 6, 3, 8, 4, 1, 7, 2, 5])"
      ]
     },
     "execution_count": 13,
     "metadata": {},
     "output_type": "execute_result"
    }
   ],
   "source": [
    "# permutate \n",
    "rng.permutation(10)"
   ]
  },
  {
   "cell_type": "code",
   "execution_count": 73,
   "metadata": {},
   "outputs": [
    {
     "data": {
      "text/plain": [
       "array([18,  2, 16,  4,  9,  5])"
      ]
     },
     "execution_count": 73,
     "metadata": {},
     "output_type": "execute_result"
    }
   ],
   "source": [
    "# permutate given list\n",
    "rng.permutation([2, 4, 5, 9, 16, 18])"
   ]
  },
  {
   "cell_type": "code",
   "execution_count": 76,
   "metadata": {},
   "outputs": [
    {
     "name": "stdout",
     "output_type": "stream",
     "text": [
      "First set: \n",
      " [[ 0  1  2  3]\n",
      " [ 4  5  6  7]\n",
      " [ 8  9 10 11]\n",
      " [12 13 14 15]]\n",
      "second set: \n",
      " [[ 0  1  2  3]\n",
      " [ 8  9 10 11]\n",
      " [ 4  5  6  7]\n",
      " [12 13 14 15]]\n"
     ]
    }
   ],
   "source": [
    "# example of permutation command on printed set of data. \n",
    "arr = np.arange(16).reshape((4, 4))\n",
    "print(\"First set: \\n\", arr)\n",
    "print(\"second set: \\n\", rng.permutation(arr))"
   ]
  },
  {
   "cell_type": "markdown",
   "metadata": {},
   "source": [
    "Permutations is another method of rearranging data. The feild of permutations is detailed and well studied. A rubix cube is a practical example of permutations. Each time you turn the cube there is another set of the same data in a different permutation. More information can be found here. [12]\n",
    "\n",
    "------------"
   ]
  },
  {
   "cell_type": "markdown",
   "metadata": {},
   "source": [
    "## Section 3. Explain the use and purpose of at least five “Distributions” functions.\n",
    "------------"
   ]
  },
  {
   "cell_type": "markdown",
   "metadata": {},
   "source": [
    "* ### Distribution 1: von meises\n",
    "\n",
    "**numpy.random.vonmises(mu, kappa, size=None)**\n",
    " \n",
    "Draws a sample from a von meises distribution. Samples are drawn with specific mode(mu) and dispersion(kappa) on the interval [-π, π]  [13] \n",
    "\n",
    "\"The Von Mises distribution (also called the circular normal or Tikhonov distribution) is a continuous probability distribution with a range from 0 to 2π, aka a circle. It is similar to the normal distribution, except coordinates are placed on a circular plane. The von Mises distribution can be thought of as a special case of the Von Mises-Fisher distribution, which is an extension of the distribution to multi-dimensional spheres.\n",
    "\n",
    "The distribution was first described by Richard von Mises in 1918 as a way to model the distribution of atomic weights. It’s now used to model a variety of phenomena including:\n",
    "\n",
    "* Brownian motion (Physics),\n",
    "* Epidemiology (spread of disease),\n",
    "* Interference Alignment (Signal Processing),\n",
    "* Privacy-preserving algorithms in (Machine Learning).\" [14]\n",
    " \n",
    "\n",
    "* Parameters \n",
    "    * mu: mode or centre of the distribution.\n",
    "    * kappa: dispersion of teh distribution. Must be greater than or equal to 0. \n",
    "    * size: output shape.\n",
    "    \n",
    "* Returns\n",
    "    * out: ndarray or scalar - Drawn samples from the parameterized von Mises distribution. \n",
    "    \n",
    "Note: for more information on this function see numpy documentation. [13]\n",
    "\n",
    "Examples"
   ]
  },
  {
   "cell_type": "code",
   "execution_count": 91,
   "metadata": {
    "scrolled": true
   },
   "outputs": [
    {
     "data": {
      "text/plain": [
       "array([ 4.59638681e-01,  2.34064198e-01, -7.37385564e-01,  9.89744813e-01,\n",
       "        4.37579311e-01,  6.23407140e-02,  1.51969651e-01,  4.58040453e-01,\n",
       "        3.37011399e-01,  3.89003759e-02, -2.47294442e-01, -7.65625766e-01,\n",
       "       -7.43197817e-01,  3.47874656e-01, -1.47379940e-01, -9.75383626e-01,\n",
       "       -1.57399593e-02,  1.01461096e-01,  4.53940750e-01, -6.18157410e-01,\n",
       "        8.80662729e-01, -2.81636490e-01,  3.87574160e-01,  2.73867529e-01,\n",
       "       -5.75286043e-02,  8.65367568e-02, -5.12283193e-01,  1.31074798e-01,\n",
       "       -1.58248560e-01, -3.06469864e-02,  1.62481357e-01,  3.10743441e-01,\n",
       "        7.51208320e-01,  1.09320654e+00,  2.19241877e-01, -5.51716137e-01,\n",
       "       -3.24339045e-01, -3.06423288e-01,  6.63289922e-03, -1.07762711e+00,\n",
       "        1.90969503e-01, -2.09380755e-01, -5.27353932e-02,  3.30733624e-01,\n",
       "        3.51492378e-01,  2.63466876e-01, -4.87965195e-01,  8.85945291e-01,\n",
       "       -5.30097287e-01, -1.43367940e-01, -1.50991997e-01,  1.13569635e+00,\n",
       "        7.76268682e-01, -5.25354239e-01, -5.67128078e-01,  3.10035658e-01,\n",
       "        7.45731635e-02,  1.44490445e+00,  7.13697624e-02,  5.79788498e-01,\n",
       "        3.43006462e-01,  8.90862820e-01,  3.66935609e-01,  8.98964313e-01,\n",
       "       -4.56241596e-01,  1.62967609e-01, -3.87003157e-01, -1.30682115e-01,\n",
       "        8.21837335e-01,  8.46232096e-01, -1.50231236e+00,  5.28266996e-01,\n",
       "        7.17196118e-01,  4.76097148e-02, -1.22345135e+00,  9.26900798e-02,\n",
       "       -7.58219011e-01,  5.33648081e-01,  1.36171666e-01, -7.03308114e-01,\n",
       "        2.78123602e-01, -2.41060882e-01, -4.68090415e-01, -8.58585830e-02,\n",
       "        4.45664539e-01, -6.29414679e-01, -2.68936657e-01,  4.78446785e-02,\n",
       "        1.09769407e+00,  2.61997180e-01, -3.52160506e-01, -2.22643475e-01,\n",
       "        9.75930303e-01, -1.15505484e-01,  1.09994187e+00, -1.00455726e+00,\n",
       "        3.86004325e-01,  2.87594730e-01,  1.43140442e-01, -4.66219738e-01,\n",
       "       -4.95084650e-01, -6.75172320e-01, -7.72542625e-01, -7.87467042e-01,\n",
       "       -4.41310882e-01, -8.23134700e-02, -2.38688480e-01, -1.48307406e-01,\n",
       "        6.42387774e-01,  3.59289635e-01,  1.93165492e-01, -2.26201707e-01,\n",
       "       -1.29147335e+00,  8.71932668e-01, -4.19926553e-01,  5.19403162e-02,\n",
       "        3.71951378e-01, -1.44803930e-01,  2.35112083e-01,  3.27077865e-01,\n",
       "       -2.39016360e-01, -3.63089896e-01, -3.48549622e-01,  9.36120770e-01,\n",
       "        9.18475484e-02,  4.81214810e-01,  2.55221781e-01, -7.42000505e-01,\n",
       "       -6.37697789e-01,  2.61331976e-01,  1.66540546e-01, -4.28737049e-01,\n",
       "        2.00563322e-01, -1.54571688e-01,  4.61048496e-01,  6.16669193e-01,\n",
       "        6.90617099e-01, -1.78564395e-01, -4.23710330e-01, -2.31025922e-01,\n",
       "        1.70217470e-02,  1.14069633e-01,  8.00303988e-02,  4.75163130e-02,\n",
       "       -1.78958894e-01, -1.13721426e-01, -5.57940622e-01,  6.80111375e-02,\n",
       "       -4.79602481e-01, -5.38288612e-04,  5.42359506e-01,  7.36812676e-01,\n",
       "       -3.54062118e-01,  1.13570450e-01, -7.83680278e-01, -3.54697872e-01,\n",
       "       -1.83081554e-01, -3.12700983e-01,  1.13420983e+00,  1.38793715e-01,\n",
       "       -1.40585697e-01,  4.25395149e-01,  3.20872891e-02,  3.27939551e-01,\n",
       "        3.64020805e-01, -8.74090802e-02, -9.02226682e-01, -7.63366713e-01,\n",
       "        3.52268602e-01,  2.88499748e-01, -7.58572808e-01,  6.48458327e-02,\n",
       "        6.14255886e-01, -5.83136773e-01,  7.02427824e-02, -5.04199005e-01,\n",
       "       -3.83181726e-02, -4.30338542e-01, -2.57527354e-02,  5.20718006e-01,\n",
       "        1.73687348e-02, -2.75051518e-02,  2.35374479e-01, -3.09196640e-01,\n",
       "        5.80404017e-01,  4.66823946e-01, -6.51618473e-01,  7.04546929e-01,\n",
       "        3.94169486e-01, -7.25313033e-01, -4.72660831e-02, -7.90457495e-02,\n",
       "        8.96722357e-01, -2.87872858e-01,  1.29453201e-01, -3.98636077e-01,\n",
       "       -6.07968826e-01, -4.74475378e-02,  9.49537175e-01,  6.69904203e-01,\n",
       "       -6.47405076e-01,  2.38062494e-01, -1.98330267e-01,  5.12411805e-01,\n",
       "       -7.01727306e-01,  6.83807562e-01, -8.43818939e-01,  2.21369037e-01,\n",
       "       -2.58048064e-01, -5.89216523e-01,  3.09993568e-01, -3.86299119e-01,\n",
       "       -1.85004546e-01, -5.45021930e-02, -6.13353588e-02, -6.71006239e-02,\n",
       "        4.63547446e-01, -5.58475579e-01, -3.05686720e-01, -7.79862808e-01,\n",
       "        4.02159626e-02, -2.60843401e-01, -7.70109150e-01,  2.87872163e-01,\n",
       "        7.37233182e-02, -3.74894291e-02, -3.71817803e-01, -3.93538803e-01,\n",
       "        6.14039110e-01,  1.45309083e+00,  1.16401606e+00, -1.39781341e-01,\n",
       "        9.14181454e-01, -4.98898273e-01,  1.14501429e-02,  1.21467670e-01,\n",
       "       -3.85800361e-01, -1.21902506e+00, -1.48247040e-01,  5.21151648e-01,\n",
       "       -7.13132527e-02, -5.61332258e-01,  2.50065452e-01, -1.28350876e+00,\n",
       "       -1.10811279e+00,  1.64981609e-01,  3.91041740e-01,  3.99322457e-01,\n",
       "        8.68077209e-01,  2.18031758e-01, -7.02059602e-01,  5.57400639e-01,\n",
       "        1.48827849e-01, -5.30251987e-01, -5.59455143e-01, -3.67459355e-01,\n",
       "        3.99073193e-01, -5.96170302e-01,  2.47859931e-01, -1.77416599e-01,\n",
       "        7.21381913e-01,  2.33729933e-01, -1.14171920e+00, -4.95857666e-01,\n",
       "        1.44378896e-02, -4.87761648e-02,  4.69245769e-01,  1.03124445e+00,\n",
       "        2.50828528e-01,  5.67223171e-01, -5.43351132e-01, -9.09422506e-02,\n",
       "        1.80516104e-01,  6.67696728e-02, -5.32528314e-01,  6.17150694e-01,\n",
       "       -7.45937329e-02, -9.29223701e-01, -1.21565593e+00,  4.21127456e-02,\n",
       "       -1.50289811e-01,  5.76974425e-01,  4.28908135e-01, -1.95655633e-01,\n",
       "       -6.92947274e-01, -2.70104936e-01, -4.90736460e-03, -8.05641703e-01,\n",
       "       -7.92526776e-02,  9.80724097e-01,  6.26621715e-01,  8.11086041e-01,\n",
       "        7.85731599e-01,  3.64961383e-01, -6.63466956e-01, -1.70814696e-01,\n",
       "        9.29522602e-02, -4.49217725e-01,  5.51878625e-01, -2.90836335e-01,\n",
       "        1.55764822e-01, -3.17894713e-01, -1.02434360e+00, -2.53696653e-01,\n",
       "       -4.96696320e-01,  2.55729146e-01, -9.31043647e-01,  4.45620044e-01,\n",
       "        2.78189553e-01, -9.68691806e-02,  5.98125506e-01,  5.49520531e-01,\n",
       "       -1.08122136e+00, -3.25617375e-01,  6.15161430e-01,  7.48673429e-01,\n",
       "        1.40616632e-01, -4.89431948e-01,  1.24454064e+00, -1.21101396e-01,\n",
       "       -5.85142948e-01,  1.07861734e+00, -5.56256569e-01, -2.36283223e-01,\n",
       "       -2.84540894e-01,  6.93225264e-01, -5.76249443e-02,  1.22789302e+00,\n",
       "        1.62655182e-01,  1.06819667e+00,  1.76740082e-03, -4.72553208e-01,\n",
       "       -3.02740153e-01, -6.98698716e-01, -2.51375350e-01, -1.62114622e-01,\n",
       "        5.44681694e-01,  1.72382205e-03, -1.30775578e-01, -8.95283705e-01,\n",
       "        5.30385900e-01, -2.17571067e-01, -1.17787301e+00,  1.27881580e-02,\n",
       "        6.64018795e-01, -2.28870243e-01, -7.47012427e-01,  2.31268551e-01,\n",
       "       -1.31226038e-01, -6.66280057e-01,  3.45086189e-01, -2.21049647e-01,\n",
       "        2.02185301e-01,  2.79315100e-01,  3.79624463e-01, -4.58726943e-01,\n",
       "       -6.53464091e-02,  4.12105710e-01, -3.74654873e-01,  4.54434756e-01,\n",
       "        6.42682267e-01,  1.48758433e-01, -3.51949167e-02, -5.59022930e-01,\n",
       "       -2.73074025e-01, -2.84544761e-01, -9.32342352e-01, -1.27434681e-01,\n",
       "        4.93718349e-02,  2.68239833e-01, -4.34542497e-02,  3.51745108e-01,\n",
       "        1.44215888e-01, -4.35216751e-02, -1.02120767e+00,  7.19434809e-01,\n",
       "       -4.01277032e-02,  2.20952442e-01,  8.65692861e-02, -8.59551515e-01,\n",
       "       -5.80628110e-01,  2.46347825e-01,  3.02586345e-01,  9.26475147e-01,\n",
       "       -4.82388343e-01,  5.79972814e-01, -7.74507256e-01, -2.66899708e-01,\n",
       "        3.08386205e-01, -7.22883541e-01, -2.20955550e-01,  4.15837430e-01,\n",
       "       -2.77076732e-01, -1.49159884e-01, -1.78178939e-01,  4.12707298e-01,\n",
       "       -7.73851562e-02,  1.03112322e+00,  2.84821157e-01, -1.00303597e-01,\n",
       "        1.91654589e-01, -8.81016705e-01,  5.65643158e-01,  2.58303483e-01,\n",
       "        7.13277364e-02, -6.74378269e-01,  6.29755263e-01,  8.76977589e-01,\n",
       "        3.87811643e-01, -3.80563507e-01,  4.58808938e-01, -4.24639372e-01,\n",
       "        4.38716908e-01, -2.38322523e-01,  4.90825262e-01,  1.96715724e-01,\n",
       "       -1.05022185e+00,  6.59494039e-01,  7.16567962e-01,  6.54621562e-02,\n",
       "        1.05037143e+00,  2.48874855e-01, -4.81713441e-01,  6.65946335e-01,\n",
       "        5.71938816e-01,  5.48485502e-01, -4.29725123e-01,  8.66837897e-02,\n",
       "       -5.18538929e-01,  9.84981344e-01,  7.32388063e-01,  1.50712704e-01,\n",
       "        3.73420859e-01,  4.20837172e-01, -1.79450251e-01, -5.44399746e-01,\n",
       "        1.30099424e-01,  6.67908430e-01, -2.42396595e-02,  7.33499365e-01,\n",
       "       -2.57043632e-01,  1.61167801e-01,  5.17635879e-01,  3.67748268e-01,\n",
       "       -3.34574472e-01,  1.81855324e-01,  4.56924496e-01, -1.70166416e+00,\n",
       "        1.80343312e-01, -4.59926039e-02, -3.45185712e-01, -4.72342940e-01,\n",
       "        3.77847323e-01,  1.68194340e-01,  1.47822010e-01, -1.54285596e-01,\n",
       "       -1.46328963e-01, -1.67778980e-01, -8.17017368e-01,  3.54916693e-01,\n",
       "        3.54668961e-02, -1.21834568e-01, -2.26125533e-01,  1.09247856e+00,\n",
       "       -6.25115365e-01,  2.47524543e-01, -2.80878993e-01,  9.26535746e-02,\n",
       "       -4.70312092e-01,  1.12133309e+00,  9.82881850e-02, -1.10523978e+00,\n",
       "       -2.23926196e-01, -5.13212539e-02, -6.44634921e-01,  8.72847953e-02,\n",
       "       -4.97272734e-01, -2.68193698e-01, -3.79887477e-01,  4.82981675e-01,\n",
       "        5.51174825e-01, -4.34064794e-01,  5.31878148e-01,  4.46167095e-01,\n",
       "       -6.33689169e-01,  1.49604290e-01,  3.64317125e-01,  5.28149364e-01,\n",
       "        6.71706882e-01,  5.11284358e-01,  6.66282161e-01, -5.84624633e-01,\n",
       "        3.25109105e-02,  1.68705188e+00, -4.22110049e-01, -1.51607716e-01,\n",
       "        3.11091076e-01, -5.58629410e-01, -4.93473976e-01, -1.11639365e+00,\n",
       "        4.58048920e-01,  5.74366621e-01,  5.57521866e-01, -2.66706664e-01,\n",
       "        7.59393454e-01, -1.11685425e-01,  2.43034945e-01,  2.60322150e-01,\n",
       "       -1.69771671e-01,  1.08678551e+00, -5.68092413e-01, -6.73597675e-02,\n",
       "       -9.42757232e-03,  3.41960729e-01, -4.30270661e-01,  3.32110025e-01,\n",
       "       -7.49397175e-02, -7.13208215e-02, -1.33415543e+00,  9.70011361e-02,\n",
       "        3.58078637e-01,  6.88867817e-01,  6.76114261e-01,  1.84251130e-01,\n",
       "        5.34306940e-01, -1.13269663e-01,  1.53772540e-01,  9.05813456e-02,\n",
       "       -7.62895733e-01, -4.43137095e-01,  3.82713335e-01, -4.49963585e-01,\n",
       "       -2.95765263e-01, -2.58507318e-01, -4.03428464e-01,  8.86738813e-02,\n",
       "        8.88058075e-01,  1.98051706e-01,  3.03408215e-01,  4.21099181e-02,\n",
       "       -7.98963539e-02, -2.79658567e-01, -2.40722993e-01, -1.03892011e-02,\n",
       "        2.64596494e-02,  4.32402941e-01,  3.80622369e-02,  1.19330550e-01,\n",
       "        8.12843951e-01, -1.04124810e+00,  1.17602719e+00,  1.54156161e-01,\n",
       "       -1.93006581e-01,  3.69465087e-01,  8.15607013e-01,  3.29476234e-01,\n",
       "       -6.06906434e-01,  4.50152411e-01,  2.51912957e-01,  9.35614024e-01,\n",
       "       -2.41124264e-01,  5.27400164e-02,  8.84342384e-01, -2.14259986e-01,\n",
       "        2.64637163e-01,  6.99806612e-02,  6.18204789e-01, -4.17096126e-02,\n",
       "       -6.84959343e-01,  3.71673784e-01, -2.71881692e-01, -9.96041593e-01,\n",
       "        2.36940215e-01,  3.53804779e-01, -4.07656796e-01, -1.32206733e-01,\n",
       "        4.18827245e-02,  3.90072528e-01, -5.10043423e-01,  5.50596944e-02,\n",
       "        1.59391718e-01, -2.60072396e-01, -4.30945341e-01, -3.63472759e-01,\n",
       "       -6.97367402e-01,  6.15033577e-03,  1.94240780e+00,  2.65993274e-01,\n",
       "        3.44892515e-01, -8.40179538e-02,  3.91208084e-01,  3.17794281e-01,\n",
       "        3.41425821e-01,  2.39515144e-01, -3.68326022e-01, -2.76716474e-01,\n",
       "       -4.95779494e-01,  7.29824682e-01, -1.01929315e+00, -1.23930430e-01,\n",
       "        3.23948208e-01, -8.89762770e-01, -8.82982824e-01, -6.42980308e-01,\n",
       "        1.97530054e-01, -3.02661173e-01, -2.47998170e-01,  6.49593212e-01,\n",
       "       -5.51395906e-01,  2.25010833e-01, -2.03462427e-01,  6.35525226e-01,\n",
       "       -5.41086812e-02,  7.57183110e-01, -5.70993447e-01, -1.24766422e+00,\n",
       "       -2.83334717e-01, -4.45605619e-01,  2.28916057e-01, -2.50771341e-01,\n",
       "        1.01302214e-01, -3.09167600e-01, -3.20287482e-01,  4.03597719e-01,\n",
       "       -4.71774371e-01, -7.90443876e-01, -1.52868499e-01,  4.04598580e-01,\n",
       "       -9.05774735e-01,  4.21155154e-02,  7.70914308e-01, -5.48829168e-02,\n",
       "        3.38434412e-01, -2.83274110e-01, -3.73885885e-01,  9.11893509e-02,\n",
       "        6.74147987e-01, -3.64004442e-01, -5.76690586e-01, -5.08704140e-01,\n",
       "        5.61783600e-01,  2.72249089e-01, -7.51678336e-02,  3.43142329e-01,\n",
       "        6.32896383e-01, -1.17900174e-01,  1.41493581e-01, -2.20931819e-02,\n",
       "       -1.25748301e-01, -2.50259545e-01,  1.06577627e+00,  3.73972313e-01,\n",
       "       -3.11083847e-01, -8.59657745e-01,  1.92930605e-01,  2.94649749e-01,\n",
       "       -2.76686366e-01, -1.98502440e-01,  9.87422472e-02, -5.19696808e-01,\n",
       "        2.23752153e-01, -3.18426880e-01,  6.64741257e-01, -1.39450057e-03,\n",
       "       -5.86506447e-01,  4.15568375e-01, -3.76558071e-01, -1.77158598e-01,\n",
       "        1.29083384e-01,  8.52824045e-01,  1.91547405e-01, -1.73818016e-01,\n",
       "       -2.34547157e-01, -8.96587133e-01,  2.93695187e-01,  1.91105360e-01,\n",
       "       -4.08204096e-01, -6.61880613e-02,  2.10051530e-01, -3.25077174e-01,\n",
       "       -1.53512848e-02,  4.91173663e-02, -1.00994603e+00, -6.77031870e-01,\n",
       "        3.17801428e-01, -5.44928657e-01,  9.11533071e-01, -2.34706600e-01,\n",
       "       -4.38665150e-01, -1.54774771e-01, -3.54610238e-01, -9.36276355e-01,\n",
       "        9.41487760e-02,  2.06355377e-01,  2.40743870e-03, -2.23094835e-01,\n",
       "       -3.40901354e-02, -8.09880596e-02, -4.92633770e-01,  1.97362309e-01,\n",
       "       -6.55065567e-01, -7.86520683e-01, -4.36580141e-03, -1.40952301e-01,\n",
       "        4.68879915e-01,  7.72800810e-01,  1.33123997e+00, -1.66028462e-01,\n",
       "        2.24736844e-01,  9.94330408e-01, -4.13392680e-01,  9.68929752e-02,\n",
       "        5.74486287e-01,  2.25996005e-01,  8.88052402e-01, -1.60933786e-02,\n",
       "       -4.50055159e-01,  3.21219252e-01,  4.89967935e-01, -5.64039139e-01,\n",
       "       -1.74635516e+00, -2.13882252e-01, -1.84310134e-01, -7.66837759e-01,\n",
       "        8.77268541e-01, -3.46617146e-01,  7.97408089e-01,  4.47055681e-02,\n",
       "       -4.06071251e-01,  4.61909708e-01, -1.02352025e-01,  3.90717145e-01,\n",
       "       -2.23326659e-01, -2.80028535e-01,  7.58617053e-01, -5.53702154e-01,\n",
       "       -1.51616178e-01,  4.47404337e-03,  1.17572994e+00,  6.81539968e-02,\n",
       "        1.66528912e-01, -5.14556373e-02,  4.92312439e-01,  4.21900640e-01,\n",
       "       -6.53291825e-01, -6.37671065e-01, -9.44934259e-01,  9.05307274e-02,\n",
       "        4.16357640e-01,  4.26740508e-01,  5.45845045e-01, -4.93804853e-01,\n",
       "       -1.55251841e-01, -1.80807592e-01, -4.39323710e-01, -4.36229303e-01,\n",
       "       -4.13164449e-01, -1.57183464e-01, -4.80337376e-02, -3.23862764e-01,\n",
       "       -8.06466017e-01,  9.20785220e-01, -3.19721376e-01,  1.09451320e+00,\n",
       "        4.80498391e-01,  5.03826151e-01,  2.33912671e-01,  1.57294722e-02,\n",
       "       -4.11682965e-01,  1.18469778e-01,  2.82070692e-01, -4.23936461e-01,\n",
       "        9.91903724e-01, -2.11763113e-01,  3.93760727e-02, -3.02284632e-01,\n",
       "       -1.37922288e-02,  3.54261208e-01, -3.58521812e-01, -2.96044622e-01,\n",
       "       -6.05112310e-01,  9.49918561e-01, -2.82633831e-01,  1.23133082e-01,\n",
       "        4.88433637e-01, -4.08072367e-01,  4.43925372e-01, -7.52469216e-01,\n",
       "       -1.39725179e-02, -5.11670448e-01, -8.39630166e-01,  9.62878946e-01,\n",
       "       -6.08380863e-01, -4.05888235e-01, -1.04369835e+00, -4.34075443e-01,\n",
       "        4.85076953e-01, -9.31744623e-02,  3.25551975e-01,  5.68519714e-01,\n",
       "       -8.84350139e-02,  6.53830794e-04,  5.56039075e-02,  7.28033065e-02,\n",
       "       -6.45756083e-01, -5.10643976e-01, -2.88132109e-02,  1.69468293e-01,\n",
       "        1.73354725e-01, -3.32189408e-01, -7.79915158e-01,  2.77503019e-01,\n",
       "        6.88110101e-01,  8.55344284e-01, -8.77267068e-01, -8.84953108e-04,\n",
       "       -2.83677923e-01, -4.33472126e-02, -1.10712636e+00, -6.92243415e-02,\n",
       "        1.37194130e-01, -4.48683103e-01,  7.77124335e-01,  8.04518071e-01,\n",
       "       -5.62097857e-01,  4.28282865e-02,  1.83721581e-01,  5.64004909e-01,\n",
       "       -3.28484901e-01, -1.86237323e-01,  6.81690010e-02,  2.54971315e-01,\n",
       "       -7.11557319e-01, -1.33449904e-01, -6.39942451e-01, -1.72297516e-01,\n",
       "       -8.06703263e-01,  2.42120271e-01, -2.59025379e-01, -7.24388528e-01,\n",
       "       -7.85358252e-01, -2.47276377e-01, -7.14924172e-02,  4.43542027e-01,\n",
       "       -3.22315507e-01, -7.27097295e-02,  9.91095350e-01,  2.45922092e-01,\n",
       "       -1.23713579e-01, -5.17257125e-01, -2.40575221e-01,  7.61944876e-01,\n",
       "        7.38283292e-01, -1.23471823e-01, -2.12965645e-01,  2.54202670e-01,\n",
       "       -6.79015070e-01, -1.44215700e-02, -6.29662978e-01,  6.04423520e-01,\n",
       "       -2.52648442e-01,  1.54714168e-01, -4.03056005e-01,  1.24206175e-01,\n",
       "        3.53837388e-01, -5.74504771e-01,  4.99522255e-01,  9.51715117e-02,\n",
       "       -1.51514441e-02, -1.53131249e-01, -3.14781033e-01, -1.00363945e+00,\n",
       "        6.24288921e-01,  2.20564497e-01, -2.44809826e-01,  1.83144960e-02,\n",
       "       -7.16770733e-01,  8.12735894e-01, -5.67272435e-01, -8.79735748e-02,\n",
       "       -4.78097689e-01, -9.36083110e-02,  3.19279530e-01,  9.87173654e-01,\n",
       "        3.94937516e-01,  4.50578304e-01, -7.32918433e-01, -4.16059050e-01,\n",
       "       -1.76473707e+00, -2.96793389e-01,  7.40488670e-01,  8.24426779e-01,\n",
       "       -7.57757350e-01,  4.98289515e-01,  1.53654412e-01, -9.09766396e-01,\n",
       "       -6.63170749e-01, -2.03089121e-01,  6.22170265e-01, -6.40539553e-01,\n",
       "        6.34794659e-01, -3.86137531e-01, -6.06619367e-01,  4.96669096e-01,\n",
       "        4.97948060e-01, -3.93502383e-01, -1.13165894e+00, -6.79755018e-01,\n",
       "        7.58601952e-01, -1.28088186e-01,  1.59776220e-01,  8.27397652e-01,\n",
       "       -9.32117172e-01,  9.43192522e-01,  6.83935241e-02, -3.26938702e-01,\n",
       "        3.16311382e-01, -4.26379167e-01, -1.75610112e-01, -4.65375636e-01,\n",
       "        5.88660434e-02, -5.33609973e-01, -8.56591360e-01,  4.10262744e-01,\n",
       "       -1.48183316e-01, -3.57824490e-01,  6.45422988e-01, -9.54683390e-01,\n",
       "       -2.83108513e-01, -1.47898351e-01, -1.13412745e+00, -1.65519880e+00,\n",
       "        2.41897655e-01, -1.49694595e-01,  4.09887785e-01,  1.07412525e-01,\n",
       "       -3.62972485e-01, -8.53704556e-01, -4.36452238e-01, -5.25849103e-01,\n",
       "        3.72891075e-01, -1.73174040e-01,  3.32935519e-01,  1.15005476e+00,\n",
       "       -7.92737274e-02, -2.84306805e-01, -1.46097030e+00,  4.04232173e-01,\n",
       "       -1.66244100e-02,  1.13855709e-01, -3.54290437e-01, -4.94363810e-02,\n",
       "        5.32711200e-01, -1.28608187e-01,  6.80602830e-01, -5.42973396e-01,\n",
       "        1.35279951e-01,  3.32345375e-01,  3.96126511e-01,  1.29931178e-01,\n",
       "        6.46240223e-01,  1.73189678e-01,  4.37948320e-02, -2.23681023e-01,\n",
       "       -4.33433693e-01, -2.76693555e-01, -5.87947211e-01,  7.29069673e-01,\n",
       "        5.43250209e-01,  2.17033911e-01, -4.38873361e-02,  2.62406096e-01,\n",
       "       -5.76701133e-01,  2.10164445e-01,  4.11322104e-01,  4.09290633e-01,\n",
       "       -7.15541274e-02, -7.36348714e-02, -8.75094277e-01, -7.37109763e-03,\n",
       "        1.37366753e-01, -3.98142708e-02,  1.08974167e-02, -2.47010939e-01,\n",
       "       -3.08169408e-01,  4.63570453e-01,  4.16628617e-01,  4.18506152e-01,\n",
       "        1.60955337e-01,  1.00277198e+00, -6.32583831e-01,  5.29881365e-01,\n",
       "       -4.67186618e-01, -8.18073136e-02, -1.40718669e-01,  2.21811567e-01,\n",
       "        4.27713809e-02, -1.25615132e-01,  2.46656067e-01, -2.47837789e-01])"
      ]
     },
     "execution_count": 91,
     "metadata": {},
     "output_type": "execute_result"
    }
   ],
   "source": [
    "mu, kappa = 0.0, 4.0 # mean and dispersion\n",
    "s = np.random.vonmises(mu, kappa, 1000)\n",
    "s # Display array"
   ]
  },
  {
   "cell_type": "code",
   "execution_count": 99,
   "metadata": {},
   "outputs": [
    {
     "data": {
      "image/png": "[encoded data removed]",
      "text/plain": [
       "<Figure size 432x288 with 1 Axes>"
      ]
     },
     "metadata": {
      "needs_background": "light"
     },
     "output_type": "display_data"
    }
   ],
   "source": [
    "from scipy.special import i0 # import module\n",
    "# Plot histogram from von meises data\n",
    "plt.hist(s, 50, density=True)\n",
    "\n",
    "# create probability density function and plot with histogram\n",
    "x = np.linspace(-np.pi, np.pi, num=51) # np.linspaace command explained [15]\n",
    "y = np.exp(kappa*np.cos(x-mu))/(2*np.pi*i0(kappa))  \n",
    "plt.plot(x, y, linewidth=2, color='r')  # plot line\n",
    "plt.show()"
   ]
  },
  {
   "cell_type": "markdown",
   "metadata": {},
   "source": [
    "Above is an example of data graphed using the vonmeises distribution. [16]\n",
    "\n",
    "https://en.wikipedia.org/wiki/Von_Mises_distribution"
   ]
  },
  {
   "cell_type": "markdown",
   "metadata": {},
   "source": [
    "* ### Distribution 2: binomial\n",
    "https://numpy.org/doc/stable/reference/random/generated/numpy.random.Generator.binomial.html#numpy.random.Generator.binomial"
   ]
  },
  {
   "cell_type": "markdown",
   "metadata": {},
   "source": [
    "[1] https://numpy.org/doc/stable/reference/random/index.html\n",
    "\n",
    "[2] https://www.w3schools.com/python/numpy_random.asp\n",
    "\n",
    "[3] https://realpython.com/python-random/\n",
    "\n",
    "[4] https://numpy.org/doc/stable/reference/random/generator.html#numpy.random.Generator\n",
    "\n",
    "[5] https://numpy.org/doc/stable/reference/random/generated/numpy.random.rand.html#numpy.random.rand\n",
    "\n",
    "[6] https://numpy.org/doc/stable/reference/random/generated/numpy.random.Generator.integers.html#numpy.random.Generator.integers\n",
    "\n",
    "[7] https://numpy.org/doc/stable/reference/random/generated/numpy.random.Generator.choice.html#numpy.random.Generator.choice\n",
    "\n",
    "[8] https://numpy.org/doc/stable/reference/random/generated/numpy.random.Generator.bytes.html#numpy.random.Generator.bytes\n",
    "\n",
    "[9] https://numpy.org/doc/stable/reference/random/generated/numpy.random.Generator.shuffle.html#numpy.random.Generator.shuffle\n",
    "\n",
    "[10] https://numpy.org/doc/stable/reference/random/generated/numpy.random.Generator.permutation.html#numpy.random.Generator.permutation\n",
    "\n",
    "[11] https://en.wikipedia.org/wiki/Permutation\n",
    "\n",
    "[12] https://en.wikipedia.org/wiki/Rubik%27s_Cube#Permutations\n",
    "\n",
    "[13] https://numpy.org/doc/stable/reference/random/generated/numpy.random.vonmises.html#numpy.random.vonmises\n",
    "\n",
    "[14] https://www.statisticshowto.com/von-mises-distribution/\n",
    "\n",
    "[15] https://numpy.org/doc/stable/reference/generated/numpy.linspace.html\n",
    "\n",
    "[16] https://en.wikipedia.org/wiki/Von_Mises_distribution\n",
    "\n",
    "\n",
    "\n",
    "\n",
    "\n",
    "\n",
    "[2] https://docs.scipy.org/doc/numpy-1.15.0/reference/routines.random.html\n",
    "\n",
    "[3]  https://numpy.org/doc/stable/reference/random/generator.html#numpy.random.Generatorhttps://numpy.org/doc/stable/reference/random/generator.html#numpy.random.Generator\n"
   ]
  },
  {
   "cell_type": "code",
   "execution_count": 18,
   "metadata": {},
   "outputs": [
    {
     "data": {
      "text/plain": [
       "(array([  10.,   91.,  427., 1169., 2044., 2431., 2045., 1214.,  464.,\n",
       "         105.]),\n",
       " array([ 0.,  1.,  2.,  3.,  4.,  5.,  6.,  7.,  8.,  9., 10.]),\n",
       " <a list of 10 Patch objects>)"
      ]
     },
     "execution_count": 18,
     "metadata": {},
     "output_type": "execute_result"
    },
    {
     "data": {
      "image/png": "[encoded data removed]",
      "text/plain": [
       "<Figure size 432x288 with 1 Axes>"
      ]
     },
     "metadata": {
      "needs_background": "light"
     },
     "output_type": "display_data"
    }
   ],
   "source": [
    "rng = np.random.default_rng()\n",
    "n, p = 10, .5  # number of trials, probability of each trial\n",
    "s = rng.binomial(n, p, 10000)\n",
    "# result of flipping a coin 10 times, tested 1000 times.\n",
    "plt.hist(s, bins=10, range=None, rwidth=None, color=None, label=\"tEST\")\n",
    "\n",
    "# matplotlib.pyplot.hist(x, bins=2 range=None, rwidth=None, color=None, label=tEST)"
   ]
  },
  {
   "cell_type": "code",
   "execution_count": null,
   "metadata": {},
   "outputs": [],
   "source": []
  },
  {
   "cell_type": "markdown",
   "metadata": {},
   "source": [
    "* ### Distribution 3: chisquare\n",
    "https://numpy.org/doc/stable/reference/random/generated/numpy.random.Generator.chisquare.html#numpy.random.Generator.chisquare"
   ]
  },
  {
   "cell_type": "code",
   "execution_count": 19,
   "metadata": {},
   "outputs": [
    {
     "data": {
      "text/plain": [
       "(array([2., 0., 0., 0., 1., 1., 0., 0., 0., 1.]),\n",
       " array([ 1.76524394,  2.66960807,  3.5739722 ,  4.47833633,  5.38270046,\n",
       "         6.2870646 ,  7.19142873,  8.09579286,  9.00015699,  9.90452112,\n",
       "        10.80888526]),\n",
       " <a list of 10 Patch objects>)"
      ]
     },
     "execution_count": 19,
     "metadata": {},
     "output_type": "execute_result"
    },
    {
     "data": {
      "image/png": "[encoded data removed]",
      "text/plain": [
       "<Figure size 432x288 with 1 Axes>"
      ]
     },
     "metadata": {
      "needs_background": "light"
     },
     "output_type": "display_data"
    }
   ],
   "source": [
    "x = np.random.default_rng().chisquare(3,5)\n",
    "plt.hist(x)"
   ]
  },
  {
   "cell_type": "markdown",
   "metadata": {},
   "source": [
    "Further investigation needed - do other task first"
   ]
  },
  {
   "cell_type": "markdown",
   "metadata": {},
   "source": [
    "* ### Distribution 4: Uniform\n",
    "https://numpy.org/doc/stable/reference/random/generated/numpy.random.Generator.uniform.html#numpy.random.Generator.uniform\n"
   ]
  },
  {
   "cell_type": "code",
   "execution_count": 20,
   "metadata": {},
   "outputs": [
    {
     "data": {
      "text/plain": [
       "(array([1001446.,  998361., 1001903., 1001337.,  999297.,  998922.,\n",
       "        1000982.,  999536.,  999276.,  998940.]),\n",
       " array([ 0. ,  9.9, 19.8, 29.7, 39.6, 49.5, 59.4, 69.3, 79.2, 89.1, 99. ]),\n",
       " <a list of 10 Patch objects>)"
      ]
     },
     "execution_count": 20,
     "metadata": {},
     "output_type": "execute_result"
    },
    {
     "data": {
      "image/png": "[encoded data removed]",
      "text/plain": [
       "<Figure size 432x288 with 1 Axes>"
      ]
     },
     "metadata": {
      "needs_background": "light"
     },
     "output_type": "display_data"
    }
   ],
   "source": [
    "# set size = 10000000\n",
    "x = rng.integers(100, size=10000000)\n",
    "plt.hist(x)"
   ]
  },
  {
   "cell_type": "markdown",
   "metadata": {},
   "source": [
    "This is generally the distribution expected from a computer when a random generated number is needed. So the number 4 is as likely to come out as the number 10,000 etc. It will generate all numbers with the same probability."
   ]
  },
  {
   "cell_type": "markdown",
   "metadata": {},
   "source": [
    "* ### Distribution 5: normal\n",
    "https://numpy.org/doc/stable/reference/random/generated/numpy.random.normal.html#numpy.random.normal\n"
   ]
  },
  {
   "cell_type": "code",
   "execution_count": 21,
   "metadata": {},
   "outputs": [],
   "source": [
    " # Students heights - centerd around middle. distribouts towards each side. "
   ]
  },
  {
   "cell_type": "code",
   "execution_count": 22,
   "metadata": {},
   "outputs": [
    {
     "data": {
      "text/plain": [
       "(array([  4.,  18.,  84., 130., 223., 242., 168.,  82.,  39.,  10.]),\n",
       " array([-0.31086647, -0.25123135, -0.19159624, -0.13196112, -0.072326  ,\n",
       "        -0.01269088,  0.04694424,  0.10657936,  0.16621447,  0.22584959,\n",
       "         0.28548471]),\n",
       " <a list of 10 Patch objects>)"
      ]
     },
     "execution_count": 22,
     "metadata": {},
     "output_type": "execute_result"
    },
    {
     "data": {
      "image/png": "[encoded data removed]",
      "text/plain": [
       "<Figure size 432x288 with 1 Axes>"
      ]
     },
     "metadata": {
      "needs_background": "light"
     },
     "output_type": "display_data"
    }
   ],
   "source": [
    "mu, sigma = 0, 0.1 # mean and standard deviation\n",
    "s = np.random.normal(mu, sigma, 1000)\n",
    "plt.hist(s)"
   ]
  },
  {
   "cell_type": "code",
   "execution_count": 23,
   "metadata": {},
   "outputs": [
    {
     "data": {
      "image/png": "[encoded data removed]",
      "text/plain": [
       "<Figure size 432x288 with 1 Axes>"
      ]
     },
     "metadata": {
      "needs_background": "light"
     },
     "output_type": "display_data"
    }
   ],
   "source": [
    "# Probability density function plotted\n",
    "\n",
    "count, bins, ignored = plt.hist(s, 30, density=True)\n",
    "plt.plot(bins, 1/(sigma * np.sqrt(2 * np.pi)) *\n",
    "               np.exp( - (bins - mu)**2 / (2 * sigma**2) ),\n",
    "         linewidth=2, color='r')\n",
    "plt.show()"
   ]
  },
  {
   "cell_type": "markdown",
   "metadata": {},
   "source": [
    "This allows us to match the probability expected with real world data. eg. class heights. etc. \n",
    "\n",
    "research Gausian distributions\n",
    "\n",
    "https://en.wikipedia.org/wiki/Normal_distribution"
   ]
  },
  {
   "cell_type": "markdown",
   "metadata": {},
   "source": [
    "# NOTE - add extra dividers in distribution curves"
   ]
  },
  {
   "cell_type": "markdown",
   "metadata": {},
   "source": [
    "## 4. Explain the use of seeds in generating pseudorandom numbers.\n",
    "\n",
    "------------\n"
   ]
  },
  {
   "cell_type": "markdown",
   "metadata": {},
   "source": [
    "https://numpy.org/doc/stable/reference/random/generated/numpy.random.seed.html#numpy.random.seed\n",
    "\n",
    "For legacy reasons. Further research needed\n",
    "\n",
    "https://numpy.org/doc/stable/reference/random/bit_generators/mt19937.html"
   ]
  },
  {
   "cell_type": "code",
   "execution_count": null,
   "metadata": {},
   "outputs": [],
   "source": []
  },
  {
   "cell_type": "markdown",
   "metadata": {},
   "source": [
    "## References\n",
    "----------"
   ]
  },
  {
   "cell_type": "code",
   "execution_count": null,
   "metadata": {},
   "outputs": [],
   "source": []
  }
 ],
 "metadata": {
  "kernelspec": {
   "display_name": "Python 3",
   "language": "python",
   "name": "python3"
  },
  "language_info": {
   "codemirror_mode": {
    "name": "ipython",
    "version": 3
   },
   "file_extension": ".py",
   "mimetype": "text/x-python",
   "name": "python",
   "nbconvert_exporter": "python",
   "pygments_lexer": "ipython3",
   "version": "3.8.3"
  }
 },
 "nbformat": 4,
 "nbformat_minor": 4
}
