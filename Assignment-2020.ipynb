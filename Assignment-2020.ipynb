{
 "cells": [
  {
   "cell_type": "markdown",
   "metadata": {},
   "source": [
    "# Programming for Data Analytics -  numpy.random - Assignment\n",
    "### Eoin Lees - G00387888 - November 2020\n",
    "------------"
   ]
  },
  {
   "cell_type": "markdown",
   "metadata": {},
   "source": [
    "## Section 1. Explain the overall purpose of the package.\n",
    "--------------"
   ]
  },
  {
   "cell_type": "markdown",
   "metadata": {},
   "source": [
    "## <u>numpy.random</u> \n",
    "\n",
    "The overall purpose of the numpy.random package is to \"produce pseudo random numbers using combinations of a BitGenerator to create sequences and a Generator to use those sequences to sample from different statistical distributions\" [1]\n",
    "\n",
    "A random number does not mean a different number every time. Random means something that cannot be predicted logically. In order for a computer to achieve this it uses BitGenerators to create a number based on a generation algorithm. These are known as psudo random numbers. [2]\n",
    "\n",
    "\n",
    "##### BitGenerators: \n",
    "\n",
    "Objects that generate random numbers. These are typically unsigned integer words filled with sequences of either 32 or 64 random bits. There are a number of different generators than can be used for this since Numpy version 1.17.0. The use of seeds and there effects on this is explored further in section 4.   \n",
    "\n",
    "##### Generators: \n",
    "\n",
    "Objects that transform sequences of random bits from a BitGenerator into sequences of numbers that follow a specific probability distribution (such as uniform, Normal or Binomial) within a specified interval. In this document there is a description of the following distributions  in section 3: \n",
    "\n",
    "* Von meises \n",
    "* Binomial\n",
    "* Uniform\n",
    "* Normal\n",
    "* Chi squared\n",
    "\n",
    "[3]\n",
    "It is possible to create real random numbers using a true random number generator. An example of this can be seen at https://www.random.org/integers/ which uses atmospheric noise to create true random numbers. However this is a lot more involved and for the purpose of this analysis not relevant. \n",
    "\n",
    "It is worth noteing however that it is commonly reccomended not use psudo-random number generators if you require a cryptographically secure number. "
   ]
  },
  {
   "cell_type": "code",
   "execution_count": 1,
   "metadata": {},
   "outputs": [],
   "source": [
    "# Import all modules for this notebook\n",
    "import numpy as np\n",
    "import matplotlib.pyplot as plt\n",
    "import seaborn as sns"
   ]
  },
  {
   "cell_type": "markdown",
   "metadata": {},
   "source": [
    "## Section 2. Explain the use of the “Simple random data” and “Permutations” functions.\n",
    "-----------"
   ]
  },
  {
   "cell_type": "markdown",
   "metadata": {},
   "source": [
    "## <u>Simple Random Data</u>\n",
    "\n",
    "[4]\n",
    "\n",
    "Simple random data is broken down below into the following:\n",
    "\n",
    "* random\n",
    "* integers\n",
    "* choice\n",
    "* bytes\n",
    "\n",
    "-------------\n"
   ]
  },
  {
   "cell_type": "markdown",
   "metadata": {},
   "source": [
    "* ### Random\n",
    "\n",
    "**numpy.random.rand(d0, d1, ..., dn)**\n",
    "\n",
    "Creates a random number between 0 and 1 that is uniformilly distributed. [5]\n",
    "\n",
    "* Parameters \n",
    "    * d0, d1, …, dnint, optional\n",
    "    * The dimensions of the returned array, must be non-negative. If no argument is given a single Python float is returned.\n",
    "\n",
    "* Returns\n",
    "    * out: ndarray, shape (d0, d1, ..., dn)\n",
    "    * Random values.\n",
    "\n",
    "Note: for more information on this function see numpy documentation. [5]\n",
    "\n",
    "Examples:"
   ]
  },
  {
   "cell_type": "code",
   "execution_count": 2,
   "metadata": {},
   "outputs": [
    {
     "data": {
      "text/plain": [
       "0.7605309095106956"
      ]
     },
     "execution_count": 2,
     "metadata": {},
     "output_type": "execute_result"
    }
   ],
   "source": [
    "np.random.rand()\n",
    "# creates a random number between 0 and 1. Uniformily distributed. "
   ]
  },
  {
   "cell_type": "code",
   "execution_count": 3,
   "metadata": {},
   "outputs": [
    {
     "data": {
      "text/plain": [
       "array([[0.95336108, 0.23565752],\n",
       "       [0.90891174, 0.26923782],\n",
       "       [0.27868305, 0.77981463],\n",
       "       [0.51765927, 0.51471566]])"
      ]
     },
     "execution_count": 3,
     "metadata": {},
     "output_type": "execute_result"
    }
   ],
   "source": [
    "x = np.random.rand(4,2)\n",
    "# creates an array with 4 lists of 2 random numbers \n",
    "x"
   ]
  },
  {
   "cell_type": "markdown",
   "metadata": {},
   "source": [
    "The above examples show how to use numpy.random.rand(). As stated in the parameters the dimensions of the returned array must be non negative. \n",
    "\n",
    "-------------"
   ]
  },
  {
   "cell_type": "markdown",
   "metadata": {},
   "source": [
    "* ### Integers\n",
    "\n",
    "**Generator.integers(low, high=None, size=None, dtype=np.int64, endpoint=False)**\n",
    "\n",
    "Integers returns random integers from low to high (not included). it returns ranndom integers from the “discrete uniform” distribution of the specified dtype. If high is None (the default), then results are from 0 to low. [6]\n",
    "\n",
    "* Parameters \n",
    "    * low: the lowest value to select from. \n",
    "    * high: the highest value to select from. \n",
    "    * size: the output shape. number of values returned or number of values and lists returned. \n",
    "    * dtype: dtype, default is np.int64\n",
    "    * endpoint: If true, sample from the interval [low, high] instead of the default [low, high) Defaults to False\n",
    "   \n",
    "\n",
    "* Returns\n",
    "    * out: (int or ndarray of ints) size-shaped array of random integers from the appropriate distribution, or a single such random int if size not provided.\n",
    "\n",
    "Note: for more information on this function see numpy documentation. [6]\n",
    "\n",
    "Examples:\n"
   ]
  },
  {
   "cell_type": "code",
   "execution_count": 4,
   "metadata": {},
   "outputs": [],
   "source": [
    "#  create rng - random number generator object\n",
    "rng = np.random.default_rng()"
   ]
  },
  {
   "cell_type": "code",
   "execution_count": 5,
   "metadata": {},
   "outputs": [
    {
     "data": {
      "text/plain": [
       "array([1, 0, 1, 1, 2, 1, 1, 0, 0, 1, 2, 0, 2, 1, 1], dtype=int64)"
      ]
     },
     "execution_count": 5,
     "metadata": {},
     "output_type": "execute_result"
    }
   ],
   "source": [
    "# use rng to generate sequence of random integers\n",
    "rng.integers(3, size=15)"
   ]
  },
  {
   "cell_type": "markdown",
   "metadata": {},
   "source": [
    "This generates a series of 15 numbers up to but not inclusive of 3. The data type is \"int64\" by default. It shows how by default the low parameter is 0 and the high value is stated as 3. "
   ]
  },
  {
   "cell_type": "code",
   "execution_count": 6,
   "metadata": {},
   "outputs": [
    {
     "data": {
      "text/plain": [
       "array([[1, 2, 1, 3, 2],\n",
       "       [1, 2, 1, 0, 0],\n",
       "       [3, 0, 4, 1, 0]], dtype=int64)"
      ]
     },
     "execution_count": 6,
     "metadata": {},
     "output_type": "execute_result"
    }
   ],
   "source": [
    "# using the size parameter to generate a 3 x 5 array.\n",
    "rng.integers(5, size=(3, 5))"
   ]
  },
  {
   "cell_type": "markdown",
   "metadata": {},
   "source": [
    "Again this demonstrates the high value set at 5. The size parameter states two variables, the first is the number of arrays, in this case three. The second states the number of elements in each array. The size parameter allows further dimension to be added along the 3rd and 4th dimensions etc. This allows complex data structures be formed. "
   ]
  },
  {
   "cell_type": "code",
   "execution_count": 7,
   "metadata": {
    "scrolled": true
   },
   "outputs": [],
   "source": [
    "# Test the distribution of the random data\n",
    "x = rng.integers(100, size=100)"
   ]
  },
  {
   "cell_type": "markdown",
   "metadata": {},
   "source": [
    "Here we create an array of 100 values in order to determine what kind of distribution is set as default. "
   ]
  },
  {
   "cell_type": "code",
   "execution_count": 8,
   "metadata": {},
   "outputs": [
    {
     "data": {
      "text/plain": [
       "(array([12., 10., 13.,  4., 11.,  8., 12., 15.,  9.,  6.]),\n",
       " array([ 1. , 10.8, 20.6, 30.4, 40.2, 50. , 59.8, 69.6, 79.4, 89.2, 99. ]),\n",
       " <a list of 10 Patch objects>)"
      ]
     },
     "execution_count": 8,
     "metadata": {},
     "output_type": "execute_result"
    },
    {
     "data": {
      "image/png": "[encoded data removed]",
      "text/plain": [
       "<Figure size 432x288 with 1 Axes>"
      ]
     },
     "metadata": {
      "needs_background": "light"
     },
     "output_type": "display_data"
    }
   ],
   "source": [
    "# Create histogram of plot\n",
    "plt.hist(x)"
   ]
  },
  {
   "cell_type": "markdown",
   "metadata": {},
   "source": [
    "This profile is quite varied. It does not allow us to determine much based off the limited number of random values. "
   ]
  },
  {
   "cell_type": "code",
   "execution_count": 9,
   "metadata": {},
   "outputs": [
    {
     "data": {
      "text/plain": [
       "(array([1000080., 1000486.,  998951., 1000206.,  999722., 1000294.,\n",
       "         999531., 1001248.,  999511.,  999971.]),\n",
       " array([ 0. ,  9.9, 19.8, 29.7, 39.6, 49.5, 59.4, 69.3, 79.2, 89.1, 99. ]),\n",
       " <a list of 10 Patch objects>)"
      ]
     },
     "execution_count": 9,
     "metadata": {},
     "output_type": "execute_result"
    },
    {
     "data": {
      "image/png": "[encoded data removed]",
      "text/plain": [
       "<Figure size 432x288 with 1 Axes>"
      ]
     },
     "metadata": {
      "needs_background": "light"
     },
     "output_type": "display_data"
    }
   ],
   "source": [
    "# set size = 10000000\n",
    "x = rng.integers(100, size=10000000)\n",
    "plt.hist(x)"
   ]
  },
  {
   "cell_type": "markdown",
   "metadata": {},
   "source": [
    "When we set the size the ten million we see that the profile of this data is flat. The distribution of numbers into each 20 unit bar seems to be the same.\n",
    "This is known as a uniform distribution, which is rare in a real world situation. \n",
    "\n",
    "--------------"
   ]
  },
  {
   "cell_type": "markdown",
   "metadata": {},
   "source": [
    "* ### Choice \n",
    "\n",
    "**Generator.choice(a, size=None, replace=True, p=None, axis=0, shuffle=True)**\n",
    " \n",
    " Creates a random sample from a given array. [7]\n",
    " \n",
    "\n",
    "* Parameters \n",
    "    * a: array. if ndarray, random sample generated from its elements. if int, random sample generated from np.arrange(a)\n",
    "    * size: output size\n",
    "    * replace: Whether the sample is with or without replacement\n",
    "    * p: the probabilities associated with each entry in a. \n",
    "    * axis: The axis along which the selection is performed. The default, 0, selects by row.\n",
    "    * shuffle: Whether the sample is shuffled when sampling without replacement. \n",
    "\n",
    "\n",
    "* Returns\n",
    "    * samples: returns a single item or the generated ndarray\n",
    "\n",
    "Note: for more information on this function see numpy documentation. [7]\n",
    "\n",
    "Examples:"
   ]
  },
  {
   "cell_type": "code",
   "execution_count": 10,
   "metadata": {},
   "outputs": [
    {
     "data": {
      "text/plain": [
       "array([8, 2, 2], dtype=int64)"
      ]
     },
     "execution_count": 10,
     "metadata": {},
     "output_type": "execute_result"
    }
   ],
   "source": [
    "rng = np.random.default_rng()\n",
    "rng.choice(10, 3)\n",
    "\n",
    "#This is equivalent to rng.integers(0,5,3)\n",
    "# Picks 3 random numbers between 0 and 10\n",
    "# generate a uniform random sample from np.arange(5) of size 3:\n"
   ]
  },
  {
   "cell_type": "code",
   "execution_count": 11,
   "metadata": {},
   "outputs": [
    {
     "data": {
      "text/plain": [
       "(array([ 9940.,  9947.,  9953., 10028., 10033.,  9917.,  9985., 10055.,\n",
       "        10017., 10125.]),\n",
       " array([0. , 0.9, 1.8, 2.7, 3.6, 4.5, 5.4, 6.3, 7.2, 8.1, 9. ]),\n",
       " <a list of 10 Patch objects>)"
      ]
     },
     "execution_count": 11,
     "metadata": {},
     "output_type": "execute_result"
    },
    {
     "data": {
      "image/png": "[encoded data removed]",
      "text/plain": [
       "<Figure size 432x288 with 1 Axes>"
      ]
     },
     "metadata": {
      "needs_background": "light"
     },
     "output_type": "display_data"
    }
   ],
   "source": [
    "# show that sample is uniformly distributed\n",
    "x = rng.choice(10, 100000)\n",
    "plt.hist(x)"
   ]
  },
  {
   "cell_type": "markdown",
   "metadata": {},
   "source": [
    "The histogram shows that the data produced by choice is uniformly distributed. "
   ]
  },
  {
   "cell_type": "code",
   "execution_count": 12,
   "metadata": {},
   "outputs": [
    {
     "data": {
      "text/plain": [
       "array(['tar', 'tar'], dtype='<U4')"
      ]
     },
     "execution_count": 12,
     "metadata": {},
     "output_type": "execute_result"
    }
   ],
   "source": [
    "rng.choice([\"car\", \"bar\", \"star\", \"tar\"], 2)\n",
    "\n",
    "# generates a random sample of size 2 of the list given. "
   ]
  },
  {
   "cell_type": "markdown",
   "metadata": {},
   "source": [
    "The choice command can be used to randomly select inputted strings also as shown above."
   ]
  },
  {
   "cell_type": "code",
   "execution_count": 13,
   "metadata": {},
   "outputs": [
    {
     "data": {
      "text/plain": [
       "array(['bar', 'star', 'star', 'star'], dtype='<U4')"
      ]
     },
     "execution_count": 13,
     "metadata": {},
     "output_type": "execute_result"
    }
   ],
   "source": [
    "rng.choice([\"car\", \"bar\", \"star\", \"tar\"], 4, p=[0.1, 0.1, 0.6, 0.2])\n",
    "# adding probabilities"
   ]
  },
  {
   "cell_type": "code",
   "execution_count": 14,
   "metadata": {},
   "outputs": [
    {
     "data": {
      "text/plain": [
       "(array([5973.,    0.,    0.,  971.,    0.,    0., 1049.,    0.,    0.,\n",
       "        2007.]),\n",
       " array([0. , 0.3, 0.6, 0.9, 1.2, 1.5, 1.8, 2.1, 2.4, 2.7, 3. ]),\n",
       " <a list of 10 Patch objects>)"
      ]
     },
     "execution_count": 14,
     "metadata": {},
     "output_type": "execute_result"
    },
    {
     "data": {
      "image/png": "[encoded data removed]",
      "text/plain": [
       "<Figure size 432x288 with 1 Axes>"
      ]
     },
     "metadata": {
      "needs_background": "light"
     },
     "output_type": "display_data"
    }
   ],
   "source": [
    "x = rng.choice([\"car\", \"bar\", \"star\", \"tar\"], 10000, p=[0.1, 0.1, 0.6, 0.2])\n",
    "plt.hist(x)\n",
    "# plotting command run 10000 times"
   ]
  },
  {
   "cell_type": "markdown",
   "metadata": {},
   "source": [
    "Using the p parameter we can set the probability of each entity. We can prove this probability by running the command 10,000 times and protting the results. \n",
    "\n",
    "-----------------"
   ]
  },
  {
   "cell_type": "markdown",
   "metadata": {},
   "source": [
    "* ### Bytes\n",
    "\n",
    "**Generator.bytes(length)**\n",
    "\n",
    "Returns a string of random bytes of specified length method : Generator.bytes(length) \n",
    "\n",
    "* Parameters \n",
    "    * length: the number of random bytes required. \n",
    "   \n",
    "* Returns\n",
    "    * out: string of length length\n",
    "\n",
    "Note: for more information on this function see numpy documentation. [8]\n",
    "\n",
    "Examples:"
   ]
  },
  {
   "cell_type": "code",
   "execution_count": 15,
   "metadata": {},
   "outputs": [
    {
     "data": {
      "text/plain": [
       "b'\\xf4\\x0f^\\xbf\\xc6W\\xd2|\\xb6H\\x06\\xf8\\xce\\x8d\\x1a\\xf7]8\\xd9\"'"
      ]
     },
     "execution_count": 15,
     "metadata": {},
     "output_type": "execute_result"
    }
   ],
   "source": [
    "np.random.default_rng().bytes(20)"
   ]
  },
  {
   "cell_type": "markdown",
   "metadata": {},
   "source": [
    "Returns a string of random bytes of length 20. \n",
    "\n",
    "--------------"
   ]
  },
  {
   "cell_type": "markdown",
   "metadata": {},
   "source": [
    "## <u>Permutations</u>\n",
    "-----------\n",
    "\n"
   ]
  },
  {
   "cell_type": "markdown",
   "metadata": {},
   "source": [
    "* ### Shuffle\n",
    "\n",
    "**Generator.shuffle(x, axis=0)**\n",
    " \n",
    "Modifies a sequence by change the order of its contents. The contents remain unchanged, only their order is changed. [9]\n",
    " \n",
    "\n",
    "* Parameters \n",
    "    * x: the array or list to be shuffled\n",
    "    * axis: the axis to shuffle x along. \n",
    "\n",
    "* Returns\n",
    "    * None\n",
    "    \n",
    "Note: for more information on this function see numpy documentation. [9]\n",
    "\n",
    "Examples"
   ]
  },
  {
   "cell_type": "code",
   "execution_count": 16,
   "metadata": {},
   "outputs": [
    {
     "name": "stdout",
     "output_type": "stream",
     "text": [
      "The following is 10 numbers arranged in ascending order:  [0 1 2 3 4 5 6 7 8 9]\n",
      "The following is the same 10 numbers shuffled and reprinted:  [7 5 8 3 9 1 0 6 2 4]\n"
     ]
    }
   ],
   "source": [
    "# Example of arrange on integers. \n",
    "\n",
    "arr = np.arange(10)\n",
    "\n",
    "print(\"The following is 10 numbers arranged in ascending order: \", arr)\n",
    "rng.shuffle(arr)\n",
    "print(\"The following is the same 10 numbers shuffled and reprinted: \", arr)"
   ]
  },
  {
   "cell_type": "code",
   "execution_count": 17,
   "metadata": {},
   "outputs": [
    {
     "name": "stdout",
     "output_type": "stream",
     "text": [
      "['tar', 'star', 'bar', 'car']\n"
     ]
    }
   ],
   "source": [
    "# Using shuffle to shuffle a list of strings. \n",
    "\n",
    "x = [\"car\", \"bar\", \"star\", \"tar\"]\n",
    "np.random.shuffle(x)\n",
    "print(x)"
   ]
  },
  {
   "cell_type": "markdown",
   "metadata": {},
   "source": [
    "Shuffle is a simple command that can be used to easily mix the arrangement of a list randomly as show above. The data can be a list, a tuple or a string. \n",
    "\n",
    "--------------------"
   ]
  },
  {
   "cell_type": "markdown",
   "metadata": {},
   "source": [
    "* ### Permutations\n",
    "\n",
    "**Generator.permutation(x, axis=0)**\n",
    " \n",
    "randomly permutes a sequence or returnes a range of permuted values. [10] \n",
    "\n",
    "\"In mathematics, a permutation of a set is an arrangement of its members into a sequence or linear order, or if the set is already ordered, a rearrangement of its elements. The word \"permutation\" also refers to the act or process of changing the linear order of an ordered set\" [11]\n",
    " \n",
    "\n",
    "* Parameters \n",
    "    * x: Randomly permutate if x is integar. If array, make copy then shuffle elements.\n",
    "    * axis: The axis which x is shuffled along. Default is 0.\n",
    "\n",
    "* Returns\n",
    "    * out: ndarray - permuted sequence or array range. \n",
    "    \n",
    "Note: for more information on this function see numpy documentation. [10]\n",
    "\n",
    "Examples\n"
   ]
  },
  {
   "cell_type": "code",
   "execution_count": 18,
   "metadata": {},
   "outputs": [
    {
     "data": {
      "text/plain": [
       "array([0, 6, 3, 2, 8, 5, 4, 1, 7, 9])"
      ]
     },
     "execution_count": 18,
     "metadata": {},
     "output_type": "execute_result"
    }
   ],
   "source": [
    "# permutate \n",
    "rng.permutation(10)"
   ]
  },
  {
   "cell_type": "code",
   "execution_count": 19,
   "metadata": {},
   "outputs": [
    {
     "data": {
      "text/plain": [
       "array([ 4,  2, 18,  5, 16,  9])"
      ]
     },
     "execution_count": 19,
     "metadata": {},
     "output_type": "execute_result"
    }
   ],
   "source": [
    "# permutate given list\n",
    "rng.permutation([2, 4, 5, 9, 16, 18])"
   ]
  },
  {
   "cell_type": "code",
   "execution_count": 20,
   "metadata": {},
   "outputs": [
    {
     "name": "stdout",
     "output_type": "stream",
     "text": [
      "First set: \n",
      " [[ 0  1  2  3]\n",
      " [ 4  5  6  7]\n",
      " [ 8  9 10 11]\n",
      " [12 13 14 15]]\n",
      "second set: \n",
      " [[ 4  5  6  7]\n",
      " [ 8  9 10 11]\n",
      " [ 0  1  2  3]\n",
      " [12 13 14 15]]\n"
     ]
    }
   ],
   "source": [
    "# example of permutation command on printed set of data. \n",
    "arr = np.arange(16).reshape((4, 4))\n",
    "print(\"First set: \\n\", arr)\n",
    "print(\"second set: \\n\", rng.permutation(arr))"
   ]
  },
  {
   "cell_type": "markdown",
   "metadata": {},
   "source": [
    "Permutations is another method of rearranging data. The feild of permutations is detailed and well studied. A rubix cube is a practical example of permutations. Each time you turn the cube there is another set of the same data in a different permutation. More information can be found here. [12]\n",
    "\n",
    "------------"
   ]
  },
  {
   "cell_type": "markdown",
   "metadata": {},
   "source": [
    "## Section 3. Explain the use and purpose of at least five “Distributions” functions.\n",
    "------------"
   ]
  },
  {
   "cell_type": "markdown",
   "metadata": {},
   "source": [
    "* ### Distribution 1: von meises\n",
    "\n",
    "**numpy.random.vonmises(mu, kappa, size=None)**\n",
    " \n",
    "Draws a sample from a von meises distribution. Samples are drawn with specific mode(mu) and dispersion(kappa) on the interval [-π, π]  [13] \n",
    "\n",
    "\"The Von Mises distribution (also called the circular normal or Tikhonov distribution) is a continuous probability distribution with a range from 0 to 2π, aka a circle. It is similar to the normal distribution, except coordinates are placed on a circular plane. The von Mises distribution can be thought of as a special case of the Von Mises-Fisher distribution, which is an extension of the distribution to multi-dimensional spheres.\n",
    "\n",
    "The distribution was first described by Richard von Mises in 1918 as a way to model the distribution of atomic weights. It’s now used to model a variety of phenomena including:\n",
    "\n",
    "* Brownian motion (Physics),\n",
    "* Epidemiology (spread of disease),\n",
    "* Interference Alignment (Signal Processing),\n",
    "* Privacy-preserving algorithms in (Machine Learning).\" [14]\n",
    " \n",
    "\n",
    "* Parameters \n",
    "    * mu: mode or centre of the distribution.\n",
    "    * kappa: dispersion of teh distribution. Must be greater than or equal to 0. \n",
    "    * size: output shape.\n",
    "    \n",
    "* Returns\n",
    "    * out: ndarray or scalar - Drawn samples from the parameterized von Mises distribution. \n",
    "    \n",
    "Note: for more information on this function see numpy documentation. [13]\n",
    "\n",
    "Examples"
   ]
  },
  {
   "cell_type": "code",
   "execution_count": 21,
   "metadata": {
    "scrolled": true
   },
   "outputs": [
    {
     "data": {
      "text/plain": [
       "array([ 1.91473225e-01,  6.36207107e-01, -7.12470207e-01,  4.80237313e-01,\n",
       "        3.34588895e-01, -5.85626837e-01, -1.33178531e+00,  2.14016416e-01,\n",
       "        6.72889796e-01,  5.64137694e-01,  1.56534158e-01,  4.50513689e-01,\n",
       "       -7.68026645e-01, -1.57893874e+00, -9.79388979e-02,  9.86077583e-01,\n",
       "        1.20094477e-01,  2.90284692e-02, -3.39072413e-01,  2.72399356e-01,\n",
       "        2.98774989e-01,  8.09955430e-02,  2.10137698e-01, -1.34714316e-01,\n",
       "       -6.98983509e-01, -1.22842291e-01,  2.36417000e-02, -3.80472690e-01,\n",
       "       -5.78246021e-01, -1.42760087e-01, -1.28665699e-01,  2.88179389e-01,\n",
       "        7.35140789e-01, -5.36300358e-01, -2.14452357e-01, -9.20314617e-02,\n",
       "        2.53411157e-02, -2.98248189e-01, -9.90922959e-01,  9.31568984e-02,\n",
       "       -5.16021281e-02,  3.62918561e-01,  1.06215398e-01,  9.26243569e-01,\n",
       "       -7.27847794e-04,  7.25455462e-01,  8.14164578e-01,  6.90583865e-01,\n",
       "        7.45373548e-01,  1.57550635e+00,  9.72304223e-02, -1.72855193e-01,\n",
       "       -4.51036307e-01,  9.31940450e-01, -6.20689721e-01, -8.09157223e-01,\n",
       "        6.02744059e-01,  6.00034659e-01,  1.35104559e+00, -1.75808151e-02,\n",
       "       -5.57444046e-01, -7.29180892e-01, -2.99429790e-01,  3.41196619e-01,\n",
       "        9.45543467e-01, -1.25772939e+00,  1.08351749e+00,  5.88521029e-02,\n",
       "        3.54406758e-01, -1.07487892e-01,  8.99587347e-01, -4.35119899e-01,\n",
       "        5.43943446e-01, -6.63586440e-01, -2.93051773e-01,  6.53199064e-01,\n",
       "       -5.68753411e-01,  1.48334198e-01,  1.08339304e-01,  2.57687805e-01,\n",
       "       -1.98425855e+00,  2.75017355e-02,  5.60792377e-01,  6.03133959e-01,\n",
       "       -1.13269707e+00, -1.17687584e-01, -8.77197416e-01, -2.77092765e-02,\n",
       "       -7.41220068e-01,  9.66387885e-01, -2.07360799e-01, -1.28847965e-01,\n",
       "       -7.68109200e-01,  2.73283819e-01, -8.53613225e-01, -4.87752284e-01,\n",
       "       -7.99941723e-01, -3.13998634e-01, -6.86141513e-01,  3.68502418e-01,\n",
       "       -2.30956746e-01,  6.85979178e-01, -3.50000785e-01,  4.53758718e-01,\n",
       "       -1.24521490e-01,  3.36039054e-01,  1.64540864e-01,  3.04791203e-01,\n",
       "        7.55991464e-01,  6.14403378e-01,  6.54173052e-01, -1.18204184e+00,\n",
       "       -1.52053910e-01, -5.78772131e-01,  1.15103009e+00,  6.90225353e-01,\n",
       "       -4.38742651e-01, -1.75820593e-01, -2.55305809e-01,  3.39538283e-01,\n",
       "        3.65426320e-01,  8.36020972e-01, -1.11111231e-01,  3.90990948e-01,\n",
       "       -4.79002020e-01, -3.47037876e-01, -5.00630032e-01,  8.68416136e-01,\n",
       "       -8.79343707e-01, -1.76291495e-01,  8.00700725e-02,  5.44105773e-01,\n",
       "        1.38892490e-01,  6.96388643e-01,  2.42101654e-01, -3.90993805e-01,\n",
       "       -6.01378911e-01, -4.30218791e-01,  4.72656415e-01, -2.00677699e-03,\n",
       "       -7.04254917e-01,  8.07399183e-01, -1.01608031e+00,  2.08644176e-01,\n",
       "       -5.29169529e-01, -7.78945771e-01, -1.67733162e-01,  1.76756670e-01,\n",
       "       -7.04821781e-01,  9.06323727e-01, -6.74039157e-01, -1.79593414e-01,\n",
       "        5.13920087e-01, -1.93223019e-01,  4.80373530e-03, -2.40861197e-01,\n",
       "        4.80902053e-01,  5.41702376e-01,  3.82018897e-02, -4.03316631e-01,\n",
       "        5.21917029e-01,  2.62930553e-01, -5.69581130e-02,  3.63596072e-01,\n",
       "        7.99667878e-01, -5.12290092e-02,  2.67944530e-01, -4.88671617e-02,\n",
       "       -2.51756347e-01, -2.21100169e-01, -7.36220941e-01, -9.85140055e-01,\n",
       "       -9.05739016e-01,  1.38399446e-01, -2.61578029e-01,  1.45388961e-02,\n",
       "        6.52910046e-01, -4.89222773e-01,  8.89339796e-01, -2.56437054e-01,\n",
       "        1.47730157e-01,  4.39676186e-01,  1.07089355e-01, -4.38655317e-01,\n",
       "       -6.54407568e-02, -6.57604185e-01, -8.17625666e-02,  3.15479445e-01,\n",
       "       -7.04939055e-01,  4.41431409e-02, -6.46792313e-03, -9.45055367e-01,\n",
       "       -5.43151616e-01,  2.39202452e-01,  9.41000630e-01,  8.06518674e-01,\n",
       "        5.95809042e-01, -2.18161390e-02, -1.95758847e-02,  7.96101205e-01,\n",
       "        6.52778089e-01, -5.13980558e-01, -2.21474623e-01, -1.41887526e+00,\n",
       "        3.68745153e-01, -1.06773715e-01, -3.16912272e-01,  6.08557374e-01,\n",
       "        3.85311625e-01, -3.79996617e-01, -5.85044509e-01, -1.62390239e-01,\n",
       "        8.87555299e-02, -3.56791428e-01,  2.28309762e-01, -6.29205495e-01,\n",
       "       -4.49846657e-02,  2.41574931e-02,  3.36261586e-01, -5.43250997e-01,\n",
       "        8.49594407e-01, -5.16623917e-01, -1.93927368e-01,  5.76707611e-01,\n",
       "        2.02739262e-01, -6.40065947e-01,  1.65367279e-01, -2.60706529e-01,\n",
       "        3.40777813e-02,  1.99517307e-01,  8.91544160e-01, -2.51996342e-01,\n",
       "       -4.80143778e-01, -9.79575450e-01, -5.81540079e-01, -4.58505909e-01,\n",
       "       -1.34133070e-01, -8.21547421e-01, -1.09415252e-02, -4.20480206e-01,\n",
       "       -4.44802390e-02, -6.40110073e-02, -1.94412350e-01,  6.27665472e-01,\n",
       "       -1.87598569e-02,  7.41811195e-02,  3.33493256e-01,  5.06274951e-01,\n",
       "        1.21672772e-01, -4.36399955e-02, -5.66722732e-01, -5.70992752e-01,\n",
       "       -1.02549628e+00, -4.31122193e-01, -3.87140379e-01,  3.01612774e-01,\n",
       "       -4.58068570e-01,  7.08005162e-02,  7.49450078e-01,  9.92249063e-01,\n",
       "        4.22324245e-01,  6.71514384e-02,  4.12687420e-01, -2.53837813e-01,\n",
       "       -9.38999695e-01,  2.97144571e-01, -2.13220012e-01,  2.12090493e-01,\n",
       "        6.95460717e-01, -7.35309195e-01, -2.89913422e-01, -8.34254570e-02,\n",
       "        9.92348033e-01,  2.34286120e-01,  7.69942472e-01, -4.82494608e-01,\n",
       "       -3.07640265e-01,  2.28919024e-01,  4.32202668e-01, -1.13371810e+00,\n",
       "       -8.35985473e-01, -3.28379881e-01,  1.60991100e-01,  8.72969846e-02,\n",
       "        2.44095594e-01,  6.70427690e-01, -3.57672550e-01, -3.66048150e-01,\n",
       "        6.26298640e-01, -6.66289717e-01, -3.54072380e-01,  1.19945987e-01,\n",
       "        4.16253020e-01, -4.67757788e-02, -9.03837049e-01,  1.70069169e+00,\n",
       "       -7.09884299e-02, -2.10751462e-01,  1.60259937e-03,  5.40398554e-01,\n",
       "        1.64410014e+00, -9.73737564e-02, -1.46789460e-01,  1.76425069e-01,\n",
       "       -5.01812302e-01, -3.68344296e-01,  1.30887569e-01, -9.96776519e-01,\n",
       "        3.22797209e-01,  5.77219793e-01, -2.93249740e-01, -6.20972892e-01,\n",
       "       -3.02035244e-01,  9.26837223e-01, -4.76053979e-01, -1.11235336e+00,\n",
       "       -3.67573044e-01, -2.54960773e-01,  5.57275481e-01,  5.80070431e-01,\n",
       "       -6.59887836e-02, -1.60505978e-01,  1.54357656e-01,  1.22692772e-01,\n",
       "        2.39047467e-01,  8.17927769e-01,  1.30051990e+00,  3.20625155e-01,\n",
       "       -1.70253471e-01,  4.48114637e-02,  1.75030694e-02, -5.16493923e-01,\n",
       "       -1.94328284e+00,  5.61998683e-01,  3.98008365e-02,  5.19069490e-02,\n",
       "        1.28848156e+00, -9.70330181e-01,  2.84101210e-01, -1.61919264e-01,\n",
       "        6.53891332e-01, -1.27030473e-01,  3.13425761e-01,  3.78520513e-01,\n",
       "        5.40345491e-02,  6.32080853e-01, -4.03062274e-01,  5.03242905e-01,\n",
       "        1.32833331e-01, -3.90782195e-01,  5.55709247e-01, -1.58286348e-01,\n",
       "        5.85974846e-01,  2.92766246e-01, -3.39938887e-01, -2.81473695e-01,\n",
       "       -1.01470331e+00,  5.47813956e-01,  2.37287179e-01, -5.76328130e-01,\n",
       "       -4.75115832e-01, -6.93950460e-01,  1.69597925e-01,  2.75998599e-01,\n",
       "        8.35768187e-01,  8.24838907e-01, -1.65293619e-01, -7.47480315e-02,\n",
       "       -8.18861887e-01,  2.80868200e-01,  4.59230557e-01, -1.36887879e-01,\n",
       "       -2.50195382e-02,  6.42911218e-02, -6.37776938e-01, -6.35701403e-02,\n",
       "       -6.60179515e-01, -5.13445858e-01, -8.50502240e-01,  7.59734308e-01,\n",
       "        5.13358571e-02, -2.33128946e-01,  7.37813570e-01,  2.14682717e-01,\n",
       "       -8.45372760e-01, -4.70431279e-01,  1.23018845e-01, -5.27703095e-01,\n",
       "        1.58708925e-01,  3.84040784e-01, -2.34567800e-01, -1.09687113e-01,\n",
       "       -6.17016802e-01, -2.84343118e-01,  2.37107979e-01,  1.22675635e+00,\n",
       "        5.06425382e-01,  9.84401233e-01, -8.47984086e-01, -8.03987857e-01,\n",
       "       -4.36669441e-01,  4.29374124e-01,  9.46816181e-02,  4.08766581e-01,\n",
       "        7.17779495e-01,  5.16549685e-01, -3.22711683e-01,  5.17544632e-02,\n",
       "        4.09587901e-01, -4.30981932e-01,  2.55910498e-01, -8.71973610e-01,\n",
       "        1.34732402e+00,  2.24446762e-01, -8.91626287e-02, -3.85972858e-01,\n",
       "        5.39778413e-02, -3.47599119e-02,  2.82423441e-01,  9.33664968e-03,\n",
       "        2.06124069e-01, -2.70713033e-02,  1.41539762e-01,  2.78142718e-01,\n",
       "       -2.34555495e-01,  1.35090653e+00, -2.86584543e-02, -3.33142762e-01,\n",
       "        7.56817750e-01, -4.94692177e-01, -1.32018427e+00, -6.53777577e-01,\n",
       "        1.81867619e+00,  7.36955747e-01,  6.87367783e-01,  5.23686623e-01,\n",
       "       -3.32951131e-01, -2.93839886e-01, -1.09727617e-01,  6.87467422e-02,\n",
       "       -5.64933516e-02,  4.04039347e-01, -6.62367717e-01, -3.58790725e-02,\n",
       "       -1.32994521e-01,  3.12405598e-01, -4.09502526e-01, -1.85570222e-01,\n",
       "       -3.10620130e-01, -2.42872939e-01, -1.20486425e+00,  2.93187018e-01,\n",
       "       -7.20125436e-01,  6.12824002e-01, -4.10147607e-01,  3.23471810e-01,\n",
       "       -1.74684845e-01, -1.61392441e-01,  5.75551521e-01,  8.04461496e-01,\n",
       "       -3.00481188e-01, -7.67108129e-01,  8.23657172e-01, -3.31680326e-01,\n",
       "       -9.72946967e-01,  4.99718198e-01,  2.50510148e-01, -5.23671894e-01,\n",
       "       -5.82742787e-01,  4.22253521e-02,  4.08835866e-01, -5.04446179e-01,\n",
       "       -2.02401014e-01, -6.28647534e-01,  9.83314562e-01, -4.03719292e-01,\n",
       "       -2.29876890e-01, -5.33719681e-01, -1.43424112e-01, -4.57898446e-01,\n",
       "       -8.54506936e-01,  4.95773377e-01, -4.14450783e-01, -7.97262661e-01,\n",
       "        1.73492443e-01,  1.43429916e-01, -9.13709177e-01,  3.92190678e-01,\n",
       "       -3.21858025e-01,  7.52554793e-02, -2.47860321e-01, -3.20627060e-01,\n",
       "        2.99678847e-01, -2.76917860e-02,  4.25150934e-01, -3.75495971e-01,\n",
       "        3.01447340e-01, -6.76137334e-02,  5.76484586e-01, -1.26767179e-01,\n",
       "       -2.44192261e-02, -8.69513653e-01, -1.39517075e+00, -5.09103410e-01,\n",
       "        4.47828162e-01,  1.23571513e+00,  4.25989215e-01, -7.00758460e-01,\n",
       "       -2.83458081e-01, -1.61039928e-01,  1.86935998e-01, -1.34652051e-01,\n",
       "        1.10311994e+00, -1.19196660e+00, -1.20640345e+00, -2.91771526e-01,\n",
       "        3.22157473e-01,  4.84411854e-01, -1.59915204e-01, -1.51556683e-01,\n",
       "        6.22465459e-01, -2.34135233e-01,  9.30611614e-01,  7.87057593e-01,\n",
       "       -2.80122777e-01,  2.65803694e-01, -5.60844145e-01, -2.90457042e-01,\n",
       "       -2.48119892e-01,  9.13057075e-02, -1.84401764e-01,  4.52601044e-01,\n",
       "        2.23163577e-01, -9.12233224e-01, -1.15774807e+00, -5.58688165e-01,\n",
       "        2.56431320e-01, -5.64055801e-02,  9.80217030e-02,  1.02151724e-01,\n",
       "       -5.01382819e-01,  5.97561196e-01, -1.45893114e-01,  1.10368082e-02,\n",
       "       -8.09549446e-01,  1.81727042e-03, -4.48185607e-01, -2.81145815e-01,\n",
       "       -8.05872651e-01, -1.09528311e-01,  4.60356920e-02, -4.09078454e-01,\n",
       "        4.11185904e-01,  9.97456918e-01,  3.48178261e-01,  2.45188057e-01,\n",
       "        5.59173076e-01, -1.65035031e-01, -1.01130238e-01,  2.44007200e-01,\n",
       "        2.16598947e-01,  5.62395140e-01, -4.25914309e-01,  1.95962264e-01,\n",
       "       -1.40690804e-01, -9.69262482e-01,  8.90288422e-01,  5.06948039e-01,\n",
       "       -6.29024021e-01,  3.45155247e-01, -4.62379523e-01, -1.10625238e+00,\n",
       "       -3.79216561e-01, -5.53656808e-01, -4.46013622e-01, -2.96732581e-01,\n",
       "       -2.92687232e-01, -1.11113073e+00, -2.55313812e-01, -9.19994570e-01,\n",
       "        6.79624908e-01, -7.32793595e-01, -8.89832292e-03, -1.22986645e-01,\n",
       "        1.00807732e+00, -8.34275728e-01,  9.34521733e-01,  3.24062103e-02,\n",
       "        1.08556152e+00, -6.78873297e-01, -6.64118482e-01,  2.75634480e-01,\n",
       "       -5.00072395e-01, -6.35723673e-03,  4.73406036e-01, -2.80716135e-01,\n",
       "        5.60243161e-01, -2.19118436e-01, -5.97730182e-01, -7.73707637e-02,\n",
       "       -1.84315508e-02, -1.35802390e-01,  1.99015788e-01,  1.84161784e-01,\n",
       "        5.01947965e-02,  1.98345073e-01, -1.04794782e-01, -1.12487126e+00,\n",
       "       -4.76559411e-01, -3.54580607e-03, -1.28210172e+00,  1.18298296e-01,\n",
       "       -4.27165005e-01, -1.92977985e-01, -1.29907386e-03,  1.32614905e+00,\n",
       "       -3.96433636e-01, -2.56104511e-01,  8.08866352e-02, -1.55590262e-03,\n",
       "        6.52642064e-02,  5.76112992e-01,  7.87967330e-01,  5.94418806e-01,\n",
       "        8.48424498e-02,  4.08170977e-01, -2.99776869e-01, -5.55924971e-02,\n",
       "       -8.79701759e-01,  8.38043628e-01,  8.58370867e-01,  6.84792705e-01,\n",
       "       -6.03299356e-01,  2.16501327e-01, -7.42567186e-02, -6.34343100e-02,\n",
       "       -3.51759570e-01, -6.87977201e-02,  9.27108376e-02,  4.57631776e-01,\n",
       "       -1.51462640e-01, -7.07852706e-01,  1.03363664e-01, -5.41165894e-01,\n",
       "       -2.35320811e-01, -6.38286542e-01, -1.04358441e+00, -6.58035669e-02,\n",
       "       -3.52855867e-01, -1.22944920e+00,  2.47067761e-01, -1.31740884e-01,\n",
       "        9.31239168e-02, -6.20957586e-01, -1.99674593e-01, -3.09962710e-01,\n",
       "       -3.24837373e-01,  1.02785224e+00, -3.90678596e-01, -6.34822635e-01,\n",
       "       -6.67918851e-02,  4.23619320e-02, -1.02359676e-01,  2.27589809e-02,\n",
       "       -7.45133652e-01, -3.53727012e-01,  2.46653282e-02,  5.09708619e-02,\n",
       "        5.54179837e-01, -5.05931660e-01, -5.24201666e-01,  6.99120476e-01,\n",
       "       -1.28365193e+00,  3.83412815e-01, -2.32416278e-01,  4.48390960e-02,\n",
       "       -2.48999008e-01,  5.70232541e-02,  2.30568696e-02, -1.05151987e-01,\n",
       "       -4.24287049e-01, -1.06484278e-01,  5.81308939e-01, -5.19396936e-01,\n",
       "        8.20746367e-01, -1.47643871e+00,  2.33818492e-01,  1.59451324e+00,\n",
       "        8.41102402e-01, -4.01663190e-01, -2.31996271e-01,  8.95694830e-01,\n",
       "       -1.17590643e+00,  2.20984837e-01, -1.30420442e-01, -2.20299170e-02,\n",
       "        3.11180985e-01, -1.13068928e-01,  1.49340454e+00, -1.03367429e+00,\n",
       "       -9.85921251e-01, -6.15889618e-02,  3.82043403e-01, -1.86813057e-01,\n",
       "       -1.12802409e-01,  3.72979801e-01, -3.58259503e-01,  4.89952581e-01,\n",
       "       -1.69971326e-01, -2.43123711e-01, -9.18257717e-01,  1.54887077e-01,\n",
       "        3.68305757e-01,  4.56614116e-01, -5.73714367e-01,  7.72301381e-01,\n",
       "        2.13471711e-01,  7.22663424e-02, -1.10819976e-01,  9.86650896e-01,\n",
       "       -2.04273533e-01, -7.77061616e-01,  1.27861321e+00,  5.17790054e-01,\n",
       "       -1.68931741e-02,  2.79049430e-01,  2.22630843e-01, -2.44866334e-01,\n",
       "        8.19780386e-01,  1.37419589e-01,  1.23377281e-01, -8.82636272e-02,\n",
       "        2.64070590e-01, -7.12709895e-01,  3.30699633e-01,  6.06253353e-01,\n",
       "        8.22771163e-01,  2.88205113e-01, -4.38355238e-01,  3.16873573e-01,\n",
       "       -1.96761016e-01,  1.10431600e-01,  5.16316494e-01, -3.47183397e-01,\n",
       "       -4.49341999e-01,  5.32773057e-01,  6.16682243e-01, -4.47704251e-01,\n",
       "        2.54379493e-01,  9.89241757e-01, -4.85623569e-01, -7.64586800e-02,\n",
       "       -2.66655472e-01, -8.27190850e-02, -9.30652470e-01, -6.68574766e-01,\n",
       "        8.31037513e-01, -2.45213156e-01, -3.24422677e-01,  5.67436228e-01,\n",
       "       -9.93110959e-01,  7.92625843e-02,  1.27507500e-01,  4.71448229e-01,\n",
       "        3.93816156e-01, -8.33976354e-01, -2.18648554e-01,  2.06643823e-01,\n",
       "        1.41541794e-01, -1.67070979e-01, -2.32866296e-01,  5.10332687e-01,\n",
       "       -8.71921851e-01, -2.15462520e-01, -1.45808502e+00, -6.28836795e-01,\n",
       "       -7.38379349e-01,  6.29051685e-01,  1.02928682e+00,  1.74671905e-01,\n",
       "        1.90854524e-01,  4.96586476e-02,  4.36236067e-01,  7.25358697e-01,\n",
       "        2.60767590e-01,  4.50578621e-01, -5.54977732e-01,  3.97083051e-02,\n",
       "        5.91154819e-01,  3.62284298e-01,  1.00809971e-01,  1.82183413e-01,\n",
       "       -2.66078191e-01,  6.65031655e-01,  4.47566274e-02, -5.36601958e-01,\n",
       "        8.60043406e-01,  1.02096060e-01, -6.40595097e-01, -2.90682549e-01,\n",
       "       -2.67813029e-01, -4.73499227e-01, -8.79170063e-01,  2.94485367e-01,\n",
       "       -4.10135437e-01,  5.61731506e-01,  5.14236582e-01, -6.37624128e-01,\n",
       "       -2.17532607e-02,  6.73780886e-03, -9.14730266e-01, -1.91452006e-01,\n",
       "       -1.95813765e-01,  5.70125145e-01, -9.51476902e-01, -8.60913319e-03,\n",
       "       -4.09644960e-01, -2.29438755e-02,  9.06535400e-01,  1.40133949e+00,\n",
       "       -1.11152123e+00, -5.12062446e-02, -2.80297117e-01, -6.59319269e-02,\n",
       "        1.23863002e-01,  3.67652058e-01,  8.44654519e-02, -2.98356404e-03,\n",
       "       -1.11468243e-01,  2.42781823e-01,  1.73445071e-01,  3.07140346e-02,\n",
       "       -3.70230157e-02,  6.56215361e-01, -4.58867835e-01, -9.08912723e-01,\n",
       "       -3.15476255e-01,  4.14519190e-01,  2.96375209e-01,  5.09275990e-01,\n",
       "        1.47977932e-01, -1.08903862e-01, -9.01400665e-02, -1.00288975e+00,\n",
       "        2.56802719e-01, -5.38283798e-01, -7.48103734e-02,  3.79681162e-01,\n",
       "       -4.58608641e-01,  6.53727392e-01,  3.20565900e-01,  2.29960012e-01,\n",
       "       -8.76206860e-02, -2.49309715e-01, -6.38523785e-02,  2.37347106e-01,\n",
       "        1.39927141e+00, -1.47091470e-01, -1.24880227e-01, -1.24207532e-01,\n",
       "       -5.30376053e-01,  3.27017669e-01,  2.45217008e-01,  7.82774004e-02,\n",
       "        8.31006218e-01, -8.88100955e-01, -6.38872622e-01,  2.43524840e-01,\n",
       "       -6.61910701e-01, -3.49072148e-01, -1.24517690e-02, -3.43660476e-01,\n",
       "       -5.92561918e-01,  2.95260451e-01,  4.32820976e-01, -9.77514898e-01,\n",
       "       -2.83028664e-01, -5.02867440e-01, -3.25264883e-01,  5.88785352e-03,\n",
       "        1.05454212e+00,  5.21965282e-01, -7.47655421e-02,  3.64493355e-01,\n",
       "        3.33419417e-01, -5.92231172e-01, -7.64566108e-01,  8.05290050e-01,\n",
       "        1.87395375e-02,  3.99785666e-01, -3.80528051e-02, -1.86192377e-01,\n",
       "        9.72104772e-01, -2.03930784e-01, -2.74127385e-01, -4.92542117e-01,\n",
       "        2.07152281e-01,  1.51525661e-01, -1.87219394e-01, -3.01444019e-01,\n",
       "        3.42046355e-01, -1.68572439e-01, -1.35407710e+00, -3.97894650e-02,\n",
       "       -7.64722359e-01,  6.36172824e-01, -3.32220618e-01, -3.60509461e-01,\n",
       "        2.16019219e-01,  2.37820020e-01, -1.94958962e-01, -1.04208913e+00,\n",
       "       -1.56195524e-01, -1.99830729e+00,  9.47028342e-02,  6.38476483e-01,\n",
       "        4.89930718e-01, -5.52171951e-01, -4.21317410e-01, -3.90705316e-02,\n",
       "        4.61946419e-01, -3.50785074e-01, -3.65574223e-01, -8.49874873e-02,\n",
       "        2.90557540e-01,  3.58190707e-01, -8.72530427e-01,  5.26512691e-01,\n",
       "        8.59282547e-01,  9.11440791e-01, -2.78475219e-01,  4.83090837e-01,\n",
       "        2.77669916e-01,  4.95559514e-01,  3.39668687e-01,  1.99364252e-01,\n",
       "        2.83020044e-01, -7.87529744e-01, -5.08769471e-01, -2.49354138e-01,\n",
       "        7.79782285e-01,  3.82351737e-01,  3.78824320e-01, -1.86516343e-01,\n",
       "       -9.67203899e-01, -7.72377535e-02, -5.65955944e-01,  1.00055011e+00,\n",
       "        7.29187583e-02, -5.16159410e-03,  1.32326872e-01, -1.29769477e-01,\n",
       "       -5.99849789e-02, -4.43201342e-01, -3.76691867e-01, -7.17793073e-01,\n",
       "        2.27218083e-01, -5.08132509e-01,  1.28946057e+00, -3.19918991e-02,\n",
       "        1.50611377e-01, -1.09709610e-01,  1.22897265e+00,  4.17072827e-01,\n",
       "       -8.32796353e-01,  3.78222930e-01, -7.70717089e-02,  6.04605786e-01,\n",
       "        4.39064447e-01,  8.68204933e-02,  7.89738092e-01, -7.17596690e-03,\n",
       "        7.73521000e-03,  2.05778172e-01, -8.22050147e-01, -1.11382028e+00,\n",
       "        9.09424918e-01, -1.54081584e-01, -2.40973576e-01,  8.22001951e-01,\n",
       "       -7.45051816e-01,  3.86447325e-01,  1.14222175e+00,  2.54568180e-01,\n",
       "       -2.43296094e-01,  3.22487418e-01, -5.62545950e-01,  2.81320584e-01,\n",
       "       -1.05723150e+00, -1.22345229e-02, -8.01328817e-02, -1.03678345e+00,\n",
       "       -4.51197638e-01, -5.17622747e-01,  6.98175956e-02, -1.37011509e-01,\n",
       "       -4.89053010e-01, -3.51918546e-01,  2.75020498e-01,  8.21378242e-01])"
      ]
     },
     "execution_count": 21,
     "metadata": {},
     "output_type": "execute_result"
    }
   ],
   "source": [
    "mu, kappa = 0.0, 4.0 # mean and dispersion\n",
    "s = np.random.vonmises(mu, kappa, 1000)\n",
    "s # Display array"
   ]
  },
  {
   "cell_type": "code",
   "execution_count": 22,
   "metadata": {},
   "outputs": [
    {
     "data": {
      "image/png": "[encoded data removed]",
      "text/plain": [
       "<Figure size 432x288 with 1 Axes>"
      ]
     },
     "metadata": {
      "needs_background": "light"
     },
     "output_type": "display_data"
    }
   ],
   "source": [
    "from scipy.special import i0 # import module\n",
    "# Plot histogram from von meises data\n",
    "plt.hist(s, 50, density=True)\n",
    "\n",
    "# create probability density function and plot with histogram\n",
    "x = np.linspace(-np.pi, np.pi, num=51) # np.linspaace command explained [15]\n",
    "y = np.exp(kappa*np.cos(x-mu))/(2*np.pi*i0(kappa))  \n",
    "plt.plot(x, y, linewidth=2, color='r')  # plot line\n",
    "plt.show()"
   ]
  },
  {
   "cell_type": "markdown",
   "metadata": {},
   "source": [
    "Above is an example of data graphed using the vonmeises distribution. [16]\n",
    "\n",
    "https://en.wikipedia.org/wiki/Von_Mises_distribution\n",
    "\n",
    "---------------"
   ]
  },
  {
   "cell_type": "markdown",
   "metadata": {},
   "source": [
    "* ### Distribution 2: binomial\n",
    "\n",
    "**Generator.binomial(n, p, size=None)**\n",
    " \n",
    "Creates a sample from a binomial distributon. The specific paramaters are; n, the number of trialls, and  p, the probability of sucess. \n",
    "\n",
    "\"A binomial distribution can be thought of as simply the probability of a SUCCESS or FAILURE outcome in an experiment or survey that is repeated multiple times.\" [18] It is a type of distribution that has two possible outcomes. e.g coin toss - heads or tails. \n",
    "\n",
    "* Parameters \n",
    "    * n: trialls - paramater of the distribution greater than or equal to zero.\n",
    "    * p: probability of success, in the interval [1,0]\n",
    "    * size: output shape\n",
    "\n",
    "* Returns\n",
    "    * out: ndarray or scalar - Drawn samples from the parameterized binomial distribution, where each sample is equal to the number of successes over the n trials.\n",
    "    \n",
    "Note: for more information on this function see numpy documentation. [17]\n",
    "\n",
    "Examples"
   ]
  },
  {
   "cell_type": "code",
   "execution_count": 23,
   "metadata": {
    "scrolled": true
   },
   "outputs": [
    {
     "data": {
      "text/plain": [
       "array([5, 7, 3, ..., 5, 5, 4], dtype=int64)"
      ]
     },
     "execution_count": 23,
     "metadata": {},
     "output_type": "execute_result"
    }
   ],
   "source": [
    "rng = np.random.default_rng()\n",
    "n, p = 10, .5  # number of trials, probability of each trial\n",
    "s = rng.binomial(n, p, 10000)\n",
    "# result of flipping a coin 10 times, tested 10000 times.\n",
    "s\n",
    "# plt.hist(s, bins=10, range=None, rwidth=None, color=None, label=\"tEST\")\n"
   ]
  },
  {
   "cell_type": "code",
   "execution_count": 24,
   "metadata": {},
   "outputs": [
    {
     "data": {
      "text/plain": [
       "(array([  14.,  103.,  458., 1212., 2072., 2394., 2032., 1174.,  436.,\n",
       "         105.]),\n",
       " array([ 0.,  1.,  2.,  3.,  4.,  5.,  6.,  7.,  8.,  9., 10.]),\n",
       " <a list of 10 Patch objects>)"
      ]
     },
     "execution_count": 24,
     "metadata": {},
     "output_type": "execute_result"
    },
    {
     "data": {
      "image/png": "[encoded data removed]",
      "text/plain": [
       "<Figure size 432x288 with 1 Axes>"
      ]
     },
     "metadata": {
      "needs_background": "light"
     },
     "output_type": "display_data"
    }
   ],
   "source": [
    "plt.hist(s, bins=10, range=None, rwidth=None, color=None, label=\"tEST\")\n",
    "\n",
    "# matplotlib.pyplot.hist(x, bins=2 range=None, rwidth=None, color=None, label=tEST)"
   ]
  },
  {
   "cell_type": "markdown",
   "metadata": {},
   "source": [
    "# Write more info on binomial distributions\n",
    "\n",
    "---------------"
   ]
  },
  {
   "cell_type": "markdown",
   "metadata": {},
   "source": [
    "* ### Distribution 3: Uniform\n",
    "\n",
    "**Generator.uniform(low=0.0, high=1.0, size=None)**\n",
    "\n",
    "Draws a sample of a iniform distribution. Any value within the given interval is equally likely to be drawn. \n",
    "\n",
    "A uniform distribution is a probability distribution that has constant probability. [20]\n",
    "\n",
    "* Parameters \n",
    "    * low: lower boundary. values will be greater than or equal to. \n",
    "    * high: upper boundary. values will be less than. \n",
    "    * size: output shape\n",
    "\n",
    "* Returns\n",
    "    * out: ndarray or scalar - Drawn samples from the parameterized uniform distribution\n",
    "    \n",
    "Note: for more information on this function see numpy documentation. [19]\n",
    "\n",
    "Examples"
   ]
  },
  {
   "cell_type": "code",
   "execution_count": 25,
   "metadata": {},
   "outputs": [
    {
     "data": {
      "text/plain": [
       "(array([11.,  7.,  2., 14., 13.,  9., 14., 12.,  9.,  9.]),\n",
       " array([ 0. ,  9.9, 19.8, 29.7, 39.6, 49.5, 59.4, 69.3, 79.2, 89.1, 99. ]),\n",
       " <a list of 10 Patch objects>)"
      ]
     },
     "execution_count": 25,
     "metadata": {},
     "output_type": "execute_result"
    },
    {
     "data": {
      "image/png": "[encoded data removed]",
      "text/plain": [
       "<Figure size 432x288 with 1 Axes>"
      ]
     },
     "metadata": {
      "needs_background": "light"
     },
     "output_type": "display_data"
    }
   ],
   "source": [
    "# set size = 100\n",
    "x = rng.integers(100, size=100)\n",
    "plt.hist(x)"
   ]
  },
  {
   "cell_type": "code",
   "execution_count": 26,
   "metadata": {
    "scrolled": true
   },
   "outputs": [
    {
     "data": {
      "text/plain": [
       "(array([10032.,  9961., 10100.,  9872., 10128.,  9876.,  9979., 10081.,\n",
       "        10001.,  9970.]),\n",
       " array([ 0. ,  9.9, 19.8, 29.7, 39.6, 49.5, 59.4, 69.3, 79.2, 89.1, 99. ]),\n",
       " <a list of 10 Patch objects>)"
      ]
     },
     "execution_count": 26,
     "metadata": {},
     "output_type": "execute_result"
    },
    {
     "data": {
      "image/png": "[encoded data removed]",
      "text/plain": [
       "<Figure size 432x288 with 1 Axes>"
      ]
     },
     "metadata": {
      "needs_background": "light"
     },
     "output_type": "display_data"
    }
   ],
   "source": [
    "# set size = 100000\n",
    "x = rng.integers(100, size=100000)\n",
    "plt.hist(x)"
   ]
  },
  {
   "cell_type": "markdown",
   "metadata": {},
   "source": [
    "The first plot shows 100 numbers drawn from 1 - 100. It is not immidiatly apparent that this is a uniofrm samle. Plotting 100,000 numbers gives us a better understanding of the uniform distribution. \n",
    "\n",
    "This is generally the distribution expected from a computer when a random generated number is needed. So the number 4 is as likely to come out as the number 10,000 etc. It will generate all numbers with the same probability.\n",
    "\n",
    "-------------"
   ]
  },
  {
   "cell_type": "markdown",
   "metadata": {},
   "source": [
    "* ### Distribution 4: normal\n",
    "\n",
    "**numpy.random.normal(loc=0.0, scale=1.0, size=None)**\n",
    "\n",
    "Draw random samples from a normal (Gaussian) distribution.\n",
    "\n",
    "\"The normal distribution is the most important probability distribution in statistics because it fits many natural phenomena. For example, heights, blood pressure, measurement error, and IQ scores follow the normal distribution. It is also known as the Gaussian distribution and the bell curve.\" [22]\n",
    "\n",
    "It is a symmetric distribution where most of the observations cluster around the central peak and the probabilities for values further away from the mean taper off equally in both directions. Extreme values in both tails of the distribution are similarly unlikely.\n",
    "\n",
    "\n",
    "* Parameters \n",
    "    * loc: mean of the distribution\n",
    "    * scale: standard deviation of the distribution\n",
    "    * size: output shape\n",
    "    \n",
    "* Returns\n",
    "    * out: ndarray or scalar - Drawn samples from the parameterized normal distribution\n",
    "    \n",
    "Note: for more information on this function see numpy documentation. [21]\n",
    "\n",
    "Examples"
   ]
  },
  {
   "cell_type": "code",
   "execution_count": 27,
   "metadata": {},
   "outputs": [],
   "source": [
    " # Students heights - centerd around middle. distribouts towards each side. "
   ]
  },
  {
   "cell_type": "code",
   "execution_count": 28,
   "metadata": {},
   "outputs": [
    {
     "data": {
      "text/plain": [
       "(array([ 12.,  54., 120., 240., 234., 188., 103.,  41.,   5.,   3.]),\n",
       " array([-0.28383722, -0.21891558, -0.15399394, -0.0890723 , -0.02415066,\n",
       "         0.04077098,  0.10569262,  0.17061427,  0.23553591,  0.30045755,\n",
       "         0.36537919]),\n",
       " <a list of 10 Patch objects>)"
      ]
     },
     "execution_count": 28,
     "metadata": {},
     "output_type": "execute_result"
    },
    {
     "data": {
      "image/png": "[encoded data removed]",
      "text/plain": [
       "<Figure size 432x288 with 1 Axes>"
      ]
     },
     "metadata": {
      "needs_background": "light"
     },
     "output_type": "display_data"
    }
   ],
   "source": [
    "mu, sigma = 0, 0.1 # mean and standard deviation\n",
    "s = np.random.normal(mu, sigma, 1000)\n",
    "plt.hist(s)"
   ]
  },
  {
   "cell_type": "code",
   "execution_count": 29,
   "metadata": {},
   "outputs": [
    {
     "data": {
      "image/png": "[encoded data removed]",
      "text/plain": [
       "<Figure size 432x288 with 1 Axes>"
      ]
     },
     "metadata": {
      "needs_background": "light"
     },
     "output_type": "display_data"
    }
   ],
   "source": [
    "# Probability density function plotted\n",
    "\n",
    "count, bins, ignored = plt.hist(s, 30, density=True)\n",
    "plt.plot(bins, 1/(sigma * np.sqrt(2 * np.pi)) *\n",
    "               np.exp( - (bins - mu)**2 / (2 * sigma**2) ),\n",
    "         linewidth=2, color='r')\n",
    "plt.show()"
   ]
  },
  {
   "cell_type": "markdown",
   "metadata": {},
   "source": [
    "This allows us to match the probability expected with real world data. eg. class heights. etc. \n",
    "\n",
    "----------------"
   ]
  },
  {
   "cell_type": "markdown",
   "metadata": {},
   "source": [
    "* ### Distribution 5: chisquare\n",
    "\n",
    "**Generator.chisquare(df, size=None)**\n",
    "\n",
    "Draw samples from a chi-square distribution.\n",
    "\n",
    "In probability theory and statistics, the chi-square distribution with df degrees of freedom is the distribution of a sum of the squares of df independent standard normal random variables. The chi-square distribution is a special case of the gamma distribution and is one of the most widely used probability distributions in inferential statistics, notably in hypothesis testing and in construction of confidence intervals.[25]\n",
    "\n",
    "\n",
    "* Parameters \n",
    "    * df: number of degrees of freedom\n",
    "    * size: output shape\n",
    "    \n",
    "* Returns\n",
    "    * out: ndarray or scalar - Drawn samples from the parameterized chi-square distribution.\n",
    "    \n",
    "Note: for more information on this function see numpy documentation. [21]\n",
    "\n",
    "Examples"
   ]
  },
  {
   "cell_type": "code",
   "execution_count": 35,
   "metadata": {},
   "outputs": [
    {
     "data": {
      "text/plain": [
       "array([[1.65151759, 1.55483163, 1.29090441],\n",
       "       [3.36856723, 7.69835316, 3.84654517]])"
      ]
     },
     "execution_count": 35,
     "metadata": {},
     "output_type": "execute_result"
    }
   ],
   "source": [
    "# Draw out a sample for chi squared distribution with degree of freedom 2 with size 2x3 \n",
    "x = np.random.chisquare(df=2, size=(2, 3))\n",
    "x"
   ]
  },
  {
   "cell_type": "code",
   "execution_count": 38,
   "metadata": {},
   "outputs": [
    {
     "data": {
      "image/png": "[encoded data removed]",
      "text/plain": [
       "<Figure size 432x288 with 1 Axes>"
      ]
     },
     "metadata": {
      "needs_background": "light"
     },
     "output_type": "display_data"
    }
   ],
   "source": [
    "# plot visualisaton of chisquare with 1 degree of freedom\n",
    "x = np.random.default_rng().chisquare(1,1000)\n",
    "sns.distplot(x)\n",
    "plt.show()"
   ]
  },
  {
   "cell_type": "code",
   "execution_count": 39,
   "metadata": {},
   "outputs": [
    {
     "data": {
      "image/png": "[encoded data removed]",
      "text/plain": [
       "<Figure size 432x288 with 1 Axes>"
      ]
     },
     "metadata": {
      "needs_background": "light"
     },
     "output_type": "display_data"
    }
   ],
   "source": [
    "# plot visualisaton of chisquare with 5 degree of freedom\n",
    "x = np.random.default_rng().chisquare(5,1000)\n",
    "sns.distplot(x)\n",
    "plt.show()"
   ]
  },
  {
   "cell_type": "code",
   "execution_count": 40,
   "metadata": {},
   "outputs": [
    {
     "data": {
      "image/png": "[encoded data removed]",
      "text/plain": [
       "<Figure size 432x288 with 1 Axes>"
      ]
     },
     "metadata": {
      "needs_background": "light"
     },
     "output_type": "display_data"
    }
   ],
   "source": [
    "# plot visualisaton of chisquare with 10 degree of freedom\n",
    "x = np.random.default_rng().chisquare(10,1000)\n",
    "sns.distplot(x)\n",
    "plt.show()"
   ]
  },
  {
   "cell_type": "markdown",
   "metadata": {},
   "source": [
    "The above three plots show teh difference in 1, 5 and 10 degrees of freedom. The chi-square distribution is typically used to develop hypothesis tests and confidence intervals. In a testing context, the chi-square distribution is treated as a \"standardized distribution\" [24]\n",
    "\n",
    "------------"
   ]
  },
  {
   "cell_type": "markdown",
   "metadata": {},
   "source": [
    "## Section 4. Explain the use of seeds in generating pseudorandom numbers.\n",
    "\n",
    "------------\n"
   ]
  },
  {
   "cell_type": "markdown",
   "metadata": {},
   "source": [
    "https://numpy.org/doc/stable/reference/random/generated/numpy.random.seed.html#numpy.random.seed\n",
    "\n",
    "For legacy reasons. Further research needed\n",
    "\n",
    "https://numpy.org/doc/stable/reference/random/bit_generators/mt19937.html"
   ]
  },
  {
   "cell_type": "code",
   "execution_count": null,
   "metadata": {},
   "outputs": [],
   "source": []
  },
  {
   "cell_type": "markdown",
   "metadata": {},
   "source": [
    "## References\n",
    "----------"
   ]
  },
  {
   "cell_type": "code",
   "execution_count": null,
   "metadata": {},
   "outputs": [],
   "source": []
  },
  {
   "cell_type": "markdown",
   "metadata": {},
   "source": [
    "[1] https://numpy.org/doc/stable/reference/random/index.html\n",
    "\n",
    "[2] https://www.w3schools.com/python/numpy_random.asp\n",
    "\n",
    "[3] https://realpython.com/python-random/\n",
    "\n",
    "[4] https://numpy.org/doc/stable/reference/random/generator.html#numpy.random.Generator\n",
    "\n",
    "[5] https://numpy.org/doc/stable/reference/random/generated/numpy.random.rand.html#numpy.random.rand\n",
    "\n",
    "[6] https://numpy.org/doc/stable/reference/random/generated/numpy.random.Generator.integers.html#numpy.random.Generator.integers\n",
    "\n",
    "[7] https://numpy.org/doc/stable/reference/random/generated/numpy.random.Generator.choice.html#numpy.random.Generator.choice\n",
    "\n",
    "[8] https://numpy.org/doc/stable/reference/random/generated/numpy.random.Generator.bytes.html#numpy.random.Generator.bytes\n",
    "\n",
    "[9] https://numpy.org/doc/stable/reference/random/generated/numpy.random.Generator.shuffle.html#numpy.random.Generator.shuffle\n",
    "\n",
    "[10] https://numpy.org/doc/stable/reference/random/generated/numpy.random.Generator.permutation.html#numpy.random.Generator.permutation\n",
    "\n",
    "[11] https://en.wikipedia.org/wiki/Permutation\n",
    "\n",
    "[12] https://en.wikipedia.org/wiki/Rubik%27s_Cube#Permutations\n",
    "\n",
    "[13] https://numpy.org/doc/stable/reference/random/generated/numpy.random.vonmises.html#numpy.random.vonmises\n",
    "\n",
    "[14] https://www.statisticshowto.com/von-mises-distribution/\n",
    "\n",
    "[15] https://numpy.org/doc/stable/reference/generated/numpy.linspace.html\n",
    "\n",
    "[16] https://en.wikipedia.org/wiki/Von_Mises_distribution\n",
    "\n",
    "[17] https://numpy.org/doc/stable/reference/random/generated/numpy.random.Generator.binomial.html#numpy.random.Generator.binomial\n",
    "\n",
    "[18] https://www.statisticshowto.com/probability-and-statistics/binomial-theorem/binomial-distribution-formula/\n",
    "\n",
    "[19] https://numpy.org/doc/stable/reference/random/generated/numpy.random.Generator.uniform.html#numpy.random.Generator.uniform\n",
    "\n",
    "[20] https://www.statisticshowto.com/uniform-distribution/\n",
    "\n",
    "[21] https://numpy.org/doc/stable/reference/random/generated/numpy.random.normal.html#numpy.random.normal\n",
    "\n",
    "[22] https://statisticsbyjim.com/basics/normal-distribution/\n",
    "\n",
    "[23] https://numpy.org/doc/stable/reference/random/generated/numpy.random.Generator.chisquare.html#numpy.random.Generator.chisquare\n",
    "\n",
    "[24] https://www.w3schools.com/python/numpy_random_chisquare.asp\n",
    "\n",
    "[25] https://en.wikipedia.org/wiki/Chi-square_distribution\n",
    "\n",
    "\n",
    "[2] https://docs.scipy.org/doc/numpy-1.15.0/reference/routines.random.html\n",
    "\n",
    "[3]  https://numpy.org/doc/stable/reference/random/generator.html#numpy.random.Generatorhttps://numpy.org/doc/stable/reference/random/generator.html#numpy.random.Generator\n"
   ]
  }
 ],
 "metadata": {
  "kernelspec": {
   "display_name": "Python 3",
   "language": "python",
   "name": "python3"
  },
  "language_info": {
   "codemirror_mode": {
    "name": "ipython",
    "version": 3
   },
   "file_extension": ".py",
   "mimetype": "text/x-python",
   "name": "python",
   "nbconvert_exporter": "python",
   "pygments_lexer": "ipython3",
   "version": "3.8.3"
  }
 },
 "nbformat": 4,
 "nbformat_minor": 4
}
