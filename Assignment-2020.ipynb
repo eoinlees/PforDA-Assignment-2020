{
 "cells": [
  {
   "cell_type": "markdown",
   "metadata": {},
   "source": [
    "# Programming for Data Analytics -  numpy.random - Assignment\n",
    "### Eoin Lees - G00387888 - November 2020\n",
    "------------"
   ]
  },
  {
   "cell_type": "markdown",
   "metadata": {},
   "source": [
    "## Section 1. Explain the overall purpose of the package.\n",
    "--------------"
   ]
  },
  {
   "cell_type": "markdown",
   "metadata": {},
   "source": [
    "## <u>numpy.random</u> \n",
    "\n",
    "The overall purpose of the numpy.random package is to \"produce pseudo random numbers using combinations of a BitGenerator to create sequences and a Generator to use those sequences to sample from different statistical distributions\" [1]\n",
    "\n",
    "A random number does not mean a different number every time. Random means something that cannot be predicted logically. In order for a computer to achieve this it uses BitGenerators to create a number based on a generation algorithm. These are known as psudo random numbers. [2]\n",
    "\n",
    "\n",
    "##### BitGenerators: \n",
    "\n",
    "Objects that generate random numbers. These are typically unsigned integer words filled with sequences of either 32 or 64 random bits. There are a number of different generators than can be used for this since Numpy version 1.17.0. The use of seeds and there effects on this is explored further in section 4.   \n",
    "\n",
    "##### Generators: \n",
    "\n",
    "Objects that transform sequences of random bits from a BitGenerator into sequences of numbers that follow a specific probability distribution (such as uniform, Normal or Binomial) within a specified interval. In this document there is a description of the following distributions  in section 3: \n",
    "\n",
    "* Von meises \n",
    "* Binomial\n",
    "* Uniform\n",
    "* Normal\n",
    "* Chi squared\n",
    "\n",
    "[3]\n",
    "It is possible to create real random numbers using a true random number generator. An example of this can be seen at https://www.random.org/integers/ which uses atmospheric noise to create true random numbers. However this is a lot more involved and for the purpose of this analysis not relevant. \n",
    "\n",
    "It is worth noteing however that it is commonly reccomended not use psudo-random number generators if you require a cryptographically secure number. "
   ]
  },
  {
   "cell_type": "code",
   "execution_count": 1,
   "metadata": {},
   "outputs": [],
   "source": [
    "# Import all modules for this notebook\n",
    "import numpy as np\n",
    "import matplotlib.pyplot as plt"
   ]
  },
  {
   "cell_type": "markdown",
   "metadata": {},
   "source": [
    "## Section 2. Explain the use of the “Simple random data” and “Permutations” functions.\n",
    "-----------"
   ]
  },
  {
   "cell_type": "markdown",
   "metadata": {},
   "source": [
    "## <u>Simple Random Data</u>\n",
    "\n",
    "[4]\n",
    "\n",
    "Simple random data is broken down below into the following:\n",
    "\n",
    "* random\n",
    "* integers\n",
    "* choice\n",
    "* bytes\n",
    "\n",
    "-------------\n"
   ]
  },
  {
   "cell_type": "markdown",
   "metadata": {},
   "source": [
    "* ### Random\n",
    "\n",
    "**numpy.random.rand(d0, d1, ..., dn)**\n",
    "\n",
    "Creates a random number between 0 and 1 that is uniformilly distributed. [5]\n",
    "\n",
    "* Parameters \n",
    "    * d0, d1, …, dnint, optional\n",
    "    * The dimensions of the returned array, must be non-negative. If no argument is given a single Python float is returned.\n",
    "\n",
    "* Returns\n",
    "    * out: ndarray, shape (d0, d1, ..., dn)\n",
    "    * Random values.\n",
    "\n",
    "Note: for more information on this function see numpy documentation. [5]\n",
    "\n",
    "Examples:"
   ]
  },
  {
   "cell_type": "code",
   "execution_count": 2,
   "metadata": {},
   "outputs": [
    {
     "data": {
      "text/plain": [
       "0.2837805479794936"
      ]
     },
     "execution_count": 2,
     "metadata": {},
     "output_type": "execute_result"
    }
   ],
   "source": [
    "np.random.rand()\n",
    "# creates a random number between 0 and 1. Uniformily distributed. "
   ]
  },
  {
   "cell_type": "code",
   "execution_count": 3,
   "metadata": {},
   "outputs": [
    {
     "data": {
      "text/plain": [
       "array([[0.75248245, 0.04441856],\n",
       "       [0.6521166 , 0.2223076 ],\n",
       "       [0.24811759, 0.0861207 ],\n",
       "       [0.73612261, 0.67395241]])"
      ]
     },
     "execution_count": 3,
     "metadata": {},
     "output_type": "execute_result"
    }
   ],
   "source": [
    "x = np.random.rand(4,2)\n",
    "# creates an array with 4 lists of 2 random numbers \n",
    "x"
   ]
  },
  {
   "cell_type": "markdown",
   "metadata": {},
   "source": [
    "The above examples show how to use numpy.random.rand(). As stated in the parameters the dimensions of the returned array must be non negative. \n",
    "\n",
    "-------------"
   ]
  },
  {
   "cell_type": "markdown",
   "metadata": {},
   "source": [
    "* ### Integers\n",
    "\n",
    "**Generator.integers(low, high=None, size=None, dtype=np.int64, endpoint=False)**\n",
    "\n",
    "Integers returns random integers from low to high (not included). it returns ranndom integers from the “discrete uniform” distribution of the specified dtype. If high is None (the default), then results are from 0 to low. [6]\n",
    "\n",
    "* Parameters \n",
    "    * low: the lowest value to select from. \n",
    "    * high: the highest value to select from. \n",
    "    * size: the output shape. number of values returned or number of values and lists returned. \n",
    "    * dtype: dtype, default is np.int64\n",
    "    * endpoint: If true, sample from the interval [low, high] instead of the default [low, high) Defaults to False\n",
    "   \n",
    "\n",
    "* Returns\n",
    "    * out: (int or ndarray of ints) size-shaped array of random integers from the appropriate distribution, or a single such random int if size not provided.\n",
    "\n",
    "Note: for more information on this function see numpy documentation. [6]\n",
    "\n",
    "Examples:\n"
   ]
  },
  {
   "cell_type": "code",
   "execution_count": 4,
   "metadata": {},
   "outputs": [],
   "source": [
    "#  create rng - random number generator object\n",
    "rng = np.random.default_rng()"
   ]
  },
  {
   "cell_type": "code",
   "execution_count": 5,
   "metadata": {},
   "outputs": [
    {
     "data": {
      "text/plain": [
       "array([2, 1, 0, 0, 1, 0, 0, 2, 1, 1, 1, 2, 1, 1, 2], dtype=int64)"
      ]
     },
     "execution_count": 5,
     "metadata": {},
     "output_type": "execute_result"
    }
   ],
   "source": [
    "# use rng to generate sequence of random integers\n",
    "rng.integers(3, size=15)"
   ]
  },
  {
   "cell_type": "markdown",
   "metadata": {},
   "source": [
    "This generates a series of 15 numbers up to but not inclusive of 3. The data type is \"int64\" by default. It shows how by default the low parameter is 0 and the high value is stated as 3. "
   ]
  },
  {
   "cell_type": "code",
   "execution_count": 6,
   "metadata": {},
   "outputs": [
    {
     "data": {
      "text/plain": [
       "array([[1, 4, 3, 3, 1],\n",
       "       [3, 0, 4, 3, 0],\n",
       "       [3, 0, 1, 3, 0]], dtype=int64)"
      ]
     },
     "execution_count": 6,
     "metadata": {},
     "output_type": "execute_result"
    }
   ],
   "source": [
    "# using the size parameter to generate a 3 x 5 array.\n",
    "rng.integers(5, size=(3, 5))"
   ]
  },
  {
   "cell_type": "markdown",
   "metadata": {},
   "source": [
    "Again this demonstrates the high value set at 5. The size parameter states two variables, the first is the number of arrays, in this case three. The second states the number of elements in each array. The size parameter allows further dimension to be added along the 3rd and 4th dimensions etc. This allows complex data structures be formed. "
   ]
  },
  {
   "cell_type": "code",
   "execution_count": 7,
   "metadata": {
    "scrolled": true
   },
   "outputs": [],
   "source": [
    "# Test the distribution of the random data\n",
    "x = rng.integers(100, size=100)"
   ]
  },
  {
   "cell_type": "markdown",
   "metadata": {},
   "source": [
    "Here we create an array of 100 values in order to determine what kind of distribution is set as default. "
   ]
  },
  {
   "cell_type": "code",
   "execution_count": 8,
   "metadata": {},
   "outputs": [
    {
     "data": {
      "text/plain": [
       "(array([12.,  7., 12., 15.,  2., 13., 11., 10.,  6., 12.]),\n",
       " array([ 0. ,  9.8, 19.6, 29.4, 39.2, 49. , 58.8, 68.6, 78.4, 88.2, 98. ]),\n",
       " <a list of 10 Patch objects>)"
      ]
     },
     "execution_count": 8,
     "metadata": {},
     "output_type": "execute_result"
    },
    {
     "data": {
      "image/png": "[encoded data removed]",
      "text/plain": [
       "<Figure size 432x288 with 1 Axes>"
      ]
     },
     "metadata": {
      "needs_background": "light"
     },
     "output_type": "display_data"
    }
   ],
   "source": [
    "# Create histogram of plot\n",
    "plt.hist(x)"
   ]
  },
  {
   "cell_type": "markdown",
   "metadata": {},
   "source": [
    "This profile is quite varied. It does not allow us to determine much based off the limited number of random values. "
   ]
  },
  {
   "cell_type": "code",
   "execution_count": 9,
   "metadata": {},
   "outputs": [
    {
     "data": {
      "text/plain": [
       "(array([1001188.,  998975., 1001051., 1000661.,  999911., 1000326.,\n",
       "         999750.,  999563., 1000177.,  998398.]),\n",
       " array([ 0. ,  9.9, 19.8, 29.7, 39.6, 49.5, 59.4, 69.3, 79.2, 89.1, 99. ]),\n",
       " <a list of 10 Patch objects>)"
      ]
     },
     "execution_count": 9,
     "metadata": {},
     "output_type": "execute_result"
    },
    {
     "data": {
      "image/png": "[encoded data removed]",
      "text/plain": [
       "<Figure size 432x288 with 1 Axes>"
      ]
     },
     "metadata": {
      "needs_background": "light"
     },
     "output_type": "display_data"
    }
   ],
   "source": [
    "# set size = 10000000\n",
    "x = rng.integers(100, size=10000000)\n",
    "plt.hist(x)"
   ]
  },
  {
   "cell_type": "markdown",
   "metadata": {},
   "source": [
    "When we set the size the ten million we see that the profile of this data is flat. The distribution of numbers into each 20 unit bar seems to be the same.\n",
    "This is known as a uniform distribution, which is rare in a real world situation. \n",
    "\n",
    "--------------"
   ]
  },
  {
   "cell_type": "markdown",
   "metadata": {},
   "source": [
    "* ### Choice \n",
    "\n",
    "**Generator.choice(a, size=None, replace=True, p=None, axis=0, shuffle=True)**\n",
    " \n",
    " Creates a random sample from a given array. [7]\n",
    " \n",
    "\n",
    "* Parameters \n",
    "    * a: array. if ndarray, random sample generated from its elements. if int, random sample generated from np.arrange(a)\n",
    "    * size: output size\n",
    "    * replace: Whether the sample is with or without replacement\n",
    "    * p: the probabilities associated with each entry in a. \n",
    "    * axis: The axis along which the selection is performed. The default, 0, selects by row.\n",
    "    * shuffle: Whether the sample is shuffled when sampling without replacement. \n",
    "\n",
    "\n",
    "* Returns\n",
    "    * samples: returns a single item or the generated ndarray\n",
    "\n",
    "Note: for more information on this function see numpy documentation. [7]\n",
    "\n",
    "Examples:"
   ]
  },
  {
   "cell_type": "code",
   "execution_count": 10,
   "metadata": {},
   "outputs": [
    {
     "data": {
      "text/plain": [
       "array([4, 9, 9], dtype=int64)"
      ]
     },
     "execution_count": 10,
     "metadata": {},
     "output_type": "execute_result"
    }
   ],
   "source": [
    "rng = np.random.default_rng()\n",
    "rng.choice(10, 3)\n",
    "\n",
    "#This is equivalent to rng.integers(0,5,3)\n",
    "# Picks 3 random numbers between 0 and 10\n",
    "# generate a uniform random sample from np.arange(5) of size 3:\n"
   ]
  },
  {
   "cell_type": "code",
   "execution_count": 11,
   "metadata": {},
   "outputs": [
    {
     "data": {
      "text/plain": [
       "(array([ 9921.,  9984., 10122., 10021.,  9998.,  9864.,  9919., 10087.,\n",
       "         9961., 10123.]),\n",
       " array([0. , 0.9, 1.8, 2.7, 3.6, 4.5, 5.4, 6.3, 7.2, 8.1, 9. ]),\n",
       " <a list of 10 Patch objects>)"
      ]
     },
     "execution_count": 11,
     "metadata": {},
     "output_type": "execute_result"
    },
    {
     "data": {
      "image/png": "[encoded data removed]",
      "text/plain": [
       "<Figure size 432x288 with 1 Axes>"
      ]
     },
     "metadata": {
      "needs_background": "light"
     },
     "output_type": "display_data"
    }
   ],
   "source": [
    "# show that sample is uniformly distributed\n",
    "x = rng.choice(10, 100000)\n",
    "plt.hist(x)"
   ]
  },
  {
   "cell_type": "markdown",
   "metadata": {},
   "source": [
    "The histogram shows that the data produced by choice is uniformly distributed. "
   ]
  },
  {
   "cell_type": "code",
   "execution_count": 12,
   "metadata": {},
   "outputs": [
    {
     "data": {
      "text/plain": [
       "array(['star', 'bar'], dtype='<U4')"
      ]
     },
     "execution_count": 12,
     "metadata": {},
     "output_type": "execute_result"
    }
   ],
   "source": [
    "rng.choice([\"car\", \"bar\", \"star\", \"tar\"], 2)\n",
    "\n",
    "# generates a random sample of size 2 of the list given. "
   ]
  },
  {
   "cell_type": "markdown",
   "metadata": {},
   "source": [
    "The choice command can be used to randomly select inputted strings also as shown above."
   ]
  },
  {
   "cell_type": "code",
   "execution_count": 13,
   "metadata": {},
   "outputs": [
    {
     "data": {
      "text/plain": [
       "array(['car', 'tar', 'bar', 'star'], dtype='<U4')"
      ]
     },
     "execution_count": 13,
     "metadata": {},
     "output_type": "execute_result"
    }
   ],
   "source": [
    "rng.choice([\"car\", \"bar\", \"star\", \"tar\"], 4, p=[0.1, 0.1, 0.6, 0.2])\n",
    "# adding probabilities"
   ]
  },
  {
   "cell_type": "code",
   "execution_count": 14,
   "metadata": {},
   "outputs": [
    {
     "data": {
      "text/plain": [
       "(array([5955.,    0.,    0., 2010.,    0.,    0.,  982.,    0.,    0.,\n",
       "        1053.]),\n",
       " array([0. , 0.3, 0.6, 0.9, 1.2, 1.5, 1.8, 2.1, 2.4, 2.7, 3. ]),\n",
       " <a list of 10 Patch objects>)"
      ]
     },
     "execution_count": 14,
     "metadata": {},
     "output_type": "execute_result"
    },
    {
     "data": {
      "image/png": "[encoded data removed]",
      "text/plain": [
       "<Figure size 432x288 with 1 Axes>"
      ]
     },
     "metadata": {
      "needs_background": "light"
     },
     "output_type": "display_data"
    }
   ],
   "source": [
    "x = rng.choice([\"car\", \"bar\", \"star\", \"tar\"], 10000, p=[0.1, 0.1, 0.6, 0.2])\n",
    "plt.hist(x)\n",
    "# plotting command run 10000 times"
   ]
  },
  {
   "cell_type": "markdown",
   "metadata": {},
   "source": [
    "Using the p parameter we can set the probability of each entity. We can prove this probability by running the command 10,000 times and protting the results. \n",
    "\n",
    "-----------------"
   ]
  },
  {
   "cell_type": "markdown",
   "metadata": {},
   "source": [
    "* ### Bytes\n",
    "\n",
    "**Generator.bytes(length)**\n",
    "\n",
    "Returns a string of random bytes of specified length method : Generator.bytes(length) \n",
    "\n",
    "* Parameters \n",
    "    * length: the number of random bytes required. \n",
    "   \n",
    "* Returns\n",
    "    * out: string of length length\n",
    "\n",
    "Note: for more information on this function see numpy documentation. [8]\n",
    "\n",
    "Examples:"
   ]
  },
  {
   "cell_type": "code",
   "execution_count": 15,
   "metadata": {},
   "outputs": [
    {
     "data": {
      "text/plain": [
       "b'!\\x9c\\xa9X|r\\xc5^6\\xd5x\\xb6\\x17\\xcc\\x00\\xdd\\xa5\\xfdw\\x04'"
      ]
     },
     "execution_count": 15,
     "metadata": {},
     "output_type": "execute_result"
    }
   ],
   "source": [
    "np.random.default_rng().bytes(20)"
   ]
  },
  {
   "cell_type": "markdown",
   "metadata": {},
   "source": [
    "Returns a string of random bytes of length 20. \n",
    "\n",
    "--------------"
   ]
  },
  {
   "cell_type": "markdown",
   "metadata": {},
   "source": [
    "## <u>Permutations</u>\n",
    "-----------\n",
    "\n"
   ]
  },
  {
   "cell_type": "markdown",
   "metadata": {},
   "source": [
    "* ### Shuffle\n",
    "\n",
    "**Generator.shuffle(x, axis=0)**\n",
    " \n",
    "Modifies a sequence by change the order of its contents. The contents remain unchanged, only their order is changed. [9]\n",
    " \n",
    "\n",
    "* Parameters \n",
    "    * x: the array or list to be shuffled\n",
    "    * axis: the axis to shuffle x along. \n",
    "\n",
    "* Returns\n",
    "    * None\n",
    "    \n",
    "Note: for more information on this function see numpy documentation. [9]\n",
    "\n",
    "Examples"
   ]
  },
  {
   "cell_type": "code",
   "execution_count": 16,
   "metadata": {},
   "outputs": [
    {
     "name": "stdout",
     "output_type": "stream",
     "text": [
      "The following is 10 numbers arranged in ascending order:  [0 1 2 3 4 5 6 7 8 9]\n",
      "The following is the same 10 numbers shuffled and reprinted:  [1 4 3 5 7 9 6 2 0 8]\n"
     ]
    }
   ],
   "source": [
    "# Example of arrange on integers. \n",
    "\n",
    "arr = np.arange(10)\n",
    "\n",
    "print(\"The following is 10 numbers arranged in ascending order: \", arr)\n",
    "rng.shuffle(arr)\n",
    "print(\"The following is the same 10 numbers shuffled and reprinted: \", arr)"
   ]
  },
  {
   "cell_type": "code",
   "execution_count": 17,
   "metadata": {},
   "outputs": [
    {
     "name": "stdout",
     "output_type": "stream",
     "text": [
      "['car', 'tar', 'bar', 'star']\n"
     ]
    }
   ],
   "source": [
    "# Using shuffle to shuffle a list of strings. \n",
    "\n",
    "x = [\"car\", \"bar\", \"star\", \"tar\"]\n",
    "np.random.shuffle(x)\n",
    "print(x)"
   ]
  },
  {
   "cell_type": "markdown",
   "metadata": {},
   "source": [
    "Shuffle is a simple command that can be used to easily mix the arrangement of a list randomly as show above. The data can be a list, a tuple or a string. \n",
    "\n",
    "--------------------"
   ]
  },
  {
   "cell_type": "markdown",
   "metadata": {},
   "source": [
    "* ### Permutations\n",
    "\n",
    "**Generator.permutation(x, axis=0)**\n",
    " \n",
    "randomly permutes a sequence or returnes a range of permuted values. [10] \n",
    "\n",
    "\"In mathematics, a permutation of a set is an arrangement of its members into a sequence or linear order, or if the set is already ordered, a rearrangement of its elements. The word \"permutation\" also refers to the act or process of changing the linear order of an ordered set\" [11]\n",
    " \n",
    "\n",
    "* Parameters \n",
    "    * x: Randomly permutate if x is integar. If array, make copy then shuffle elements.\n",
    "    * axis: The axis which x is shuffled along. Default is 0.\n",
    "\n",
    "* Returns\n",
    "    * out: ndarray - permuted sequence or array range. \n",
    "    \n",
    "Note: for more information on this function see numpy documentation. [10]\n",
    "\n",
    "Examples\n"
   ]
  },
  {
   "cell_type": "code",
   "execution_count": 18,
   "metadata": {},
   "outputs": [
    {
     "data": {
      "text/plain": [
       "array([7, 2, 1, 6, 0, 8, 3, 4, 9, 5])"
      ]
     },
     "execution_count": 18,
     "metadata": {},
     "output_type": "execute_result"
    }
   ],
   "source": [
    "# permutate \n",
    "rng.permutation(10)"
   ]
  },
  {
   "cell_type": "code",
   "execution_count": 19,
   "metadata": {},
   "outputs": [
    {
     "data": {
      "text/plain": [
       "array([ 9, 18,  5,  4,  2, 16])"
      ]
     },
     "execution_count": 19,
     "metadata": {},
     "output_type": "execute_result"
    }
   ],
   "source": [
    "# permutate given list\n",
    "rng.permutation([2, 4, 5, 9, 16, 18])"
   ]
  },
  {
   "cell_type": "code",
   "execution_count": 20,
   "metadata": {},
   "outputs": [
    {
     "name": "stdout",
     "output_type": "stream",
     "text": [
      "First set: \n",
      " [[ 0  1  2  3]\n",
      " [ 4  5  6  7]\n",
      " [ 8  9 10 11]\n",
      " [12 13 14 15]]\n",
      "second set: \n",
      " [[ 0  1  2  3]\n",
      " [ 4  5  6  7]\n",
      " [ 8  9 10 11]\n",
      " [12 13 14 15]]\n"
     ]
    }
   ],
   "source": [
    "# example of permutation command on printed set of data. \n",
    "arr = np.arange(16).reshape((4, 4))\n",
    "print(\"First set: \\n\", arr)\n",
    "print(\"second set: \\n\", rng.permutation(arr))"
   ]
  },
  {
   "cell_type": "markdown",
   "metadata": {},
   "source": [
    "Permutations is another method of rearranging data. The feild of permutations is detailed and well studied. A rubix cube is a practical example of permutations. Each time you turn the cube there is another set of the same data in a different permutation. More information can be found here. [12]\n",
    "\n",
    "------------"
   ]
  },
  {
   "cell_type": "markdown",
   "metadata": {},
   "source": [
    "## Section 3. Explain the use and purpose of at least five “Distributions” functions.\n",
    "------------"
   ]
  },
  {
   "cell_type": "markdown",
   "metadata": {},
   "source": [
    "* ### Distribution 1: von meises\n",
    "\n",
    "**numpy.random.vonmises(mu, kappa, size=None)**\n",
    " \n",
    "Draws a sample from a von meises distribution. Samples are drawn with specific mode(mu) and dispersion(kappa) on the interval [-π, π]  [13] \n",
    "\n",
    "\"The Von Mises distribution (also called the circular normal or Tikhonov distribution) is a continuous probability distribution with a range from 0 to 2π, aka a circle. It is similar to the normal distribution, except coordinates are placed on a circular plane. The von Mises distribution can be thought of as a special case of the Von Mises-Fisher distribution, which is an extension of the distribution to multi-dimensional spheres.\n",
    "\n",
    "The distribution was first described by Richard von Mises in 1918 as a way to model the distribution of atomic weights. It’s now used to model a variety of phenomena including:\n",
    "\n",
    "* Brownian motion (Physics),\n",
    "* Epidemiology (spread of disease),\n",
    "* Interference Alignment (Signal Processing),\n",
    "* Privacy-preserving algorithms in (Machine Learning).\" [14]\n",
    " \n",
    "\n",
    "* Parameters \n",
    "    * mu: mode or centre of the distribution.\n",
    "    * kappa: dispersion of teh distribution. Must be greater than or equal to 0. \n",
    "    * size: output shape.\n",
    "    \n",
    "* Returns\n",
    "    * out: ndarray or scalar - Drawn samples from the parameterized von Mises distribution. \n",
    "    \n",
    "Note: for more information on this function see numpy documentation. [13]\n",
    "\n",
    "Examples"
   ]
  },
  {
   "cell_type": "code",
   "execution_count": 21,
   "metadata": {
    "scrolled": true
   },
   "outputs": [
    {
     "data": {
      "text/plain": [
       "array([-3.26554089e-01, -2.29546556e-01,  1.09501178e+00,  7.55094621e-01,\n",
       "       -7.86821805e-01, -3.46626650e-01,  1.76400525e-01, -6.79339539e-01,\n",
       "        6.64791304e-01, -2.74438847e-02, -1.36644530e-01, -1.44847702e+00,\n",
       "        3.07498021e-01, -4.87913537e-02, -7.08662765e-02, -8.36259902e-01,\n",
       "       -9.30636515e-03,  4.60429868e-01, -7.32967822e-02, -2.72124097e-01,\n",
       "       -1.08172701e+00,  2.05740384e-01,  2.31342261e-01, -2.59368678e-01,\n",
       "        1.59095184e-01,  5.45494913e-01, -4.17827240e-01, -4.10310930e-01,\n",
       "        5.73032400e-01,  7.66966605e-01, -1.29132102e-01,  2.13827772e-01,\n",
       "        9.36134732e-02, -6.46647536e-01,  6.05006737e-02, -5.40264070e-01,\n",
       "       -1.86878104e-01, -5.38232695e-01,  2.83197667e-01,  1.44279962e-01,\n",
       "       -7.73653153e-01,  1.51332934e-01,  2.89753341e-01,  5.76747458e-01,\n",
       "       -1.01810304e+00,  5.36848885e-01, -1.46225239e-01, -2.94720944e-01,\n",
       "        5.18797563e-01,  2.08067833e-01,  1.56811283e+00, -6.03236181e-01,\n",
       "        3.24712585e-01, -1.13870572e+00, -9.40030717e-02,  1.65351266e+00,\n",
       "       -5.83424962e-01, -4.88852610e-01, -7.57232326e-01,  5.40746853e-02,\n",
       "       -5.63492759e-01, -6.65883749e-01, -3.04687004e-01, -7.59932705e-02,\n",
       "        8.27237628e-01,  5.54741306e-01,  9.38926881e-02, -6.40127574e-01,\n",
       "        2.37181520e-01,  2.54773712e-01, -1.93760303e-01,  8.25468464e-02,\n",
       "        1.87514184e-01, -2.41633397e-01,  1.49551918e-01, -3.53302077e-01,\n",
       "        1.42960432e-01, -2.46010179e-01, -6.52596095e-01,  1.98302281e-01,\n",
       "        7.05058335e-01, -1.67229663e-01, -5.43984478e-01, -2.43713437e-01,\n",
       "       -5.71904039e-01, -4.38486764e-01,  7.97301676e-01, -4.76508886e-01,\n",
       "        3.24608367e-01,  5.39817923e-01,  5.18788404e-01, -2.49504217e-01,\n",
       "       -5.95401018e-01,  2.46464827e-01,  4.77211295e-01,  7.79969411e-01,\n",
       "        1.06436465e+00, -2.87018978e-01,  6.83261045e-02,  9.18881021e-01,\n",
       "       -4.16632744e-01, -8.73681006e-02, -3.24935713e-01, -5.94478330e-02,\n",
       "       -2.10775882e-01, -4.68231876e-01,  2.03728125e-01, -9.99287819e-01,\n",
       "        7.79340498e-01, -2.06044840e-01,  6.12820759e-01, -5.57309741e-01,\n",
       "       -3.70954672e-01, -6.60730379e-01, -1.91959331e-01, -3.31546878e-01,\n",
       "        2.13627364e-01, -1.85517970e-01,  2.23599623e-01,  3.33371717e-02,\n",
       "       -1.32493517e-01, -5.71456977e-01, -5.31403249e-01,  5.83812434e-01,\n",
       "        1.93745653e-02, -3.06167346e-01,  3.17986775e-01,  2.30633981e-01,\n",
       "        3.00511623e-01,  5.61913931e-01, -2.99519905e-02, -3.52390123e-02,\n",
       "        5.44987778e-01, -5.28737831e-01,  7.35671899e-01, -4.97589017e-01,\n",
       "       -8.66552883e-02, -1.71571018e-01, -2.48621953e-01, -3.72706938e-01,\n",
       "        4.64019892e-01,  4.23250978e-01, -5.58319039e-01,  7.17481726e-01,\n",
       "        8.21537925e-01, -9.88159306e-02,  2.39419353e-02,  2.29547735e-01,\n",
       "       -2.91306674e-01,  6.70520995e-01,  1.65055970e-01, -5.18981794e-02,\n",
       "        1.27667787e+00,  2.65171609e-01,  3.99479505e-01,  2.30649486e-01,\n",
       "        6.18061480e-01,  6.04812706e-01,  3.00663376e-01, -3.63862518e-01,\n",
       "        3.64552035e-01, -8.64825881e-01,  5.31757745e-01, -4.25537232e-02,\n",
       "       -1.83624297e-01, -1.43822709e-01, -1.05935096e-01, -2.22582159e-01,\n",
       "        7.80760872e-01, -3.90076027e-01, -1.14845006e+00, -4.66949365e-01,\n",
       "        1.02518600e+00, -6.00848033e-01, -1.69314379e-01,  7.08589500e-01,\n",
       "       -5.39873730e-01, -3.66467013e-01, -7.46989983e-02,  8.89124677e-01,\n",
       "       -5.81823141e-01, -2.52028893e-01,  1.01991055e+00, -3.19808790e-01,\n",
       "       -3.45493996e-01, -5.06319004e-01, -6.50400584e-01,  7.23556684e-01,\n",
       "       -3.43459775e-01,  2.70863989e-01,  1.38507972e-01, -7.56592726e-01,\n",
       "       -3.03179150e-01,  5.38892603e-01, -4.27593879e-01, -1.27261937e-01,\n",
       "       -4.86174951e-01, -2.65232158e-01,  5.31143071e-01, -3.92005321e-01,\n",
       "        1.10403733e+00, -2.51204965e-02, -6.77187748e-01, -5.43207912e-01,\n",
       "       -2.82187566e-01,  7.63197302e-01, -2.69732401e-01,  2.19125229e-01,\n",
       "       -2.48680541e-01, -9.08869441e-01, -8.67357610e-01, -6.17429967e-01,\n",
       "        4.64148470e-01, -2.99933666e-02, -9.14992847e-02, -2.46942834e-01,\n",
       "       -3.40069542e-01, -4.53033059e-02,  1.75985360e-01, -1.92157657e-01,\n",
       "       -2.42548340e-01, -3.24851293e-01, -3.23168324e-01, -8.17738339e-01,\n",
       "       -4.18016800e-01, -6.55378759e-01,  4.29345501e-01, -9.39238261e-01,\n",
       "       -1.76867449e-01, -1.02271678e+00,  1.53413808e-01,  1.49937841e+00,\n",
       "       -5.29003029e-01,  5.08632859e-02,  6.15568620e-01, -9.82707467e-01,\n",
       "        1.86003957e-01,  2.54024714e-01,  2.04425733e-01,  5.59407124e-01,\n",
       "       -7.68899131e-01, -5.47339837e-01, -7.02722303e-02,  2.45407874e-01,\n",
       "        1.06676626e-02, -2.33596193e-01, -1.67145518e-02, -2.84179486e-01,\n",
       "        4.57322472e-01,  6.48502588e-01, -7.18036740e-02,  1.06663975e-01,\n",
       "        2.81402157e-01, -6.09818694e-01, -8.33675070e-01, -6.89108929e-02,\n",
       "       -4.71956551e-01,  5.93688182e-01,  7.30806457e-01,  3.07068021e-01,\n",
       "       -6.39356866e-01,  1.85267464e-01, -6.20383876e-01,  2.97730270e-01,\n",
       "        2.81826797e-01, -1.99416968e-01,  4.84406483e-01, -4.07132368e-02,\n",
       "       -6.35734086e-01, -2.93929189e-01, -7.74048620e-01, -4.69608170e-01,\n",
       "       -4.04118022e-01,  2.22614540e-01, -5.44550547e-01,  6.88183144e-02,\n",
       "       -3.29064821e-01, -5.06255488e-01,  2.51070632e-01,  1.89730587e-01,\n",
       "       -2.70978596e+00,  1.63347617e-01, -4.68534785e-01, -2.37311525e-01,\n",
       "       -1.17524213e-02, -4.92520031e-01, -1.02750050e-01, -6.33113418e-01,\n",
       "       -1.27679891e-01,  1.34377493e-01, -2.55040758e-01, -4.64802072e-02,\n",
       "       -2.41166125e-01, -3.06177034e-01, -7.15796578e-01,  3.03042896e-01,\n",
       "        5.34891939e-01,  6.24126126e-01,  5.44516776e-01,  1.46649323e-01,\n",
       "       -9.25944790e-02, -5.68409820e-01, -5.25351425e-01, -3.01577163e-01,\n",
       "        5.27358755e-02, -1.00804950e+00, -7.92455842e-01, -3.17351691e-02,\n",
       "        6.16748251e-02,  3.63202613e-02, -8.23061921e-01, -8.15434546e-01,\n",
       "       -3.02531743e-01, -7.47886255e-01,  5.51832171e-01, -2.16793354e-01,\n",
       "        5.49123543e-01, -1.01412553e+00, -6.38645608e-01, -2.54044910e-01,\n",
       "       -1.43588468e-01,  3.16596534e-01,  8.61978756e-01, -1.21947103e+00,\n",
       "       -4.58375038e-03, -3.03220660e-01, -1.29628580e-01, -4.18218863e-01,\n",
       "        1.47686325e-01,  8.88289074e-01,  4.51780563e-01,  5.03243076e-01,\n",
       "        1.46510663e-02,  5.83220643e-01, -5.72042243e-01,  5.73133165e-01,\n",
       "       -3.21597285e-01,  3.52899193e-02, -3.07161733e-01,  7.35197675e-01,\n",
       "       -5.51407666e-01,  3.08511683e-02, -2.36075725e-01,  1.13426809e-01,\n",
       "        1.03762750e-01, -9.33179410e-02,  3.72506415e-01,  1.50025601e-01,\n",
       "       -2.94516205e-01, -6.82029727e-01,  5.93384107e-01,  5.13764517e-01,\n",
       "        2.92253270e-01, -1.33265675e-01,  8.81983263e-01,  3.55727705e-01,\n",
       "       -6.65485436e-01, -2.17303083e-01,  1.80679528e-01,  9.78620815e-01,\n",
       "        2.05633247e-01,  3.91261670e-02,  7.63707763e-01, -7.17467752e-02,\n",
       "        7.97330509e-01, -5.50029122e-01,  4.18597882e-01,  9.73384514e-01,\n",
       "       -1.15642414e+00, -8.85705225e-01, -1.12920552e-01,  1.01371434e+00,\n",
       "        3.21328145e-01,  9.72294283e-02, -2.69020411e-01,  3.33563284e-01,\n",
       "       -2.67707684e-01,  2.69250017e-02,  4.78856367e-01, -5.09529942e-01,\n",
       "       -1.36839955e-02,  6.25669072e-01,  3.51460702e-02, -9.58061737e-01,\n",
       "        8.17008428e-01,  4.00874930e-01, -2.08398813e-01,  7.49414869e-02,\n",
       "       -1.37974712e-01,  5.66028022e-01,  1.29474158e+00, -3.63508728e-02,\n",
       "       -5.73885666e-01, -1.36011950e+00,  6.34141098e-01, -7.35563641e-01,\n",
       "        2.92710654e-01, -1.00788895e-02,  6.18216317e-02,  5.04545898e-01,\n",
       "       -1.89223507e-01, -5.95872088e-01, -9.37593197e-01,  7.53046366e-01,\n",
       "        7.17079470e-01, -6.74423674e-02,  1.61682853e-01, -5.49412384e-02,\n",
       "       -1.09843690e-01,  6.80879375e-01,  2.95882743e-01,  9.29136857e-01,\n",
       "       -1.01281242e+00, -6.07535626e-01, -9.06714029e-01,  1.09792573e+00,\n",
       "       -8.85893625e-01,  9.39774566e-01,  2.93324036e-01,  2.78150206e-01,\n",
       "       -7.26674678e-03,  3.28989608e-01,  3.99053837e-01, -7.63198761e-01,\n",
       "       -5.68859098e-01,  2.27901720e-01,  5.34657919e-02,  6.25097866e-01,\n",
       "        1.23450972e+00,  6.90865034e-01, -2.73384069e-01,  2.23185564e-01,\n",
       "        1.06755991e-02,  1.04798837e-01, -1.89500768e-01,  6.12621134e-01,\n",
       "        2.25029378e-01,  1.23988420e+00, -6.28224772e-01, -7.74958856e-02,\n",
       "       -3.20684622e-01,  8.79671165e-01, -3.94981092e-01, -2.44234160e-01,\n",
       "        1.27789845e-01, -3.89423001e-01, -6.71911084e-01,  2.98711363e-01,\n",
       "       -5.91609473e-02,  1.14795496e-01, -6.86640316e-01, -2.09517782e-01,\n",
       "        3.26190356e-01,  4.46884855e-01, -2.09202700e-01,  7.44605833e-01,\n",
       "       -6.85655740e-01, -2.59737333e-01, -1.34726768e-01,  9.07659656e-02,\n",
       "       -1.05975596e-01, -7.61851300e-01, -1.71996074e+00,  1.35731947e+00,\n",
       "       -2.01461371e-01,  5.66365245e-01, -1.15804528e-01, -6.03453139e-01,\n",
       "        4.53274828e-01, -5.74082946e-01,  1.85683799e-01,  1.52907009e-01,\n",
       "        5.15362305e-01, -3.69759492e-01,  5.96174110e-01, -2.79152335e-01,\n",
       "        7.51715456e-02,  4.07143998e-01, -2.75957726e-01, -1.12594707e-01,\n",
       "       -7.27762701e-01,  1.72658365e-01, -3.39362902e-01,  6.34112137e-01,\n",
       "        2.85639953e-01, -1.97406180e-01, -7.50819179e-01, -4.65006196e-01,\n",
       "        3.53673752e-01, -2.54190986e-01, -1.25298318e-01, -2.74646099e-01,\n",
       "       -2.29728166e-01,  4.86197323e-01, -3.75426601e-01,  2.81261002e-03,\n",
       "        8.60442719e-01,  9.76409253e-01,  2.52605880e-01, -3.86918535e-01,\n",
       "       -4.33705028e-01, -1.43397038e-02, -3.33910967e-01,  8.27754888e-01,\n",
       "        2.69917677e-01, -5.15582633e-03,  3.67703436e-01, -6.78404675e-01,\n",
       "        2.83743571e-02, -3.90322978e-01,  3.71455930e-01,  7.50798299e-02,\n",
       "       -1.82386373e-01,  4.58794730e-01, -1.28272501e-01, -5.76993522e-01,\n",
       "       -1.33589793e-01,  5.78924535e-01,  1.97183367e-01,  6.48067089e-01,\n",
       "       -3.36979335e-01,  2.69293457e-01,  1.17278735e-01, -1.25558528e-01,\n",
       "        2.96263553e-01, -5.17036817e-01, -6.11421954e-01, -3.82923897e-01,\n",
       "        9.55430562e-01, -1.75967414e-01,  1.60376833e-01, -4.32398395e-01,\n",
       "        2.86846412e-01, -5.65447517e-01, -1.74012298e-01, -8.22728695e-01,\n",
       "        3.23413424e-01,  1.94421886e-01, -2.48618975e-01, -3.53107043e-01,\n",
       "        1.47276120e-01, -8.33136984e-01, -1.80057265e-02, -5.57464591e-01,\n",
       "        4.55997858e-01,  1.57260645e+00,  7.59469491e-01, -2.74368847e-01,\n",
       "       -7.71113333e-01,  1.23839553e+00, -2.13874937e-01, -5.30222344e-01,\n",
       "       -4.24324690e-01,  3.25709460e-01,  6.22687745e-01,  5.24771985e-02,\n",
       "        2.07804242e+00,  4.40482197e-01,  2.56747817e-01,  7.83718099e-01,\n",
       "        8.64916076e-01, -4.25622481e-01, -6.80928278e-01, -5.20863900e-02,\n",
       "        2.36278121e-01,  3.95534350e-03,  7.28817845e-02,  2.07975707e-01,\n",
       "       -7.88802134e-01,  3.97385606e-01, -3.32173045e-01, -1.15183455e+00,\n",
       "        1.10953490e-01,  1.08613985e+00,  9.31329652e-01,  1.52897032e-01,\n",
       "        1.99577685e-01,  2.65353653e-01, -5.53615074e-01, -5.22525477e-01,\n",
       "       -3.10936435e-02,  5.48017931e-01,  1.46796649e-01, -1.09153904e-03,\n",
       "       -1.06892044e+00, -4.68430217e-01, -2.61140112e-01,  7.06311255e-01,\n",
       "        2.18692066e-01,  3.44650001e-01, -8.55891034e-01,  5.84255755e-02,\n",
       "       -2.60272576e-01, -1.17068197e-01, -1.34620441e-01,  2.51525753e-01,\n",
       "        3.41148656e-02,  4.32617317e-01, -1.08706558e-01,  5.27713836e-01,\n",
       "       -9.84356093e-02,  2.07802127e-01, -1.53362620e-02, -5.52316296e-02,\n",
       "       -3.42771994e-01,  3.64413969e-01, -2.39587460e-01,  8.22776500e-01,\n",
       "       -6.93338198e-01, -2.69347042e-01, -4.74181201e-03,  5.70409729e-01,\n",
       "       -1.37358955e-01, -3.93105464e-01,  6.16300901e-01,  6.50291629e-01,\n",
       "        4.60674386e-01, -2.35179753e-01,  6.69918687e-01, -3.29560128e-01,\n",
       "       -5.72275680e-01, -1.16217790e+00,  2.23373693e-01, -2.43099004e-01,\n",
       "       -1.91507450e-01, -9.90164647e-02,  1.64163177e-02, -1.15306003e-01,\n",
       "       -5.38188642e-02,  8.17580720e-01,  2.93738529e-01, -5.15338672e-01,\n",
       "        3.90070556e-02,  2.49236252e-01, -9.55128270e-02, -2.14288287e+00,\n",
       "       -3.88046463e-02, -5.60809814e-01,  4.47037644e-01,  6.46869668e-01,\n",
       "       -1.13631565e+00,  8.26773664e-01, -2.86488609e-01, -2.94050684e-01,\n",
       "        5.55662950e-02,  4.56592818e-01,  4.61671403e-01,  1.16536466e-01,\n",
       "        1.86597046e-01, -1.90238980e-01,  1.53197218e-01,  2.08182034e-01,\n",
       "        1.23955398e-01,  1.66575872e-02,  2.99015275e-01, -5.31985856e-01,\n",
       "        1.48146140e-01,  5.25805466e-01, -9.69204278e-01, -3.37476989e-01,\n",
       "        6.78918198e-01, -6.93681834e-01, -6.67498639e-01, -1.15093976e-01,\n",
       "       -4.73575598e-01,  7.47921185e-01, -2.26199474e-01,  1.09084899e-01,\n",
       "        2.27496809e-01,  1.42868902e-02,  3.54958852e-01, -1.73243809e-01,\n",
       "        3.74183098e-02, -5.06790817e-01, -4.49326961e-01,  7.23905043e-02,\n",
       "        1.11524386e+00,  2.29205935e-01, -5.31023579e-01,  5.29360620e-01,\n",
       "       -2.21687001e-01, -2.96466690e-01,  1.40345576e-01, -1.55844409e-01,\n",
       "        2.40792188e-01, -1.07460820e+00,  1.77948540e-01, -5.44974154e-01,\n",
       "       -3.79365655e-01,  4.74823509e-01,  2.31136876e-01, -2.74927685e-01,\n",
       "       -8.39922823e-01, -3.68813922e-01, -7.53156052e-01,  4.96786285e-01,\n",
       "       -8.27174557e-01,  1.90195571e-01, -8.45974397e-02,  9.79762786e-02,\n",
       "        2.23307257e-01, -4.79057351e-01,  8.00078207e-01, -2.87463541e-01,\n",
       "       -1.03428479e+00, -4.97342710e-02,  6.80416308e-01,  6.15858486e-02,\n",
       "        3.50199099e-01, -8.54438462e-01, -4.51145710e-01,  4.00512512e-01,\n",
       "        3.37140737e-01,  4.11754381e-01,  1.68590847e+00, -2.31693894e-01,\n",
       "        4.80749381e-01,  1.43600445e+00,  3.68493685e-01, -9.97880325e-02,\n",
       "        7.69733967e-01,  2.67680993e-01,  6.01502456e-01, -2.34860953e-01,\n",
       "       -7.27580560e-01, -5.28587245e-01,  7.87377833e-01,  9.19970372e-01,\n",
       "        3.76197395e-01,  1.04325887e+00, -4.74413249e-01,  6.78178003e-02,\n",
       "        9.29573787e-01,  8.98514062e-01,  3.71109039e-01, -9.36224805e-01,\n",
       "       -7.81721690e-02, -8.96161049e-02,  4.14705710e-01,  1.09805404e-01,\n",
       "        6.45715989e-02,  3.97772322e-01,  1.07762128e+00, -2.17638490e-01,\n",
       "        5.35918204e-01, -4.18170268e-01,  4.99736330e-01, -3.59373307e-01,\n",
       "        2.23855848e-01,  1.84303439e-02,  2.79664677e-01,  2.20275412e-01,\n",
       "       -3.28475893e-01,  3.26333213e-01, -1.33845119e-01, -1.01992729e+00,\n",
       "        1.03001586e-01,  7.07153661e-01, -4.67176377e-01, -3.96561682e-01,\n",
       "       -6.91692645e-01,  1.15339673e+00,  7.01189202e-01, -6.88812975e-01,\n",
       "        4.56269497e-02, -3.46159591e-01, -2.40193548e-01, -5.57349894e-01,\n",
       "        4.23036975e-01,  1.65396739e-01, -1.09468942e+00,  7.12266429e-01,\n",
       "        1.45912291e-01,  3.57121753e-01,  9.56546172e-01, -6.74151636e-01,\n",
       "       -1.47001581e-01, -6.38405944e-01, -5.05868036e-02, -8.46291466e-01,\n",
       "       -7.81425488e-01, -6.20559274e-01,  1.49264275e-01,  4.70807335e-02,\n",
       "       -1.69806724e-01, -7.92934642e-02, -8.38018999e-03, -5.23952966e-01,\n",
       "        3.02578706e-01,  1.82417177e-01, -1.47923181e-01,  2.30429090e-01,\n",
       "       -7.22687122e-02, -4.17411719e-01,  7.54215862e-01, -3.24396927e-01,\n",
       "        2.55952193e-01, -3.24897192e-02,  4.63014223e-01,  7.81012090e-01,\n",
       "        7.24168847e-01,  7.36856681e-02,  6.66534532e-01, -1.89835147e-01,\n",
       "        2.36081150e-01, -5.09574106e-01,  6.81058243e-01,  5.59036262e-01,\n",
       "       -3.57727051e-01,  4.61339027e-01,  2.58866058e-02,  2.69236461e-02,\n",
       "        3.44188786e-01,  4.22556747e-01, -1.03903369e-01,  2.01201431e+00,\n",
       "       -6.84827188e-01, -1.27720030e+00,  2.08802077e-01,  9.19462695e-01,\n",
       "       -1.17611810e+00,  3.50279207e-01, -3.76480381e-01,  6.24192322e-01,\n",
       "       -9.82372249e-02, -4.90551597e-01, -7.67938393e-01, -8.69264345e-01,\n",
       "       -1.54023825e-01, -1.53757193e-01, -5.41569600e-01,  4.19790658e-01,\n",
       "       -5.60705211e-01, -1.22902420e-01, -2.83888361e-01,  9.57572660e-02,\n",
       "       -1.92886890e-01,  1.18287013e+00,  1.13876735e+00, -9.44924091e-02,\n",
       "        1.92459479e-01, -1.15292762e-02, -6.37495301e-01,  4.55362301e-01,\n",
       "        9.11072880e-02,  8.56316110e-01,  9.54456012e-02,  1.41467235e-01,\n",
       "       -7.03501750e-02, -1.03461170e+00,  1.16213033e+00,  1.09658493e+00,\n",
       "        2.80865220e-01,  8.37389539e-01,  8.50925461e-02, -2.81339234e-01,\n",
       "       -6.57459859e-01, -8.91402505e-01, -5.25437853e-01,  4.21490553e-01,\n",
       "        7.48550002e-01,  1.14981780e+00,  2.97897360e-01, -2.79984152e-01,\n",
       "       -6.89278174e-01, -1.28955570e-01,  1.33841610e-01, -2.88715169e-01,\n",
       "       -3.49628697e-01, -2.40592256e-01,  6.14898929e-03,  8.08225736e-01,\n",
       "       -6.28598025e-01,  6.73520994e-01,  3.47351555e-01, -4.70327325e-01,\n",
       "        2.58210771e-01, -7.87540482e-01, -6.57072244e-01,  8.14949483e-01,\n",
       "       -2.78504248e-01, -7.03793066e-01, -3.27110177e-01, -2.02567918e-01,\n",
       "       -3.36227997e-03,  3.96948717e-01,  3.28032792e-01,  1.55045219e-01,\n",
       "        7.34819286e-01, -1.60694613e-01, -9.18369167e-02, -8.15141452e-02,\n",
       "        2.02356293e-01,  4.00761380e-01, -7.80271738e-01, -7.33612158e-01,\n",
       "        8.83610238e-01,  4.76457870e-01,  2.47400026e-01, -2.28408497e-01,\n",
       "        1.28811933e-01, -7.29661796e-01,  3.14326601e-01, -2.89397442e-01,\n",
       "        6.60318316e-01, -8.76593670e-01,  6.43549403e-01,  3.24264678e-01,\n",
       "       -5.47938536e-01,  1.58782625e+00, -1.83448532e-01, -5.05509150e-01,\n",
       "       -1.94508604e-01, -7.54546142e-02,  6.69647803e-01,  6.57859277e-01,\n",
       "        1.75996156e-01,  5.05225396e-01,  8.81091907e-01, -4.99490501e-01,\n",
       "        9.88305936e-01, -2.14156303e-01,  4.86905164e-02,  3.50062325e-01,\n",
       "        8.61759099e-01,  7.22461405e-01,  8.76820572e-01, -5.06206329e-01,\n",
       "       -1.33811024e-01, -1.14305236e-01, -5.62315559e-01,  4.94533876e-03,\n",
       "       -3.60916616e-01, -1.27824727e+00,  8.40927936e-01, -2.73217609e-01,\n",
       "        1.26981680e-01, -1.62135390e-01, -1.39053121e-01,  1.86993612e-01,\n",
       "        7.75046334e-01,  1.65283998e-01,  2.39663933e-01,  7.37485845e-01,\n",
       "        7.86960797e-01, -1.08042464e+00,  3.59126864e-01, -7.16158931e-01,\n",
       "       -6.06507849e-01, -6.85891955e-01, -5.20807171e-01, -3.07754002e-01,\n",
       "        3.61431963e-01, -2.42631809e-01,  8.45799769e-01,  2.78389352e-01,\n",
       "       -1.12491827e-01, -1.37620385e+00,  2.12725131e-01, -9.80110790e-02,\n",
       "       -8.67418693e-01, -4.13167318e-01,  7.55245471e-01,  3.56637268e-01,\n",
       "       -5.89640627e-01,  1.13960070e-01, -9.09303172e-01, -3.17079535e-01,\n",
       "        4.53723639e-01, -6.09023750e-01, -9.93923929e-02,  5.10686541e-01,\n",
       "        1.42648243e-01, -4.67248310e-01,  7.50374857e-01,  3.94595524e-01,\n",
       "        6.82970400e-01,  1.59606072e-01, -3.47538823e-01,  4.72121132e-02,\n",
       "       -9.20887946e-01,  3.57229224e-01,  2.88114752e-01, -4.07856428e-01,\n",
       "        2.40869514e-02,  1.36527499e-01,  1.96701244e-01,  6.43802705e-01,\n",
       "       -4.97450548e-01,  2.29580679e-01,  3.74017741e-01,  2.72710471e-01,\n",
       "       -5.29262744e-01,  3.80206129e-01,  5.94626185e-01,  5.69864871e-01,\n",
       "        5.52617083e-01,  1.35027288e-01, -2.49349316e-01, -2.46012352e-01])"
      ]
     },
     "execution_count": 21,
     "metadata": {},
     "output_type": "execute_result"
    }
   ],
   "source": [
    "mu, kappa = 0.0, 4.0 # mean and dispersion\n",
    "s = np.random.vonmises(mu, kappa, 1000)\n",
    "s # Display array"
   ]
  },
  {
   "cell_type": "code",
   "execution_count": 22,
   "metadata": {},
   "outputs": [
    {
     "data": {
      "image/png": "[encoded data removed]",
      "text/plain": [
       "<Figure size 432x288 with 1 Axes>"
      ]
     },
     "metadata": {
      "needs_background": "light"
     },
     "output_type": "display_data"
    }
   ],
   "source": [
    "from scipy.special import i0 # import module\n",
    "# Plot histogram from von meises data\n",
    "plt.hist(s, 50, density=True)\n",
    "\n",
    "# create probability density function and plot with histogram\n",
    "x = np.linspace(-np.pi, np.pi, num=51) # np.linspaace command explained [15]\n",
    "y = np.exp(kappa*np.cos(x-mu))/(2*np.pi*i0(kappa))  \n",
    "plt.plot(x, y, linewidth=2, color='r')  # plot line\n",
    "plt.show()"
   ]
  },
  {
   "cell_type": "markdown",
   "metadata": {},
   "source": [
    "Above is an example of data graphed using the vonmeises distribution. [16]\n",
    "\n",
    "https://en.wikipedia.org/wiki/Von_Mises_distribution\n",
    "\n",
    "---------------"
   ]
  },
  {
   "cell_type": "markdown",
   "metadata": {},
   "source": [
    "* ### Distribution 2: binomial\n",
    "\n",
    "**Generator.binomial(n, p, size=None)**\n",
    " \n",
    "Creates a sample from a binomial distributon. The specific paramaters are; n, the number of trialls, and  p, the probability of sucess. \n",
    "\n",
    "\"A binomial distribution can be thought of as simply the probability of a SUCCESS or FAILURE outcome in an experiment or survey that is repeated multiple times.\" [18] It is a type of distribution that has two possible outcomes. e.g coin toss - heads or tails. \n",
    "\n",
    "* Parameters \n",
    "    * n: trialls - paramater of the distribution greater than or equal to zero.\n",
    "    * p: probability of success, in the interval [1,0]\n",
    "    * size: output shape\n",
    "\n",
    "* Returns\n",
    "    * out: ndarray or scalar - Drawn samples from the parameterized binomial distribution, where each sample is equal to the number of successes over the n trials.\n",
    "    \n",
    "Note: for more information on this function see numpy documentation. [17]\n",
    "\n",
    "Examples"
   ]
  },
  {
   "cell_type": "code",
   "execution_count": 23,
   "metadata": {
    "scrolled": true
   },
   "outputs": [
    {
     "data": {
      "text/plain": [
       "array([4, 6, 6, ..., 5, 7, 5], dtype=int64)"
      ]
     },
     "execution_count": 23,
     "metadata": {},
     "output_type": "execute_result"
    }
   ],
   "source": [
    "rng = np.random.default_rng()\n",
    "n, p = 10, .5  # number of trials, probability of each trial\n",
    "s = rng.binomial(n, p, 10000)\n",
    "# result of flipping a coin 10 times, tested 10000 times.\n",
    "s\n",
    "# plt.hist(s, bins=10, range=None, rwidth=None, color=None, label=\"tEST\")\n"
   ]
  },
  {
   "cell_type": "code",
   "execution_count": 24,
   "metadata": {},
   "outputs": [
    {
     "data": {
      "text/plain": [
       "(array([   9.,   99.,  467., 1185., 2029., 2504., 1968., 1176.,  445.,\n",
       "         118.]),\n",
       " array([ 0.,  1.,  2.,  3.,  4.,  5.,  6.,  7.,  8.,  9., 10.]),\n",
       " <a list of 10 Patch objects>)"
      ]
     },
     "execution_count": 24,
     "metadata": {},
     "output_type": "execute_result"
    },
    {
     "data": {
      "image/png": "[encoded data removed]",
      "text/plain": [
       "<Figure size 432x288 with 1 Axes>"
      ]
     },
     "metadata": {
      "needs_background": "light"
     },
     "output_type": "display_data"
    }
   ],
   "source": [
    "plt.hist(s, bins=10, range=None, rwidth=None, color=None, label=\"tEST\")\n",
    "\n",
    "# matplotlib.pyplot.hist(x, bins=2 range=None, rwidth=None, color=None, label=tEST)"
   ]
  },
  {
   "cell_type": "markdown",
   "metadata": {},
   "source": [
    "# Write more info on binomial distributions\n",
    "\n",
    "---------------"
   ]
  },
  {
   "cell_type": "markdown",
   "metadata": {},
   "source": [
    "* ### Distribution 3: Uniform\n",
    "\n",
    "**Generator.uniform(low=0.0, high=1.0, size=None)**\n",
    "\n",
    "Draws a sample of a iniform distribution. Any value within the given interval is equally likely to be drawn. \n",
    "\n",
    "A uniform distribution is a probability distribution that has constant probability. [20]\n",
    "\n",
    "* Parameters \n",
    "    * low: lower boundary. values will be greater than or equal to. \n",
    "    * high: upper boundary. values will be less than. \n",
    "    * size: output shape\n",
    "\n",
    "* Returns\n",
    "    * out: ndarray or scalar - Drawn samples from the parameterized uniform distribution\n",
    "    \n",
    "Note: for more information on this function see numpy documentation. [19]\n",
    "\n",
    "Examples"
   ]
  },
  {
   "cell_type": "code",
   "execution_count": 40,
   "metadata": {},
   "outputs": [
    {
     "data": {
      "text/plain": [
       "(array([15., 13., 10.,  6.,  6., 12., 11.,  9.,  9.,  9.]),\n",
       " array([ 1. , 10.8, 20.6, 30.4, 40.2, 50. , 59.8, 69.6, 79.4, 89.2, 99. ]),\n",
       " <a list of 10 Patch objects>)"
      ]
     },
     "execution_count": 40,
     "metadata": {},
     "output_type": "execute_result"
    },
    {
     "data": {
      "image/png": "[encoded data removed]",
      "text/plain": [
       "<Figure size 432x288 with 1 Axes>"
      ]
     },
     "metadata": {
      "needs_background": "light"
     },
     "output_type": "display_data"
    }
   ],
   "source": [
    "# set size = 100\n",
    "x = rng.integers(100, size=100)\n",
    "plt.hist(x)"
   ]
  },
  {
   "cell_type": "code",
   "execution_count": 42,
   "metadata": {
    "scrolled": true
   },
   "outputs": [
    {
     "data": {
      "text/plain": [
       "(array([10067., 10006., 10100., 10042.,  9971., 10008.,  9961.,  9926.,\n",
       "        10121.,  9798.]),\n",
       " array([ 0. ,  9.9, 19.8, 29.7, 39.6, 49.5, 59.4, 69.3, 79.2, 89.1, 99. ]),\n",
       " <a list of 10 Patch objects>)"
      ]
     },
     "execution_count": 42,
     "metadata": {},
     "output_type": "execute_result"
    },
    {
     "data": {
      "image/png": "[encoded data removed]",
      "text/plain": [
       "<Figure size 432x288 with 1 Axes>"
      ]
     },
     "metadata": {
      "needs_background": "light"
     },
     "output_type": "display_data"
    }
   ],
   "source": [
    "# set size = 100000\n",
    "x = rng.integers(100, size=100000)\n",
    "plt.hist(x)"
   ]
  },
  {
   "cell_type": "markdown",
   "metadata": {},
   "source": [
    "The first plot shows 100 numbers drawn from 1 - 100. It is not immidiatly apparent that this is a uniofrm samle. Plotting 100,000 numbers gives us a better understanding of the uniform distribution. \n",
    "\n",
    "This is generally the distribution expected from a computer when a random generated number is needed. So the number 4 is as likely to come out as the number 10,000 etc. It will generate all numbers with the same probability.\n",
    "\n",
    "-------------"
   ]
  },
  {
   "cell_type": "markdown",
   "metadata": {},
   "source": [
    "* ### Distribution 4: normal\n",
    "\n",
    "**numpy.random.normal(loc=0.0, scale=1.0, size=None)**\n",
    "\n",
    "Draw random samples from a normal (Gaussian) distribution.\n",
    "\n",
    "\"The normal distribution is the most important probability distribution in statistics because it fits many natural phenomena. For example, heights, blood pressure, measurement error, and IQ scores follow the normal distribution. It is also known as the Gaussian distribution and the bell curve.\" [22]\n",
    "\n",
    "It is a symmetric distribution where most of the observations cluster around the central peak and the probabilities for values further away from the mean taper off equally in both directions. Extreme values in both tails of the distribution are similarly unlikely.\n",
    "\n",
    "\n",
    "* Parameters \n",
    "    * loc: mean of the distribution\n",
    "    * scale: standard deviation of the distribution\n",
    "    * size: output shape\n",
    "    \n",
    "* Returns\n",
    "    * out: ndarray or scalar - Drawn samples from the parameterized normal distribution\n",
    "    \n",
    "Note: for more information on this function see numpy documentation. [21]\n",
    "\n",
    "Examples"
   ]
  },
  {
   "cell_type": "code",
   "execution_count": 26,
   "metadata": {},
   "outputs": [],
   "source": [
    " # Students heights - centerd around middle. distribouts towards each side. "
   ]
  },
  {
   "cell_type": "code",
   "execution_count": 27,
   "metadata": {},
   "outputs": [
    {
     "data": {
      "text/plain": [
       "(array([  1.,   8.,  41., 117., 230., 261., 188., 103.,  40.,  11.]),\n",
       " array([-0.35783385, -0.29231638, -0.2267989 , -0.16128142, -0.09576395,\n",
       "        -0.03024647,  0.03527101,  0.10078848,  0.16630596,  0.23182343,\n",
       "         0.29734091]),\n",
       " <a list of 10 Patch objects>)"
      ]
     },
     "execution_count": 27,
     "metadata": {},
     "output_type": "execute_result"
    },
    {
     "data": {
      "image/png": "[encoded data removed]",
      "text/plain": [
       "<Figure size 432x288 with 1 Axes>"
      ]
     },
     "metadata": {
      "needs_background": "light"
     },
     "output_type": "display_data"
    }
   ],
   "source": [
    "mu, sigma = 0, 0.1 # mean and standard deviation\n",
    "s = np.random.normal(mu, sigma, 1000)\n",
    "plt.hist(s)"
   ]
  },
  {
   "cell_type": "code",
   "execution_count": 28,
   "metadata": {},
   "outputs": [
    {
     "data": {
      "image/png": "[encoded data removed]",
      "text/plain": [
       "<Figure size 432x288 with 1 Axes>"
      ]
     },
     "metadata": {
      "needs_background": "light"
     },
     "output_type": "display_data"
    }
   ],
   "source": [
    "# Probability density function plotted\n",
    "\n",
    "count, bins, ignored = plt.hist(s, 30, density=True)\n",
    "plt.plot(bins, 1/(sigma * np.sqrt(2 * np.pi)) *\n",
    "               np.exp( - (bins - mu)**2 / (2 * sigma**2) ),\n",
    "         linewidth=2, color='r')\n",
    "plt.show()"
   ]
  },
  {
   "cell_type": "markdown",
   "metadata": {},
   "source": [
    "This allows us to match the probability expected with real world data. eg. class heights. etc. \n",
    "\n",
    "----------------"
   ]
  },
  {
   "cell_type": "markdown",
   "metadata": {},
   "source": [
    "* ### Distribution 5: chisquare\n",
    "https://numpy.org/doc/stable/reference/random/generated/numpy.random.Generator.chisquare.html#numpy.random.Generator.chisquare"
   ]
  },
  {
   "cell_type": "markdown",
   "metadata": {},
   "source": [
    "[1] https://numpy.org/doc/stable/reference/random/index.html\n",
    "\n",
    "[2] https://www.w3schools.com/python/numpy_random.asp\n",
    "\n",
    "[3] https://realpython.com/python-random/\n",
    "\n",
    "[4] https://numpy.org/doc/stable/reference/random/generator.html#numpy.random.Generator\n",
    "\n",
    "[5] https://numpy.org/doc/stable/reference/random/generated/numpy.random.rand.html#numpy.random.rand\n",
    "\n",
    "[6] https://numpy.org/doc/stable/reference/random/generated/numpy.random.Generator.integers.html#numpy.random.Generator.integers\n",
    "\n",
    "[7] https://numpy.org/doc/stable/reference/random/generated/numpy.random.Generator.choice.html#numpy.random.Generator.choice\n",
    "\n",
    "[8] https://numpy.org/doc/stable/reference/random/generated/numpy.random.Generator.bytes.html#numpy.random.Generator.bytes\n",
    "\n",
    "[9] https://numpy.org/doc/stable/reference/random/generated/numpy.random.Generator.shuffle.html#numpy.random.Generator.shuffle\n",
    "\n",
    "[10] https://numpy.org/doc/stable/reference/random/generated/numpy.random.Generator.permutation.html#numpy.random.Generator.permutation\n",
    "\n",
    "[11] https://en.wikipedia.org/wiki/Permutation\n",
    "\n",
    "[12] https://en.wikipedia.org/wiki/Rubik%27s_Cube#Permutations\n",
    "\n",
    "[13] https://numpy.org/doc/stable/reference/random/generated/numpy.random.vonmises.html#numpy.random.vonmises\n",
    "\n",
    "[14] https://www.statisticshowto.com/von-mises-distribution/\n",
    "\n",
    "[15] https://numpy.org/doc/stable/reference/generated/numpy.linspace.html\n",
    "\n",
    "[16] https://en.wikipedia.org/wiki/Von_Mises_distribution\n",
    "\n",
    "[17] https://numpy.org/doc/stable/reference/random/generated/numpy.random.Generator.binomial.html#numpy.random.Generator.binomial\n",
    "\n",
    "[18] https://www.statisticshowto.com/probability-and-statistics/binomial-theorem/binomial-distribution-formula/\n",
    "\n",
    "[19] https://numpy.org/doc/stable/reference/random/generated/numpy.random.Generator.uniform.html#numpy.random.Generator.uniform\n",
    "\n",
    "[20] https://www.statisticshowto.com/uniform-distribution/\n",
    "\n",
    "[21] https://numpy.org/doc/stable/reference/random/generated/numpy.random.normal.html#numpy.random.normal\n",
    "\n",
    "[22] https://statisticsbyjim.com/basics/normal-distribution/\n",
    "\n",
    "\n",
    "\n",
    "\n",
    "[2] https://docs.scipy.org/doc/numpy-1.15.0/reference/routines.random.html\n",
    "\n",
    "[3]  https://numpy.org/doc/stable/reference/random/generator.html#numpy.random.Generatorhttps://numpy.org/doc/stable/reference/random/generator.html#numpy.random.Generator\n"
   ]
  },
  {
   "cell_type": "code",
   "execution_count": 29,
   "metadata": {},
   "outputs": [
    {
     "data": {
      "text/plain": [
       "(array([3., 0., 0., 0., 1., 0., 0., 0., 0., 1.]),\n",
       " array([ 0.41466254,  1.72738461,  3.04010668,  4.35282875,  5.66555082,\n",
       "         6.97827288,  8.29099495,  9.60371702, 10.91643909, 12.22916116,\n",
       "        13.54188322]),\n",
       " <a list of 10 Patch objects>)"
      ]
     },
     "execution_count": 29,
     "metadata": {},
     "output_type": "execute_result"
    },
    {
     "data": {
      "image/png": "[encoded data removed]",
      "text/plain": [
       "<Figure size 432x288 with 1 Axes>"
      ]
     },
     "metadata": {
      "needs_background": "light"
     },
     "output_type": "display_data"
    }
   ],
   "source": [
    "x = np.random.default_rng().chisquare(3,5)\n",
    "plt.hist(x)"
   ]
  },
  {
   "cell_type": "markdown",
   "metadata": {},
   "source": [
    "# NOTE - add extra dividers in distribution curves"
   ]
  },
  {
   "cell_type": "markdown",
   "metadata": {},
   "source": [
    "## 4. Explain the use of seeds in generating pseudorandom numbers.\n",
    "\n",
    "------------\n"
   ]
  },
  {
   "cell_type": "markdown",
   "metadata": {},
   "source": [
    "https://numpy.org/doc/stable/reference/random/generated/numpy.random.seed.html#numpy.random.seed\n",
    "\n",
    "For legacy reasons. Further research needed\n",
    "\n",
    "https://numpy.org/doc/stable/reference/random/bit_generators/mt19937.html"
   ]
  },
  {
   "cell_type": "code",
   "execution_count": null,
   "metadata": {},
   "outputs": [],
   "source": []
  },
  {
   "cell_type": "markdown",
   "metadata": {},
   "source": [
    "## References\n",
    "----------"
   ]
  },
  {
   "cell_type": "code",
   "execution_count": null,
   "metadata": {},
   "outputs": [],
   "source": []
  }
 ],
 "metadata": {
  "kernelspec": {
   "display_name": "Python 3",
   "language": "python",
   "name": "python3"
  },
  "language_info": {
   "codemirror_mode": {
    "name": "ipython",
    "version": 3
   },
   "file_extension": ".py",
   "mimetype": "text/x-python",
   "name": "python",
   "nbconvert_exporter": "python",
   "pygments_lexer": "ipython3",
   "version": "3.8.3"
  }
 },
 "nbformat": 4,
 "nbformat_minor": 4
}
