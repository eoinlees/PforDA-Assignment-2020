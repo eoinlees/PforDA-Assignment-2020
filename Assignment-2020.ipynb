{
 "cells": [
  {
   "cell_type": "markdown",
   "metadata": {},
   "source": [
    "# Programming for Data Analytics -  numpy.random - Assignment\n",
    "### Eoin Lees - G00387888 - November 2020\n",
    "------------"
   ]
  },
  {
   "cell_type": "markdown",
   "metadata": {},
   "source": [
    "## Section 1. Explain the overall purpose of the package.\n",
    "--------------"
   ]
  },
  {
   "cell_type": "markdown",
   "metadata": {},
   "source": [
    "## <u>numpy.random</u> \n",
    "\n",
    "The overall purpose of the numpy.random package is to \"produce pseudo random numbers using combinations of a BitGenerator to create sequences and a Generator to use those sequences to sample from different statistical distributions\" [\\[1\\]][1]\n",
    "\n",
    "A random number does not mean a different number every time. Random means something that cannot be predicted logically. In order for a computer to achieve this it uses BitGenerators to create a number based on a generation algorithm. These are known as psudo random numbers. [\\[2\\]][2]\n",
    "\n",
    "\n",
    "##### BitGenerators: \n",
    "\n",
    "Objects that generate random numbers. These are typically unsigned integer words filled with sequences of either 32 or 64 random bits. There are a number of different generators than can be used for this since Numpy version 1.17.0. The use of seeds and there effects on this is explored further in section 4.   \n",
    "\n",
    "##### Generators: \n",
    "\n",
    "Objects that transform sequences of random bits from a BitGenerator into sequences of numbers that follow a specific probability distribution (such as uniform, Normal or Binomial) within a specified interval. In this document there is a description of the following distributions  in section 3: \n",
    "\n",
    "* Von meises \n",
    "* Binomial\n",
    "* Uniform\n",
    "* Normal\n",
    "* Chi squared\n",
    "\n",
    "[\\[3\\]][3]\n",
    "\n",
    "It is possible to create real random numbers using a true random number generator. An example of this can be seen at https://www.random.org/integers/ which uses atmospheric noise to create true random numbers. However this is a lot more involved and for the purpose of this analysis not relevant. \n",
    "\n",
    "It is worth noteing however that it is commonly reccomended not use psudo-random number generators if you require a cryptographically secure number. \n",
    "\n",
    "[1]: https://numpy.org/doc/stable/reference/random/index.html\n",
    "\n",
    "[2]: https://www.w3schools.com/python/numpy_random.asp\n",
    "\n",
    "[3]: https://realpython.com/python-random/\n"
   ]
  },
  {
   "cell_type": "code",
   "execution_count": 1,
   "metadata": {},
   "outputs": [],
   "source": [
    "# Import all modules for this notebook\n",
    "import numpy as np\n",
    "import matplotlib.pyplot as plt\n",
    "import seaborn as sns"
   ]
  },
  {
   "cell_type": "markdown",
   "metadata": {},
   "source": [
    "## Section 2. Explain the use of the “Simple random data” and “Permutations” functions.\n",
    "-----------"
   ]
  },
  {
   "cell_type": "markdown",
   "metadata": {},
   "source": [
    "## <u>Simple Random Data</u>\n",
    "\n",
    "\n",
    "\n",
    "Simple random data is broken down below into the following: [\\[4\\]][4]\n",
    "\n",
    "* random\n",
    "* integers\n",
    "* choice\n",
    "* bytes\n",
    "\n",
    "-------------\n",
    "[4]: https://numpy.org/doc/stable/reference/random/generator.html#numpy.random.Generator"
   ]
  },
  {
   "cell_type": "markdown",
   "metadata": {},
   "source": [
    "* ### Random\n",
    "\n",
    "**numpy.random.rand(d0, d1, ..., dn)**\n",
    "\n",
    "Creates a random number between 0 and 1 that is uniformilly distributed. \n",
    "\n",
    "* Parameters \n",
    "    * d0, d1, …, dnint, optional\n",
    "    * The dimensions of the returned array, must be non-negative. If no argument is given a single Python float is returned.\n",
    "\n",
    "* Returns\n",
    "    * out: ndarray, shape (d0, d1, ..., dn)\n",
    "    * Random values.\n",
    "\n",
    "Note: for more information on this function see numpy documentation. [\\[5\\]][5]\n",
    "\n",
    "Examples:\n",
    "\n",
    "[5]: https://numpy.org/doc/stable/reference/random/generated/numpy.random.rand.html#numpy.random.rand"
   ]
  },
  {
   "cell_type": "code",
   "execution_count": 2,
   "metadata": {},
   "outputs": [
    {
     "data": {
      "text/plain": [
       "0.7909329560562373"
      ]
     },
     "execution_count": 2,
     "metadata": {},
     "output_type": "execute_result"
    }
   ],
   "source": [
    "np.random.rand()\n",
    "# creates a random number between 0 and 1. Uniformily distributed. "
   ]
  },
  {
   "cell_type": "code",
   "execution_count": 3,
   "metadata": {},
   "outputs": [
    {
     "data": {
      "text/plain": [
       "array([[0.68886471, 0.83916272],\n",
       "       [0.92602792, 0.45329627],\n",
       "       [0.59284494, 0.57475195],\n",
       "       [0.45467691, 0.17074321]])"
      ]
     },
     "execution_count": 3,
     "metadata": {},
     "output_type": "execute_result"
    }
   ],
   "source": [
    "x = np.random.rand(4,2)\n",
    "# creates an array with 4 lists of 2 random numbers \n",
    "x"
   ]
  },
  {
   "cell_type": "markdown",
   "metadata": {},
   "source": [
    "The above examples show how to use numpy.random.rand(). As stated in the parameters the dimensions of the returned array must be non negative. \n",
    "\n",
    "-------------"
   ]
  },
  {
   "cell_type": "markdown",
   "metadata": {},
   "source": [
    "* ### Integers\n",
    "\n",
    "**Generator.integers(low, high=None, size=None, dtype=np.int64, endpoint=False)**\n",
    "\n",
    "Integers returns random integers from low to high (not included). it returns ranndom integers from the “discrete uniform” distribution of the specified dtype. If high is None (the default), then results are from 0 to low. \n",
    "\n",
    "* Parameters \n",
    "    * low: the lowest value to select from. \n",
    "    * high: the highest value to select from. \n",
    "    * size: the output shape. number of values returned or number of values and lists returned. \n",
    "    * dtype: dtype, default is np.int64\n",
    "    * endpoint: If true, sample from the interval [low, high] instead of the default [low, high) Defaults to False\n",
    "   \n",
    "\n",
    "* Returns\n",
    "    * out: (int or ndarray of ints) size-shaped array of random integers from the appropriate distribution, or a single such random int if size not provided.\n",
    "\n",
    "Note: for more information on this function see numpy documentation. [\\[6\\]][6]\n",
    "\n",
    "Examples:\n",
    "\n",
    "[6]: https://numpy.org/doc/stable/reference/random/generated/numpy.random.Generator.integers.html#numpy.random.Generator.integers"
   ]
  },
  {
   "cell_type": "code",
   "execution_count": 4,
   "metadata": {},
   "outputs": [],
   "source": [
    "#  create rng - random number generator object\n",
    "rng = np.random.default_rng()"
   ]
  },
  {
   "cell_type": "code",
   "execution_count": 5,
   "metadata": {},
   "outputs": [
    {
     "data": {
      "text/plain": [
       "array([0, 1, 0, 0, 0, 0, 0, 0, 1, 0, 0, 2, 2, 2, 2], dtype=int64)"
      ]
     },
     "execution_count": 5,
     "metadata": {},
     "output_type": "execute_result"
    }
   ],
   "source": [
    "# use rng to generate sequence of random integers\n",
    "rng.integers(3, size=15)"
   ]
  },
  {
   "cell_type": "markdown",
   "metadata": {},
   "source": [
    "This generates a series of 15 numbers up to but not inclusive of 3. The data type is \"int64\" by default. It shows how by default the low parameter is 0 and the high value is stated as 3. "
   ]
  },
  {
   "cell_type": "code",
   "execution_count": 6,
   "metadata": {},
   "outputs": [
    {
     "data": {
      "text/plain": [
       "array([[1, 1, 2, 2, 0],\n",
       "       [3, 2, 1, 4, 0],\n",
       "       [4, 2, 0, 4, 3]], dtype=int64)"
      ]
     },
     "execution_count": 6,
     "metadata": {},
     "output_type": "execute_result"
    }
   ],
   "source": [
    "# using the size parameter to generate a 3 x 5 array.\n",
    "rng.integers(5, size=(3, 5))"
   ]
  },
  {
   "cell_type": "markdown",
   "metadata": {},
   "source": [
    "Again this demonstrates the high value set at 5. The size parameter states two variables, the first is the number of arrays, in this case three. The second states the number of elements in each array. The size parameter allows further dimension to be added along the 3rd and 4th dimensions etc. This allows complex data structures be formed. "
   ]
  },
  {
   "cell_type": "code",
   "execution_count": 7,
   "metadata": {
    "scrolled": true
   },
   "outputs": [],
   "source": [
    "# Test the distribution of the random data\n",
    "x = rng.integers(100, size=100)"
   ]
  },
  {
   "cell_type": "markdown",
   "metadata": {},
   "source": [
    "Here we create an array of 100 values in order to determine what kind of distribution is set as default. "
   ]
  },
  {
   "cell_type": "code",
   "execution_count": 8,
   "metadata": {},
   "outputs": [
    {
     "data": {
      "text/plain": [
       "(array([10.,  8., 10.,  9.,  7., 10., 11., 16.,  6., 13.]),\n",
       " array([ 0. ,  9.9, 19.8, 29.7, 39.6, 49.5, 59.4, 69.3, 79.2, 89.1, 99. ]),\n",
       " <a list of 10 Patch objects>)"
      ]
     },
     "execution_count": 8,
     "metadata": {},
     "output_type": "execute_result"
    },
    {
     "data": {
      "image/png": "[encoded data removed]",
      "text/plain": [
       "<Figure size 432x288 with 1 Axes>"
      ]
     },
     "metadata": {
      "needs_background": "light"
     },
     "output_type": "display_data"
    }
   ],
   "source": [
    "# Create histogram of plot\n",
    "plt.hist(x)"
   ]
  },
  {
   "cell_type": "markdown",
   "metadata": {},
   "source": [
    "This profile is quite varied. It does not allow us to determine much based off the limited number of random values. "
   ]
  },
  {
   "cell_type": "code",
   "execution_count": 9,
   "metadata": {},
   "outputs": [
    {
     "data": {
      "text/plain": [
       "(array([1000329., 1001028., 1000452., 1000937., 1000915., 1000106.,\n",
       "        1000729.,  999632.,  998294.,  997578.]),\n",
       " array([ 0. ,  9.9, 19.8, 29.7, 39.6, 49.5, 59.4, 69.3, 79.2, 89.1, 99. ]),\n",
       " <a list of 10 Patch objects>)"
      ]
     },
     "execution_count": 9,
     "metadata": {},
     "output_type": "execute_result"
    },
    {
     "data": {
      "image/png": "[encoded data removed]",
      "text/plain": [
       "<Figure size 432x288 with 1 Axes>"
      ]
     },
     "metadata": {
      "needs_background": "light"
     },
     "output_type": "display_data"
    }
   ],
   "source": [
    "# set size = 10000000\n",
    "x = rng.integers(100, size=10000000)\n",
    "plt.hist(x)"
   ]
  },
  {
   "cell_type": "markdown",
   "metadata": {},
   "source": [
    "When we set the size the ten million we see that the profile of this data is flat. The distribution of numbers into each 20 unit bar seems to be the same.\n",
    "This is known as a uniform distribution, which is rare in a real world situation. \n",
    "\n",
    "--------------"
   ]
  },
  {
   "cell_type": "markdown",
   "metadata": {},
   "source": [
    "* ### Choice \n",
    "\n",
    "**Generator.choice(a, size=None, replace=True, p=None, axis=0, shuffle=True)**\n",
    " \n",
    " Creates a random sample from a given array. [7]\n",
    " \n",
    "\n",
    "* Parameters \n",
    "    * a: array. if ndarray, random sample generated from its elements. if int, random sample generated from np.arrange(a)\n",
    "    * size: output size\n",
    "    * replace: Whether the sample is with or without replacement\n",
    "    * p: the probabilities associated with each entry in a. \n",
    "    * axis: The axis along which the selection is performed. The default, 0, selects by row.\n",
    "    * shuffle: Whether the sample is shuffled when sampling without replacement. \n",
    "\n",
    "\n",
    "* Returns\n",
    "    * samples: returns a single item or the generated ndarray\n",
    "\n",
    "Note: for more information on this function see numpy documentation. [\\[7\\]][7]\n",
    "\n",
    "Examples:\n",
    "\n",
    "\n",
    "[7]: https://numpy.org/doc/stable/reference/random/generated/numpy.random.Generator.choice.html#numpy.random.Generator.choice"
   ]
  },
  {
   "cell_type": "code",
   "execution_count": 10,
   "metadata": {},
   "outputs": [
    {
     "data": {
      "text/plain": [
       "array([6, 6, 8], dtype=int64)"
      ]
     },
     "execution_count": 10,
     "metadata": {},
     "output_type": "execute_result"
    }
   ],
   "source": [
    "rng = np.random.default_rng()\n",
    "rng.choice(10, 3)\n",
    "\n",
    "#This is equivalent to rng.integers(0,5,3)\n",
    "# Picks 3 random numbers between 0 and 10\n",
    "# generate a uniform random sample from np.arange(5) of size 3:\n"
   ]
  },
  {
   "cell_type": "code",
   "execution_count": 11,
   "metadata": {},
   "outputs": [
    {
     "data": {
      "text/plain": [
       "(array([10087.,  9901.,  9906., 10059.,  9911., 10036., 10154., 10115.,\n",
       "         9887.,  9944.]),\n",
       " array([0. , 0.9, 1.8, 2.7, 3.6, 4.5, 5.4, 6.3, 7.2, 8.1, 9. ]),\n",
       " <a list of 10 Patch objects>)"
      ]
     },
     "execution_count": 11,
     "metadata": {},
     "output_type": "execute_result"
    },
    {
     "data": {
      "image/png": "[encoded data removed]",
      "text/plain": [
       "<Figure size 432x288 with 1 Axes>"
      ]
     },
     "metadata": {
      "needs_background": "light"
     },
     "output_type": "display_data"
    }
   ],
   "source": [
    "# show that sample is uniformly distributed\n",
    "x = rng.choice(10, 100000)\n",
    "plt.hist(x)"
   ]
  },
  {
   "cell_type": "markdown",
   "metadata": {},
   "source": [
    "The histogram shows that the data produced by choice is uniformly distributed. "
   ]
  },
  {
   "cell_type": "code",
   "execution_count": 12,
   "metadata": {},
   "outputs": [
    {
     "data": {
      "text/plain": [
       "array(['car', 'tar'], dtype='<U4')"
      ]
     },
     "execution_count": 12,
     "metadata": {},
     "output_type": "execute_result"
    }
   ],
   "source": [
    "rng.choice([\"car\", \"bar\", \"star\", \"tar\"], 2)\n",
    "\n",
    "# generates a random sample of size 2 of the list given. "
   ]
  },
  {
   "cell_type": "markdown",
   "metadata": {},
   "source": [
    "The choice command can be used to randomly select inputted strings also as shown above."
   ]
  },
  {
   "cell_type": "code",
   "execution_count": 13,
   "metadata": {},
   "outputs": [
    {
     "data": {
      "text/plain": [
       "array(['star', 'tar', 'star', 'star'], dtype='<U4')"
      ]
     },
     "execution_count": 13,
     "metadata": {},
     "output_type": "execute_result"
    }
   ],
   "source": [
    "rng.choice([\"car\", \"bar\", \"star\", \"tar\"], 4, p=[0.1, 0.1, 0.6, 0.2])\n",
    "# adding probabilities"
   ]
  },
  {
   "cell_type": "code",
   "execution_count": 14,
   "metadata": {},
   "outputs": [
    {
     "data": {
      "text/plain": [
       "(array([6025.,    0.,    0.,  989.,    0.,    0.,  989.,    0.,    0.,\n",
       "        1997.]),\n",
       " array([0. , 0.3, 0.6, 0.9, 1.2, 1.5, 1.8, 2.1, 2.4, 2.7, 3. ]),\n",
       " <a list of 10 Patch objects>)"
      ]
     },
     "execution_count": 14,
     "metadata": {},
     "output_type": "execute_result"
    },
    {
     "data": {
      "image/png": "[encoded data removed]",
      "text/plain": [
       "<Figure size 432x288 with 1 Axes>"
      ]
     },
     "metadata": {
      "needs_background": "light"
     },
     "output_type": "display_data"
    }
   ],
   "source": [
    "x = rng.choice([\"car\", \"bar\", \"star\", \"tar\"], 10000, p=[0.1, 0.1, 0.6, 0.2])\n",
    "plt.hist(x)\n",
    "# plotting command run 10000 times"
   ]
  },
  {
   "cell_type": "markdown",
   "metadata": {},
   "source": [
    "Using the p parameter we can set the probability of each entity. We can prove this probability by running the command 10,000 times and protting the results. \n",
    "\n",
    "-----------------"
   ]
  },
  {
   "cell_type": "code",
   "execution_count": 15,
   "metadata": {},
   "outputs": [
    {
     "data": {
      "text/plain": [
       "b'>Ff\\xb0g\\x08A\\xcffV\\x96\\xa2\\x90b\\xdb\\xf9b\\x97t/'"
      ]
     },
     "execution_count": 15,
     "metadata": {},
     "output_type": "execute_result"
    }
   ],
   "source": [
    "np.random.default_rng().bytes(20)"
   ]
  },
  {
   "cell_type": "markdown",
   "metadata": {},
   "source": [
    "* ### Bytes\n",
    "\n",
    "**Generator.bytes(length)**\n",
    "\n",
    "Returns a string of random bytes of specified length method : Generator.bytes(length) \n",
    "\n",
    "* Parameters \n",
    "    * length: the number of random bytes required. \n",
    "   \n",
    "* Returns\n",
    "    * out: string of length length\n",
    "\n",
    "Note: for more information on this function see numpy documentation. [\\[8\\]][8]\n",
    "\n",
    "Examples:\n",
    "\n",
    "[8]: https://numpy.org/doc/stable/reference/random/generated/numpy.random.Generator.bytes.html#numpy.random.Generator.bytes"
   ]
  },
  {
   "cell_type": "markdown",
   "metadata": {},
   "source": [
    "Returns a string of random bytes of length 20. \n",
    "\n",
    "--------------"
   ]
  },
  {
   "cell_type": "markdown",
   "metadata": {},
   "source": [
    "## <u>Permutations</u>\n",
    "-----------\n",
    "\n"
   ]
  },
  {
   "cell_type": "markdown",
   "metadata": {},
   "source": [
    "* ### Shuffle\n",
    "\n",
    "**Generator.shuffle(x, axis=0)**\n",
    " \n",
    "Modifies a sequence by change the order of its contents. The contents remain unchanged, only their order is changed. \n",
    " \n",
    "\n",
    "* Parameters \n",
    "    * x: the array or list to be shuffled\n",
    "    * axis: the axis to shuffle x along. \n",
    "\n",
    "* Returns\n",
    "    * None\n",
    "    \n",
    "Note: for more information on this function see numpy documentation. [\\[9\\]][9]\n",
    "\n",
    "Examples\n",
    "\n",
    "[9]: https://numpy.org/doc/stable/reference/random/generated/numpy.random.Generator.shuffle.html#numpy.random.Generator.shuffle\n"
   ]
  },
  {
   "cell_type": "code",
   "execution_count": 16,
   "metadata": {},
   "outputs": [
    {
     "name": "stdout",
     "output_type": "stream",
     "text": [
      "The following is 10 numbers arranged in ascending order:  [0 1 2 3 4 5 6 7 8 9]\n",
      "The following is the same 10 numbers shuffled and reprinted:  [2 7 8 6 1 4 3 9 5 0]\n"
     ]
    }
   ],
   "source": [
    "# Example of arrange on integers. \n",
    "\n",
    "arr = np.arange(10)\n",
    "\n",
    "print(\"The following is 10 numbers arranged in ascending order: \", arr)\n",
    "rng.shuffle(arr)\n",
    "print(\"The following is the same 10 numbers shuffled and reprinted: \", arr)"
   ]
  },
  {
   "cell_type": "code",
   "execution_count": 17,
   "metadata": {},
   "outputs": [
    {
     "name": "stdout",
     "output_type": "stream",
     "text": [
      "['bar', 'tar', 'car', 'star']\n"
     ]
    }
   ],
   "source": [
    "# Using shuffle to shuffle a list of strings. \n",
    "\n",
    "x = [\"car\", \"bar\", \"star\", \"tar\"]\n",
    "np.random.shuffle(x)\n",
    "print(x)"
   ]
  },
  {
   "cell_type": "markdown",
   "metadata": {},
   "source": [
    "Shuffle is a simple command that can be used to easily mix the arrangement of a list randomly as show above. The data can be a list, a tuple or a string. \n",
    "\n",
    "--------------------"
   ]
  },
  {
   "cell_type": "markdown",
   "metadata": {},
   "source": [
    "* ### Permutations\n",
    "\n",
    "**Generator.permutation(x, axis=0)**\n",
    " \n",
    "randomly permutes a sequence or returnes a range of permuted values.  \n",
    "\n",
    "\"In mathematics, a permutation of a set is an arrangement of its members into a sequence or linear order, or if the set is already ordered, a rearrangement of its elements. The word \"permutation\" also refers to the act or process of changing the linear order of an ordered set\" [\\[11\\]][11]\n",
    " \n",
    "\n",
    "* Parameters \n",
    "    * x: Randomly permutate if x is integar. If array, make copy then shuffle elements.\n",
    "    * axis: The axis which x is shuffled along. Default is 0.\n",
    "\n",
    "* Returns\n",
    "    * out: ndarray - permuted sequence or array range. \n",
    "    \n",
    "Note: for more information on this function see numpy documentation. [\\[10\\]][10]\n",
    "\n",
    "Examples\n",
    "\n",
    "\n",
    "\n",
    "[10]: https://numpy.org/doc/stable/reference/random/generated/numpy.random.Generator.permutation.html#numpy.random.Generator.permutation\n",
    "\n",
    "[11]: https://en.wikipedia.org/wiki/Permutation"
   ]
  },
  {
   "cell_type": "code",
   "execution_count": 18,
   "metadata": {},
   "outputs": [
    {
     "data": {
      "text/plain": [
       "array([9, 7, 4, 8, 2, 3, 5, 1, 0, 6])"
      ]
     },
     "execution_count": 18,
     "metadata": {},
     "output_type": "execute_result"
    }
   ],
   "source": [
    "# permutate \n",
    "rng.permutation(10)"
   ]
  },
  {
   "cell_type": "code",
   "execution_count": 19,
   "metadata": {},
   "outputs": [
    {
     "data": {
      "text/plain": [
       "array([16, 18,  4,  9,  2,  5])"
      ]
     },
     "execution_count": 19,
     "metadata": {},
     "output_type": "execute_result"
    }
   ],
   "source": [
    "# permutate given list\n",
    "rng.permutation([2, 4, 5, 9, 16, 18])"
   ]
  },
  {
   "cell_type": "code",
   "execution_count": 20,
   "metadata": {},
   "outputs": [
    {
     "name": "stdout",
     "output_type": "stream",
     "text": [
      "First set: \n",
      " [[ 0  1  2  3]\n",
      " [ 4  5  6  7]\n",
      " [ 8  9 10 11]\n",
      " [12 13 14 15]]\n",
      "second set: \n",
      " [[12 13 14 15]\n",
      " [ 8  9 10 11]\n",
      " [ 4  5  6  7]\n",
      " [ 0  1  2  3]]\n"
     ]
    }
   ],
   "source": [
    "# example of permutation command on printed set of data. \n",
    "arr = np.arange(16).reshape((4, 4))\n",
    "print(\"First set: \\n\", arr)\n",
    "print(\"second set: \\n\", rng.permutation(arr))"
   ]
  },
  {
   "cell_type": "markdown",
   "metadata": {},
   "source": [
    "Permutations is another method of rearranging data. The feild of permutations is detailed and well studied. A rubix cube is a practical example of permutations. Each time you turn the cube there is another set of the same data in a different permutation. More information can be found here. [\\[12\\]][12]\n",
    "\n",
    "\n",
    "\n",
    "\n",
    "[12]: https://en.wikipedia.org/wiki/Rubik%27s_Cube#Permutations\n",
    "------------"
   ]
  },
  {
   "cell_type": "markdown",
   "metadata": {},
   "source": [
    "## Section 3. Explain the use and purpose of at least five “Distributions” functions.\n",
    "------------"
   ]
  },
  {
   "cell_type": "markdown",
   "metadata": {},
   "source": [
    "* ### Distribution 1: von meises\n",
    "\n",
    "**numpy.random.vonmises(mu, kappa, size=None)**\n",
    " \n",
    "Draws a sample from a von meises distribution. Samples are drawn with specific mode(mu) and dispersion(kappa) on the interval [-π, π]  \n",
    "\n",
    "\"The Von Mises distribution (also called the circular normal or Tikhonov distribution) is a continuous probability distribution with a range from 0 to 2π, aka a circle. It is similar to the normal distribution, except coordinates are placed on a circular plane. The von Mises distribution can be thought of as a special case of the Von Mises-Fisher distribution, which is an extension of the distribution to multi-dimensional spheres.\n",
    "\n",
    "The distribution was first described by Richard von Mises in 1918 as a way to model the distribution of atomic weights. It’s now used to model a variety of phenomena including:\n",
    "\n",
    "* Brownian motion (Physics),\n",
    "* Epidemiology (spread of disease),\n",
    "* Interference Alignment (Signal Processing),\n",
    "* Privacy-preserving algorithms in (Machine Learning).\" [\\[14\\]][14]\n",
    " \n",
    "\n",
    "* Parameters \n",
    "    * mu: mode or centre of the distribution.\n",
    "    * kappa: dispersion of teh distribution. Must be greater than or equal to 0. \n",
    "    * size: output shape.\n",
    "    \n",
    "* Returns\n",
    "    * out: ndarray or scalar - Drawn samples from the parameterized von Mises distribution. \n",
    "    \n",
    "Note: for more information on this function see numpy documentation. [\\[13\\]][13]\n",
    "\n",
    "Examples\n",
    "\n",
    "\n",
    "\n",
    "[13]: https://numpy.org/doc/stable/reference/random/generated/numpy.random.vonmises.html#numpy.random.vonmises\n",
    "\n",
    "[14]: https://www.statisticshowto.com/von-mises-distribution/"
   ]
  },
  {
   "cell_type": "code",
   "execution_count": 21,
   "metadata": {
    "scrolled": true
   },
   "outputs": [
    {
     "data": {
      "text/plain": [
       "array([-6.52640244e-01, -1.68664516e-01,  3.23090659e-01, -2.39072977e-01,\n",
       "        4.96089629e-02, -4.18287591e-01,  2.01432245e-01, -9.45371313e-01,\n",
       "       -1.59034624e-01, -4.59206861e-01,  3.08371776e-01, -3.21509492e-01,\n",
       "       -1.01699820e+00,  8.81605847e-02, -6.07834215e-01,  1.16670254e-01,\n",
       "       -4.80672008e-01,  1.04277655e-01, -1.59057653e-01, -2.84490580e-01,\n",
       "       -3.83203038e-01, -1.63868800e-01, -4.34006050e-01, -5.41998855e-01,\n",
       "        7.63695777e-01, -1.24129949e-01, -5.95137843e-01,  2.84756999e-01,\n",
       "        5.14780898e-01,  1.18821947e+00, -1.21182466e+00, -8.46635102e-01,\n",
       "        3.35089122e-02, -1.05705138e+00,  8.12919071e-01,  6.48992000e-01,\n",
       "       -7.05537169e-01,  3.34713659e-01,  3.30564532e-01, -6.29259156e-02,\n",
       "        8.72483955e-01, -3.74190283e-01,  3.17463990e-01, -1.63344227e-01,\n",
       "        2.44993974e-01,  2.59629153e-01,  1.16781637e-01,  2.12781807e-01,\n",
       "        1.11195436e-01, -4.57624539e-01, -1.05885861e-01, -5.12284358e-01,\n",
       "       -1.04598161e+00,  5.29430227e-01, -3.81120375e-01,  1.53947837e+00,\n",
       "       -6.25827564e-02, -1.75395940e-01, -3.51867808e-01, -5.88671496e-01,\n",
       "        4.24360033e-01, -3.01538025e+00,  1.93790986e-01,  1.67826307e-01,\n",
       "        9.91296617e-02, -3.93654224e-01, -3.49451399e-01, -6.85150712e-01,\n",
       "        3.22973193e-01, -1.71355764e-01, -7.60028401e-01, -8.03238021e-02,\n",
       "       -1.21040732e-01, -7.38956911e-01,  2.56816216e-01,  9.25374684e-01,\n",
       "       -6.99026672e-01, -1.80804609e-01,  4.65930067e-02, -2.97644285e-01,\n",
       "        5.14272248e-01, -1.18809484e+00, -1.50963413e-01,  1.14142650e-01,\n",
       "       -2.77852597e-01,  3.91597092e-02,  1.33973844e-01, -8.61510792e-02,\n",
       "       -1.34682909e-02, -3.13082599e-01,  3.49786435e-01,  4.92876397e-02,\n",
       "       -1.48272659e-01, -6.59119903e-01, -2.51955247e-01, -4.13764320e-01,\n",
       "       -4.14996080e-01, -5.62670697e-01,  8.77877672e-02, -7.03560661e-01,\n",
       "        7.32402934e-01, -5.17103083e-01,  1.07809272e+00,  3.62497041e-01,\n",
       "       -4.09728339e-01, -1.59447379e-01, -6.90422308e-01,  2.30107321e-01,\n",
       "       -7.05786888e-02, -1.52996193e-04, -4.24043889e-01, -2.35506471e-01,\n",
       "       -6.64993203e-01, -8.79144896e-02,  2.25172840e-01,  4.56326251e-01,\n",
       "        2.90891215e-01,  6.74246351e-02,  2.27734017e-01, -5.11299561e-01,\n",
       "       -2.05525068e-01,  1.79692839e-01, -2.86280564e-01, -3.35865108e-01,\n",
       "       -1.94782430e-01,  1.39503680e-01,  2.82746647e-01, -9.75605331e-02,\n",
       "       -9.96611707e-01, -4.89226421e-02, -4.92872260e-01, -1.02251932e+00,\n",
       "        6.37742545e-01,  1.72091898e-01, -1.73536644e-01,  2.72679062e-01,\n",
       "       -4.75021764e-01,  4.50990361e-01, -6.59221976e-01, -7.91862645e-01,\n",
       "        8.99400103e-01,  1.11206883e+00,  1.07720878e-01,  4.30548558e-01,\n",
       "        4.39545660e-01,  2.53026485e-01, -1.73435048e-01, -4.90384888e-01,\n",
       "       -4.80513872e-01,  1.39650008e-01, -1.60129269e-01, -4.19478605e-01,\n",
       "       -2.22406026e-01,  3.47723698e-02,  1.83769173e+00,  5.30996995e-01,\n",
       "       -2.62252247e-01,  4.15275345e-01, -7.27241522e-01, -4.41298482e-01,\n",
       "       -5.97689351e-01, -1.38924010e-02,  9.51500568e-02,  2.97375366e-01,\n",
       "        5.72924179e-01, -1.56548493e-01, -6.09117464e-01,  4.16851033e-02,\n",
       "        4.97473505e-01, -6.28439754e-02,  2.15859770e-01,  6.46338571e-01,\n",
       "        8.74236440e-02,  5.80314292e-01, -4.27568344e-01,  7.65101814e-02,\n",
       "       -1.17215731e+00,  1.26407044e-01,  5.47245487e-01, -5.08524250e-01,\n",
       "       -2.61336266e-02, -4.05017749e-01,  5.63828982e-01,  6.76443086e-02,\n",
       "        7.66189527e-02, -3.17173030e-02,  9.99680867e-01, -3.15107827e-01,\n",
       "       -3.69758501e-01,  5.32479148e-01,  6.03672533e-01, -1.38860027e+00,\n",
       "       -9.59680480e-02, -5.88869257e-01,  3.12045553e-01,  5.45211244e-01,\n",
       "       -4.13708531e-01, -4.13917770e-01, -5.20998661e-02,  1.17409036e+00,\n",
       "        5.77629381e-01,  6.20524998e-03, -7.21989337e-01,  4.23289285e-01,\n",
       "        8.03575555e-01, -2.88537715e-02,  4.55723916e-01, -3.95798035e-01,\n",
       "        1.90368176e-01,  1.06140351e+00,  4.05025160e-01, -4.82213248e-02,\n",
       "       -4.56769907e-01, -5.40288495e-01, -1.82919763e-01, -4.33742744e-01,\n",
       "       -7.29757138e-02, -9.11033033e-01,  1.89111353e-01, -1.47634407e-01,\n",
       "       -5.90184903e-01,  9.12899733e-01, -1.04283884e+00,  6.40133995e-01,\n",
       "        8.71807502e-01, -5.16880983e-01,  2.51266386e-01, -4.25150895e-02,\n",
       "        4.68880344e-02,  5.27726173e-01, -2.31747132e-01, -3.22387179e-01,\n",
       "        6.50112496e-01, -8.11867039e-01,  4.30713410e-01, -7.81802784e-02,\n",
       "       -2.47912831e-01, -4.47615328e-01, -2.04736942e-01,  1.03842569e-02,\n",
       "        3.06545289e-01, -5.08578287e-01,  3.66781436e-01, -4.10455412e-01,\n",
       "       -3.72280824e-01,  2.83220836e-01,  5.41825760e-02,  9.85583893e-02,\n",
       "       -5.23023485e-01,  3.76182124e-01,  5.79776860e-01, -2.03097277e-01,\n",
       "       -6.86608617e-01, -9.83714054e-02,  7.37841042e-01,  1.62855695e-01,\n",
       "        9.83240762e-02,  7.74777343e-01, -1.10311630e-01,  4.23967251e-01,\n",
       "        2.63521641e-01, -5.46809023e-01, -5.50594545e-01,  2.52585111e-01,\n",
       "        1.09406530e-01,  9.94896381e-02,  2.02705857e-03,  8.13360028e-01,\n",
       "       -3.86466821e-01, -1.14254362e+00,  3.96107590e-01, -2.36231122e-02,\n",
       "        9.08718354e-01,  6.64835975e-03,  3.36545545e-01, -3.52747559e-01,\n",
       "       -6.57883165e-02,  9.49932298e-01, -1.74297891e-01, -6.54506129e-01,\n",
       "        7.48383189e-02,  3.73065204e-01,  8.62373749e-02,  6.43601625e-01,\n",
       "       -4.75119636e-01, -6.60106764e-01,  3.73315520e-01,  4.47874446e-02,\n",
       "        1.04898467e+00, -5.57958559e-01, -3.27819572e-02,  4.98175023e-02,\n",
       "       -4.61133032e-01,  1.18686867e-01, -5.83427200e-01, -6.90269424e-01,\n",
       "        7.65732024e-01, -2.39179078e-01,  1.54706641e-01, -1.39662888e-01,\n",
       "       -5.37258630e-01,  1.32235387e+00,  1.35770633e-02,  1.02449102e-01,\n",
       "        2.85701350e-02,  2.08720755e+00, -8.55677818e-02, -1.28405844e+00,\n",
       "        2.03904888e-01, -3.45793594e-01, -4.24825111e-01, -1.73662941e-01,\n",
       "       -1.38786865e+00, -1.05047966e+00,  8.85265904e-02, -2.41875491e-02,\n",
       "       -1.16491738e-01, -3.87630254e-01,  2.37277051e-01, -1.15410875e-01,\n",
       "        5.32449489e-01, -4.58495536e-01, -7.22387358e-01, -7.29534561e-01,\n",
       "        1.28935168e-01,  8.45215604e-01, -5.64704504e-01,  7.40746149e-01,\n",
       "       -4.16283869e-01, -3.55903449e-01, -5.62160142e-01,  9.84858540e-01,\n",
       "       -2.36926203e-01,  1.04807373e+00,  8.52225723e-01, -3.57235235e-01,\n",
       "        2.98525139e-01,  5.20909328e-01,  9.72772105e-01, -3.08927394e-02,\n",
       "        9.67689649e-01, -5.56795393e-01,  1.65584988e+00,  7.54878883e-02,\n",
       "        4.14221076e-01,  5.42353615e-01, -6.61736123e-01, -5.78422292e-01,\n",
       "        1.58864104e-01, -3.24745572e-01, -7.11637764e-02, -4.93585351e-01,\n",
       "        2.84458738e-01,  1.29715967e+00,  8.67369592e-02, -4.59185561e-01,\n",
       "       -5.85383660e-01, -2.38942426e-01, -5.84493400e-02,  1.42263617e+00,\n",
       "       -3.74440944e-03, -4.39303760e-01,  6.96487947e-01, -2.52591557e-01,\n",
       "       -5.81667224e-01, -1.44766538e-01, -3.77170338e-01, -5.71858897e-01,\n",
       "        9.72276679e-01,  3.91432204e-01,  7.19855216e-02,  1.11567421e-01,\n",
       "        3.98450457e-02,  2.83691102e-01,  5.03720153e-01,  1.12207497e+00,\n",
       "       -2.82536691e-02,  5.93951203e-01,  3.99592782e-01, -3.19995229e-01,\n",
       "        7.23219616e-01,  1.79707816e-02, -3.16867949e-01,  1.04598333e-01,\n",
       "       -2.82255985e-01,  6.66172969e-01, -2.61746555e-01, -4.02950840e-01,\n",
       "        2.89797461e-01, -1.07024806e+00, -1.77880249e-01,  5.08476699e-01,\n",
       "        2.66725546e-01, -8.26299695e-03,  1.93161187e-01,  2.02221887e-01,\n",
       "       -1.83858402e-01,  7.18907029e-01, -2.92993732e-01, -2.81459295e-01,\n",
       "        2.30166996e-01,  5.72742370e-01,  5.21835217e-01,  2.80059033e-01,\n",
       "        3.73378293e-01,  1.69112778e-01, -3.60258247e-01, -6.97593660e-01,\n",
       "        2.65252128e-01, -5.64879973e-02,  1.77659703e-01, -5.36947569e-01,\n",
       "        4.58758865e-01,  3.36587583e-01, -1.22972728e-01, -3.30922972e-01,\n",
       "        9.11530097e-01,  3.17030375e-01,  6.69995361e-01, -4.35687336e-01,\n",
       "       -2.47844453e-02, -4.76312194e-01, -4.17298778e-01, -4.90103269e-01,\n",
       "       -5.90475590e-02, -6.01646524e-01, -1.96638514e-01, -5.66249071e-01,\n",
       "       -1.77953023e-01, -3.96511967e-01,  6.12030926e-01, -4.29275879e-02,\n",
       "       -8.68117179e-02, -4.94273762e-02,  7.51510010e-01,  7.41568816e-01,\n",
       "        1.24240931e-01,  1.53161270e+00, -3.59379834e-01, -1.02311101e+00,\n",
       "       -4.82203982e-01,  3.17350791e-03,  4.11414133e-01,  1.60801847e-01,\n",
       "        1.20333163e-01, -9.61419651e-02, -3.00954713e-01, -7.46046785e-01,\n",
       "        4.40338983e-01,  2.27017093e-01, -4.18215335e-01, -1.29752675e+00,\n",
       "       -1.13155658e-01, -2.75451791e-02,  8.10280058e-02,  3.76754629e-01,\n",
       "        3.73728786e-01, -7.04362496e-01,  2.96254120e-01, -6.28938486e-01,\n",
       "        4.87004468e-01,  8.60027551e-01, -6.30989745e-01, -6.37872012e-01,\n",
       "        5.96647709e-01,  4.58346457e-01,  9.76094754e-01, -5.73594704e-01,\n",
       "        1.83917124e-01,  4.24890898e-01, -5.83084758e-01, -8.07090970e-03,\n",
       "       -7.24379750e-01,  1.03497635e+00,  8.03365223e-01, -5.46478838e-02,\n",
       "        3.78755510e-01,  3.71911868e-01, -4.33770232e-02,  9.33942902e-01,\n",
       "        8.48462506e-02, -3.84475830e-01, -1.35734537e+00, -1.87954644e-01,\n",
       "       -1.87972453e-01,  3.84271664e-01,  6.12075222e-01, -1.20320557e-01,\n",
       "        4.82590525e-02, -1.74746180e-01,  7.32342974e-01, -2.06310156e-01,\n",
       "        3.61920820e-01,  1.47086237e-01,  1.06713831e-01,  1.84345000e-02,\n",
       "        4.47359246e-01,  3.30968647e-01, -4.33885824e-02,  2.08503124e-01,\n",
       "        1.10401015e-01,  2.83419929e-02, -7.79036628e-01,  4.57964219e-02,\n",
       "       -3.54184166e-01, -5.93485833e-01,  4.20773946e-01,  5.82155628e-01,\n",
       "       -1.87737486e-01, -3.13739921e-01,  6.11774310e-01, -4.98145414e-01,\n",
       "       -9.56064069e-01,  4.72073223e-01, -1.29371940e-01,  3.76392889e-01,\n",
       "        1.61090675e-01,  1.14791794e+00,  8.36657728e-01, -9.34173280e-01,\n",
       "        1.62575557e-01,  2.87163943e-01, -3.05989989e-01, -5.77494942e-01,\n",
       "       -1.56475862e-01,  7.00502489e-01,  1.87137073e-01, -9.99838141e-01,\n",
       "       -1.16176514e-01, -1.69867300e-01, -3.71121335e-01,  5.77562076e-01,\n",
       "       -2.37188537e-01,  3.22157964e-01, -3.32955749e-01, -3.99108817e-01,\n",
       "       -4.33904253e-01, -5.42958317e-01,  1.15344928e-01, -6.23484204e-02,\n",
       "        3.11407835e-01, -1.07717005e-01,  3.14425848e-01, -1.74555946e-01,\n",
       "        1.64195638e-01, -1.30155714e-01,  1.00937583e-02, -6.39281772e-02,\n",
       "        1.23266314e+00, -2.60440569e-02, -8.53864871e-01, -2.56662601e-01,\n",
       "       -1.14535871e+00, -6.13910260e-01, -3.87452001e-01, -5.41738947e-01,\n",
       "       -4.11436734e-01,  2.14184633e+00, -3.80947695e-01, -1.37054910e+00,\n",
       "       -2.17624632e-01,  1.03638401e-01,  6.18513303e-01,  4.12244764e-01,\n",
       "        4.88859637e-01,  9.53333281e-01,  1.65449552e-01,  2.63589637e-01,\n",
       "        2.58424879e-01, -4.58436307e-01,  6.62091875e-01, -4.60671203e-01,\n",
       "       -5.40730015e-01,  6.88133428e-01, -8.17892790e-01,  5.45225484e-01,\n",
       "        1.89454963e-01, -1.95690697e-01, -1.41498807e-01, -1.41429101e-01,\n",
       "       -8.11669778e-01,  1.79500528e-01,  2.30776260e-01, -8.97044479e-01,\n",
       "       -1.85206119e-02, -8.12997827e-01,  1.15038564e-01, -3.30526190e-01,\n",
       "       -5.49830570e-02,  5.47087721e-01,  5.87032360e-01, -3.76068917e-01,\n",
       "        1.28625926e+00, -6.69274944e-01,  1.44860408e+00,  2.49266932e-01,\n",
       "       -1.29344661e-01,  2.10500650e-01, -5.04491125e-01,  3.58553125e-01,\n",
       "       -4.53790320e-01, -4.81995289e-02,  8.45230719e-01,  2.53390692e-01,\n",
       "        1.21946740e-01,  4.42591194e-01,  2.67026002e-01,  6.13102198e-01,\n",
       "       -5.88431462e-01, -2.17585825e-01,  5.23382667e-01, -3.56313333e-03,\n",
       "       -3.91098087e-01, -1.73375007e-01, -1.47868169e-02, -2.28575025e-01,\n",
       "       -3.32231163e-02, -1.33045122e-01,  4.63426081e-02,  1.90637740e-01,\n",
       "        9.06316977e-02,  6.46710609e-01, -6.91424378e-01, -9.66692776e-01,\n",
       "        3.12971090e-01,  5.64181299e-01,  8.56599982e-01, -3.13639027e-01,\n",
       "       -4.98019536e-01,  9.38877766e-02,  4.17749064e-01, -2.57785355e-01,\n",
       "        2.26116677e-02,  6.36458043e-01,  9.75163572e-02, -6.49582835e-01,\n",
       "        9.72511161e-01,  8.24054154e-01, -6.67349545e-01,  4.17597374e-01,\n",
       "       -6.07228320e-01, -1.28104356e+00,  2.09438977e-01,  1.09677109e-01,\n",
       "       -1.05614436e+00,  7.70584753e-02, -3.96599753e-01,  1.94978384e-01,\n",
       "       -1.96467789e-01,  7.04612597e-01,  6.66603511e-01, -1.33777999e+00,\n",
       "        2.68106046e-01,  1.65746900e-01, -1.76608436e-01, -6.71295918e-01,\n",
       "       -3.14764616e-01, -5.48403723e-02, -5.42895290e-01, -3.53873483e-01,\n",
       "        2.35794790e-01,  5.24560100e-01, -1.78101882e-01, -3.25458629e-01,\n",
       "        7.02249476e-02,  8.16066789e-01,  3.56309213e-01, -3.90830628e-01,\n",
       "       -8.35350846e-01, -9.58475261e-02, -6.32717196e-01, -8.34889824e-01,\n",
       "       -2.49540331e-01, -7.17754025e-01,  6.18708681e-01,  1.94418243e-01,\n",
       "       -7.72907541e-02,  3.73292985e-01,  3.52049585e-02, -2.91240788e-01,\n",
       "       -2.73016953e-01, -1.92440604e-01, -1.05595945e-01,  1.97900998e-01,\n",
       "        3.70553880e-01, -7.37014806e-01, -4.39062844e-01, -3.50077644e-01,\n",
       "       -1.59949636e-01,  3.40958121e-01, -9.68741749e-01, -1.11490615e+00,\n",
       "       -1.53562260e+00,  4.01296471e-03,  3.42381368e-01,  4.61617045e-01,\n",
       "       -4.77394255e-01,  3.09710896e-01, -1.08181711e-01, -7.00806701e-01,\n",
       "       -1.06018845e-01, -3.71077980e-01,  7.12600105e-03,  9.43659760e-01,\n",
       "        1.29614443e-03,  8.89513972e-01,  1.26983363e-02, -2.02542439e-01,\n",
       "       -1.48286987e-02, -7.26317861e-03, -8.36410743e-02, -2.37580691e-01,\n",
       "        1.10273853e-01, -2.20971120e-01,  5.62455550e-01, -1.25494179e+00,\n",
       "        6.80014377e-01, -1.81617488e-01, -2.92739740e-01, -2.23015496e-01,\n",
       "       -1.47892241e-01,  2.65950005e-01,  2.32152197e-01,  1.04509260e-01,\n",
       "       -4.62726836e-02, -3.52925385e-02, -5.74203410e-02, -1.33404946e-01,\n",
       "        5.05655091e-01,  4.84523626e-01,  2.71153399e-01, -1.04794092e+00,\n",
       "       -2.03518711e-01, -6.01754332e-01,  9.63446194e-02,  8.56653328e-01,\n",
       "        4.60529400e-01, -2.30409003e-01,  7.17050299e-01, -1.26961692e-01,\n",
       "        3.06339429e-01, -2.58890004e-01, -4.68483880e-01,  4.40204045e-01,\n",
       "        5.83590451e-01,  1.19418504e-01, -7.93512091e-01, -2.83361440e-01,\n",
       "        3.12271003e-01, -2.75513503e-01,  6.58175175e-01, -1.38020142e-01,\n",
       "        1.22676277e+00,  1.09685918e+00, -3.55302706e-01,  2.01780912e-01,\n",
       "       -6.13908527e-01, -1.82505915e-01,  1.34157886e+00,  5.76771877e-01,\n",
       "       -5.56380952e-01, -1.26558372e-01,  2.17774317e-02,  2.78778235e-01,\n",
       "        3.40523377e-01,  5.35061924e-01, -6.77541808e-01, -3.62920325e-01,\n",
       "        1.39688727e-01, -4.06731836e-01, -5.32217346e-01, -1.02054039e+00,\n",
       "       -1.29618259e-01, -1.48158017e-01, -1.41276661e+00, -1.52910083e-01,\n",
       "       -1.32890324e-01, -4.08732894e-02, -2.19354757e-01,  1.54257230e-02,\n",
       "       -6.74316053e-01, -2.26469205e-01, -3.07592350e-01,  1.03695232e+00,\n",
       "        6.83299633e-02, -1.59842687e-02,  2.66616906e-02, -2.51482478e-03,\n",
       "        1.01239190e-01,  1.62155955e-01, -1.01431826e+00, -4.50583067e-01,\n",
       "       -6.83082377e-03, -2.77068330e-01,  1.26408836e+00, -4.05144278e-01,\n",
       "       -4.61489143e-01, -5.04581517e-01, -9.75205978e-01,  1.17705286e+00,\n",
       "       -2.61690464e-01,  2.99941996e-01,  8.04449499e-01,  3.49800490e-02,\n",
       "        3.53955181e-01, -3.61291967e-01,  4.93986818e-01, -3.03882837e-02,\n",
       "        4.38422952e-01,  1.96277513e-01,  1.01021749e+00, -4.33112338e-01,\n",
       "        9.05988614e-01,  7.92972696e-01, -3.54651827e-01, -2.22989611e-01,\n",
       "        2.20991028e-01, -1.83005157e-01,  7.01355536e-01, -9.62197890e-02,\n",
       "        7.85968285e-01,  6.44085111e-01, -4.86072502e-01,  3.36748840e-01,\n",
       "        6.56369188e-01, -5.93910644e-03, -1.11395991e+00, -2.40710682e-01,\n",
       "        1.19513640e-01,  4.86105386e-02, -4.31696484e-01,  4.57133206e-01,\n",
       "        3.55240345e-01,  3.11312498e-01,  2.45928235e-01, -1.57923271e-01,\n",
       "        4.17111932e-01,  1.09752785e-01,  2.74330931e-01, -7.47486757e-01,\n",
       "       -1.45753084e+00,  7.42152757e-02, -4.90421651e-01,  5.96430935e-01,\n",
       "       -1.52568312e-01,  5.67925848e-02, -3.00695268e-01,  9.60232838e-01,\n",
       "       -4.85321557e-01, -1.85572326e-01,  7.62409974e-01, -4.78664409e-02,\n",
       "        6.41320631e-02, -1.04678224e-01, -9.51510367e-02, -8.49036638e-01,\n",
       "       -4.10181850e-01,  4.32075380e-01, -5.33583848e-01, -3.90847911e-01,\n",
       "       -2.03700462e-01,  4.36906698e-01, -6.46471643e-01, -2.24660259e-01,\n",
       "       -8.81512043e-02, -7.14213760e-02,  8.20505732e-01,  6.23174495e-01,\n",
       "       -1.06965644e+00,  5.91335161e-03, -6.20952329e-01, -4.72586155e-02,\n",
       "       -3.85460761e-01,  1.88734820e-01, -1.18193936e-01,  7.12296216e-01,\n",
       "       -1.12317870e+00,  3.31697326e-02, -4.37130554e-01,  5.87477186e-01,\n",
       "       -1.98258879e-01,  4.86292874e-01, -7.90152585e-01, -3.40691238e-01,\n",
       "        2.60149384e-01, -1.28373598e-01, -1.04208198e-01,  2.63501619e-01,\n",
       "       -7.00161391e-01, -2.63352469e-01,  5.99991679e-01,  6.85563977e-02,\n",
       "        2.13710780e-01,  2.35056889e-01, -2.42572891e-01,  3.42954911e-01,\n",
       "        5.68083167e-01,  7.41291073e-01,  8.11706541e-01,  9.08468071e-01,\n",
       "       -1.26190977e+00, -5.91634458e-01,  8.61771600e-01, -3.53535766e-01,\n",
       "        1.43009606e-01, -1.38173737e-01, -2.49047032e-01, -4.18276328e-01,\n",
       "        6.33614050e-02, -2.59689813e-01,  2.53280602e-01, -4.28003070e-01,\n",
       "       -5.64308798e-01, -1.14970969e-02,  8.45937278e-01, -5.55519649e-01,\n",
       "        5.01195453e-01,  2.17110360e-01, -7.74697737e-02,  2.29798867e-01,\n",
       "        4.19403044e-01,  4.86813252e-01, -8.70382578e-01,  2.93897218e-01,\n",
       "        1.39728081e-01,  1.33467818e+00, -1.88215434e-01, -8.86512773e-01,\n",
       "       -1.19842291e-01, -1.06048361e-02, -3.88720980e-01,  5.59603811e-01,\n",
       "       -1.63102311e-01, -6.80791779e-01,  4.81547125e-01,  1.14519700e-01,\n",
       "        1.64071509e-01, -5.37051312e-02,  7.81250810e-01, -2.09699199e-03,\n",
       "        7.04566407e-01, -3.20833519e-01,  5.79695059e-02,  2.15741247e-01,\n",
       "        2.37358557e-01, -2.48140909e-01, -8.92221870e-02,  7.54914764e-02,\n",
       "        6.50590180e-01, -5.71459473e-02,  8.80551298e-02,  1.25853329e+00,\n",
       "       -1.62561089e+00,  5.50099951e-01,  1.07173677e-01, -9.32674500e-01,\n",
       "       -7.18723745e-01,  2.64297039e-01,  2.55951712e-01,  2.74148481e-01,\n",
       "        2.50179321e-02,  8.10946937e-01, -1.36724312e-01,  3.93612808e-01,\n",
       "        6.02856282e-01,  3.24014932e-01, -1.97956120e-01,  1.07014001e+00,\n",
       "        1.07051832e+00, -5.48998661e-01,  5.39692134e-01,  5.59630521e-01,\n",
       "       -2.76669797e-01, -1.10224865e-01,  6.04257154e-01, -3.17318822e-01,\n",
       "        1.38385113e-01, -5.69348646e-01, -7.72394129e-01, -4.47350251e-01,\n",
       "        5.56813879e-01,  7.65330879e-03,  6.29329996e-03,  4.82905515e-01,\n",
       "       -4.27241528e-01, -3.70017986e-01, -3.85902331e-01, -2.44038068e-01,\n",
       "       -2.64696392e-01,  1.01857927e-03, -8.92693527e-01, -7.28561980e-01,\n",
       "       -1.74233929e-01, -1.00740126e-01, -7.28299365e-02, -1.36240343e+00,\n",
       "        7.24865599e-01,  3.24096735e-01,  4.59987723e-01,  5.94647635e-01])"
      ]
     },
     "execution_count": 21,
     "metadata": {},
     "output_type": "execute_result"
    }
   ],
   "source": [
    "mu, kappa = 0.0, 4.0 # mean and dispersion\n",
    "s = np.random.vonmises(mu, kappa, 1000)\n",
    "s # Display array"
   ]
  },
  {
   "cell_type": "code",
   "execution_count": 22,
   "metadata": {},
   "outputs": [
    {
     "data": {
      "image/png": "[encoded data removed]",
      "text/plain": [
       "<Figure size 432x288 with 1 Axes>"
      ]
     },
     "metadata": {
      "needs_background": "light"
     },
     "output_type": "display_data"
    }
   ],
   "source": [
    "from scipy.special import i0 # import module\n",
    "# Plot histogram from von meises data\n",
    "plt.hist(s, 50, density=True)\n",
    "\n",
    "# create probability density function and plot with histogram\n",
    "x = np.linspace(-np.pi, np.pi, num=51) # np.linspaace command explained [15]\n",
    "y = np.exp(kappa*np.cos(x-mu))/(2*np.pi*i0(kappa))  \n",
    "plt.plot(x, y, linewidth=2, color='r')  # plot line\n",
    "plt.show()\n",
    "\n"
   ]
  },
  {
   "cell_type": "markdown",
   "metadata": {},
   "source": [
    "[\\[15\\]][15]\n",
    "\n",
    "[15]: https://numpy.org/doc/stable/reference/generated/numpy.linspace.html\n"
   ]
  },
  {
   "cell_type": "markdown",
   "metadata": {},
   "source": [
    "Above is an example of data graphed using the vonmeises distribution. [\\[16\\]][16]\n",
    "\n",
    "[16]: https://en.wikipedia.org/wiki/Von_Mises_distribution\n",
    "\n",
    "---------------"
   ]
  },
  {
   "cell_type": "markdown",
   "metadata": {},
   "source": [
    "* ### Distribution 2: binomial\n",
    "\n",
    "**Generator.binomial(n, p, size=None)**\n",
    " \n",
    "Creates a sample from a binomial distributon. The specific paramaters are; n, the number of trialls, and  p, the probability of sucess. \n",
    "\n",
    "\"A binomial distribution can be thought of as simply the probability of a SUCCESS or FAILURE outcome in an experiment or survey that is repeated multiple times.\" [\\[18\\]][18] It is a type of distribution that has two possible outcomes. e.g coin toss - heads or tails. \n",
    "\n",
    "* Parameters \n",
    "    * n: trialls - paramater of the distribution greater than or equal to zero.\n",
    "    * p: probability of success, in the interval [1,0]\n",
    "    * size: output shape\n",
    "\n",
    "* Returns\n",
    "    * out: ndarray or scalar - Drawn samples from the parameterized binomial distribution, where each sample is equal to the number of successes over the n trials.\n",
    "    \n",
    "Note: for more information on this function see numpy documentation. [\\[17\\]][17]\n",
    "\n",
    "Examples\n",
    "\n",
    "\n",
    "\n",
    "\n",
    "[18]: https://www.statisticshowto.com/probability-and-statistics/binomial-theorem/binomial-distribution-formula/\n",
    "\n",
    "\n",
    "[17]: https://numpy.org/doc/stable/reference/random/generated/numpy.random.Generator.binomial.html#numpy.random.Generator.binomial"
   ]
  },
  {
   "cell_type": "code",
   "execution_count": 23,
   "metadata": {
    "scrolled": true
   },
   "outputs": [
    {
     "data": {
      "text/plain": [
       "array([7, 2, 8, ..., 4, 5, 4], dtype=int64)"
      ]
     },
     "execution_count": 23,
     "metadata": {},
     "output_type": "execute_result"
    }
   ],
   "source": [
    "rng = np.random.default_rng()\n",
    "n, p = 10, .5  # number of trials, probability of each trial\n",
    "s = rng.binomial(n, p, 10000)\n",
    "# result of flipping a coin 10 times, tested 10000 times.\n",
    "s\n",
    "# plt.hist(s, bins=10, range=None, rwidth=None, color=None, label=\"tEST\")\n"
   ]
  },
  {
   "cell_type": "code",
   "execution_count": 24,
   "metadata": {},
   "outputs": [
    {
     "data": {
      "text/plain": [
       "(array([   6.,  107.,  414., 1172., 2056., 2501., 2035., 1151.,  450.,\n",
       "         108.]),\n",
       " array([ 0.,  1.,  2.,  3.,  4.,  5.,  6.,  7.,  8.,  9., 10.]),\n",
       " <a list of 10 Patch objects>)"
      ]
     },
     "execution_count": 24,
     "metadata": {},
     "output_type": "execute_result"
    },
    {
     "data": {
      "image/png": "[encoded data removed]",
      "text/plain": [
       "<Figure size 432x288 with 1 Axes>"
      ]
     },
     "metadata": {
      "needs_background": "light"
     },
     "output_type": "display_data"
    }
   ],
   "source": [
    "plt.hist(s, bins=10, range=None, rwidth=None, color=None, label=\"tEST\")\n",
    "\n",
    "# matplotlib.pyplot.hist(x, bins=2 range=None, rwidth=None, color=None, label=tEST)"
   ]
  },
  {
   "cell_type": "markdown",
   "metadata": {},
   "source": [
    "The above graph plots the number of successful trialls against the number of trialls totally. It shows that the distribution is normally distributed when the probability is 0.5. \n",
    "\n",
    "There are many real word instances of binomial distributions. e.g drug trial - it works or doesnt, lottery ticket - you win or dont. It can be used to predict any situation in which success or failure are an option. \n",
    "\n",
    "---------------"
   ]
  },
  {
   "cell_type": "markdown",
   "metadata": {},
   "source": [
    "* ### Distribution 3: Uniform\n",
    "\n",
    "**Generator.uniform(low=0.0, high=1.0, size=None)**\n",
    "\n",
    "Draws a sample of a iniform distribution. Any value within the given interval is equally likely to be drawn. \n",
    "\n",
    "A uniform distribution is a probability distribution that has constant probability. [\\[20\\]][20]\n",
    "\n",
    "* Parameters \n",
    "    * low: lower boundary. values will be greater than or equal to. \n",
    "    * high: upper boundary. values will be less than. \n",
    "    * size: output shape\n",
    "\n",
    "* Returns\n",
    "    * out: ndarray or scalar - Drawn samples from the parameterized uniform distribution\n",
    "    \n",
    "Note: for more information on this function see numpy documentation. [\\[19\\]][19]\n",
    "\n",
    "Examples\n",
    "\n",
    "\n",
    "\n",
    "[19]: https://numpy.org/doc/stable/reference/random/generated/numpy.random.Generator.uniform.html#numpy.random.Generator.uniform\n",
    "\n",
    "[20]: https://www.statisticshowto.com/uniform-distribution/\n"
   ]
  },
  {
   "cell_type": "code",
   "execution_count": 25,
   "metadata": {},
   "outputs": [
    {
     "data": {
      "text/plain": [
       "(array([10., 15., 11.,  7., 10., 10., 14.,  7., 10.,  6.]),\n",
       " array([ 0. ,  9.9, 19.8, 29.7, 39.6, 49.5, 59.4, 69.3, 79.2, 89.1, 99. ]),\n",
       " <a list of 10 Patch objects>)"
      ]
     },
     "execution_count": 25,
     "metadata": {},
     "output_type": "execute_result"
    },
    {
     "data": {
      "image/png": "[encoded data removed]",
      "text/plain": [
       "<Figure size 432x288 with 1 Axes>"
      ]
     },
     "metadata": {
      "needs_background": "light"
     },
     "output_type": "display_data"
    }
   ],
   "source": [
    "# set size = 100\n",
    "x = rng.integers(100, size=100)\n",
    "plt.hist(x)"
   ]
  },
  {
   "cell_type": "code",
   "execution_count": 26,
   "metadata": {
    "scrolled": true
   },
   "outputs": [
    {
     "data": {
      "text/plain": [
       "(array([ 9898., 10016.,  9958., 10041., 10082., 10038.,  9952.,  9939.,\n",
       "        10129.,  9947.]),\n",
       " array([ 0. ,  9.9, 19.8, 29.7, 39.6, 49.5, 59.4, 69.3, 79.2, 89.1, 99. ]),\n",
       " <a list of 10 Patch objects>)"
      ]
     },
     "execution_count": 26,
     "metadata": {},
     "output_type": "execute_result"
    },
    {
     "data": {
      "image/png": "[encoded data removed]",
      "text/plain": [
       "<Figure size 432x288 with 1 Axes>"
      ]
     },
     "metadata": {
      "needs_background": "light"
     },
     "output_type": "display_data"
    }
   ],
   "source": [
    "# set size = 100000\n",
    "x = rng.integers(100, size=100000)\n",
    "plt.hist(x)"
   ]
  },
  {
   "cell_type": "markdown",
   "metadata": {},
   "source": [
    "The first plot shows 100 numbers drawn from 1 - 100. It is not immidiatly apparent that this is a uniofrm samle. Plotting 100,000 numbers gives us a better understanding of the uniform distribution. \n",
    "\n",
    "This is generally the distribution expected from a computer when a random generated number is needed. So the number 4 is as likely to come out as the number 10,000 etc. It will generate all numbers with the same probability.\n",
    "\n",
    "-------------"
   ]
  },
  {
   "cell_type": "markdown",
   "metadata": {},
   "source": [
    "* ### Distribution 4: normal\n",
    "\n",
    "**numpy.random.normal(loc=0.0, scale=1.0, size=None)**\n",
    "\n",
    "Draw random samples from a normal (Gaussian) distribution.\n",
    "\n",
    "\"The normal distribution is the most important probability distribution in statistics because it fits many natural phenomena. For example, heights, blood pressure, measurement error, and IQ scores follow the normal distribution. It is also known as the Gaussian distribution and the bell curve.\" [\\[22\\]][22]\n",
    "\n",
    "It is a symmetric distribution where most of the observations cluster around the central peak and the probabilities for values further away from the mean taper off equally in both directions. Extreme values in both tails of the distribution are similarly unlikely.\n",
    "\n",
    "\n",
    "* Parameters \n",
    "    * loc: mean of the distribution\n",
    "    * scale: standard deviation of the distribution\n",
    "    * size: output shape\n",
    "    \n",
    "* Returns\n",
    "    * out: ndarray or scalar - Drawn samples from the parameterized normal distribution\n",
    "    \n",
    "Note: for more information on this function see numpy documentation. [\\[21\\]][21]\n",
    "\n",
    "Examples\n",
    "\n",
    "\n",
    "[21]: https://numpy.org/doc/stable/reference/random/generated/numpy.random.normal.html#numpy.random.normal\n",
    "\n",
    "[22]: https://statisticsbyjim.com/basics/normal-distribution/"
   ]
  },
  {
   "cell_type": "code",
   "execution_count": 27,
   "metadata": {},
   "outputs": [],
   "source": [
    " # Students heights - centerd around middle. distribouts towards each side. "
   ]
  },
  {
   "cell_type": "code",
   "execution_count": 28,
   "metadata": {},
   "outputs": [
    {
     "data": {
      "text/plain": [
       "(array([  9.,  36.,  88., 175., 256., 223., 141.,  54.,  14.,   4.]),\n",
       " array([-0.30344131, -0.23853178, -0.17362224, -0.10871271, -0.04380317,\n",
       "         0.02110636,  0.0860159 ,  0.15092544,  0.21583497,  0.28074451,\n",
       "         0.34565404]),\n",
       " <a list of 10 Patch objects>)"
      ]
     },
     "execution_count": 28,
     "metadata": {},
     "output_type": "execute_result"
    },
    {
     "data": {
      "image/png": "[encoded data removed]",
      "text/plain": [
       "<Figure size 432x288 with 1 Axes>"
      ]
     },
     "metadata": {
      "needs_background": "light"
     },
     "output_type": "display_data"
    }
   ],
   "source": [
    "mu, sigma = 0, 0.1 # mean and standard deviation\n",
    "s = np.random.normal(mu, sigma, 1000)\n",
    "plt.hist(s)"
   ]
  },
  {
   "cell_type": "code",
   "execution_count": 29,
   "metadata": {},
   "outputs": [
    {
     "data": {
      "image/png": "[encoded data removed]",
      "text/plain": [
       "<Figure size 432x288 with 1 Axes>"
      ]
     },
     "metadata": {
      "needs_background": "light"
     },
     "output_type": "display_data"
    }
   ],
   "source": [
    "# Probability density function plotted\n",
    "\n",
    "count, bins, ignored = plt.hist(s, 30, density=True)\n",
    "plt.plot(bins, 1/(sigma * np.sqrt(2 * np.pi)) *\n",
    "               np.exp( - (bins - mu)**2 / (2 * sigma**2) ),\n",
    "         linewidth=2, color='r')\n",
    "plt.show()"
   ]
  },
  {
   "cell_type": "markdown",
   "metadata": {},
   "source": [
    "This allows us to match the probability expected with real world data. eg. class heights. etc. \n",
    "\n",
    "----------------"
   ]
  },
  {
   "cell_type": "markdown",
   "metadata": {},
   "source": [
    "* ### Distribution 5: chisquare\n",
    "\n",
    "**Generator.chisquare(df, size=None)**\n",
    "\n",
    "Draw samples from a chi-square distribution.\n",
    "\n",
    "In probability theory and statistics, the chi-square distribution with df degrees of freedom is the distribution of a sum of the squares of df independent standard normal random variables. The chi-square distribution is a special case of the gamma distribution and is one of the most widely used probability distributions in inferential statistics, notably in hypothesis testing and in construction of confidence intervals.[\\[25\\]][25] \n",
    "\n",
    "\n",
    "* Parameters \n",
    "    * df: number of degrees of freedom\n",
    "    * size: output shape\n",
    "    \n",
    "* Returns\n",
    "    * out: ndarray or scalar - Drawn samples from the parameterized chi-square distribution.\n",
    "    \n",
    "Note: for more information on this function see numpy documentation. [\\[23\\]][23]\n",
    "\n",
    "Examples\n",
    "\n",
    "\n",
    "[23]: https://numpy.org/doc/stable/reference/random/generated/numpy.random.Generator.chisquare.html#numpy.random.Generator.chisquare\n",
    "\n",
    "[25]: https://en.wikipedia.org/wiki/Chi-square_distribution"
   ]
  },
  {
   "cell_type": "code",
   "execution_count": 30,
   "metadata": {},
   "outputs": [
    {
     "data": {
      "text/plain": [
       "array([[5.23074897, 2.20802062, 3.09196567],\n",
       "       [2.73415743, 0.5494897 , 0.09245415]])"
      ]
     },
     "execution_count": 30,
     "metadata": {},
     "output_type": "execute_result"
    }
   ],
   "source": [
    "# Draw out a sample for chi squared distribution with degree of freedom 2 with size 2x3 \n",
    "x = np.random.chisquare(df=2, size=(2, 3))\n",
    "x"
   ]
  },
  {
   "cell_type": "code",
   "execution_count": 31,
   "metadata": {},
   "outputs": [
    {
     "data": {
      "image/png": "[encoded data removed]",
      "text/plain": [
       "<Figure size 432x288 with 1 Axes>"
      ]
     },
     "metadata": {
      "needs_background": "light"
     },
     "output_type": "display_data"
    }
   ],
   "source": [
    "# plot visualisaton of chisquare with 1 degree of freedom\n",
    "x = np.random.default_rng().chisquare(1,1000)\n",
    "sns.distplot(x)\n",
    "plt.show()"
   ]
  },
  {
   "cell_type": "code",
   "execution_count": 32,
   "metadata": {},
   "outputs": [
    {
     "data": {
      "image/png": "[encoded data removed]",
      "text/plain": [
       "<Figure size 432x288 with 1 Axes>"
      ]
     },
     "metadata": {
      "needs_background": "light"
     },
     "output_type": "display_data"
    }
   ],
   "source": [
    "# plot visualisaton of chisquare with 5 degree of freedom\n",
    "x = np.random.default_rng().chisquare(5,1000)\n",
    "sns.distplot(x)\n",
    "plt.show()"
   ]
  },
  {
   "cell_type": "code",
   "execution_count": 33,
   "metadata": {},
   "outputs": [
    {
     "data": {
      "image/png": "[encoded data removed]",
      "text/plain": [
       "<Figure size 432x288 with 1 Axes>"
      ]
     },
     "metadata": {
      "needs_background": "light"
     },
     "output_type": "display_data"
    }
   ],
   "source": [
    "# plot visualisaton of chisquare with 10 degree of freedom\n",
    "x = np.random.default_rng().chisquare(10,1000)\n",
    "sns.distplot(x)\n",
    "plt.show()"
   ]
  },
  {
   "cell_type": "markdown",
   "metadata": {},
   "source": [
    "The above three plots show teh difference in 1, 5 and 10 degrees of freedom. The chi-square distribution is typically used to develop hypothesis tests and confidence intervals. In a testing context, the chi-square distribution is treated as a \"standardized distribution\" [\\[24\\]][24]\n",
    "\n",
    "\n",
    "\n",
    "[24]: https://www.w3schools.com/python/numpy_random_chisquare.asp\n",
    "\n",
    "\n",
    "------------"
   ]
  },
  {
   "cell_type": "markdown",
   "metadata": {},
   "source": [
    "## Section 4. Explain the use of seeds in generating pseudorandom numbers.\n",
    "\n",
    "------------\n"
   ]
  },
  {
   "cell_type": "markdown",
   "metadata": {},
   "source": [
    "### What is a Random Seed?\n",
    "\n",
    "A random seed specifies the start point when a computer generates a random number sequence. This can be any number, but it usually comes from seconds on a computer system’s clock (Henkemans & Lee, 2001). [\\[27\\]][27] It takes the time in unix time which is the time stated in seconds after 1-1-1970. This gives a large range for seeds (0 to 1+ billion). It pretty much ensures that you don’t get the same random seed that is used twice — unless you want to. You can convert any time to this format using a epoch converter [\\[29\\]][29]\n",
    "\n",
    "Computers don’t generate truly random numbers, they are deterministic, which means that they operate by a set of rules. You can mimic randomness by specifying a set of rules. [\\[28\\]][28] It allows you to simulate a situation and repead the simulation exactly using the starting seed. \n",
    "\n",
    "[27]: https://www.statisticshowto.com/random-seed-definition/\n",
    "\n",
    "[28]: https://www.researchgate.net/post/Can-someone-explain-what-is-seed-in-generating-a-random-number\n",
    "\n",
    "[29]: https://www.epochconverter.com/\n",
    "\n",
    "-----------\n"
   ]
  },
  {
   "cell_type": "markdown",
   "metadata": {},
   "source": [
    "### Setting a seed\n",
    "\n",
    "**numpy.random.seed**\n",
    "\n",
    "This is a convenience, legacy function.\n",
    "\n",
    "The best practice is to not reseed a BitGenerator, rather to recreate a new one. This method is here for legacy reasons. This example demonstrates best practice.\n",
    "    \n",
    "Note: for more information on this function see numpy documentation. [\\[26\\]][26]\n",
    "\n",
    "Examples\n",
    "\n",
    "[26]: https://numpy.org/doc/stable/reference/random/generated/numpy.random.seed.html#numpy.random.seed"
   ]
  },
  {
   "cell_type": "code",
   "execution_count": 34,
   "metadata": {},
   "outputs": [
    {
     "data": {
      "text/plain": [
       "array([2, 0, 1, 0, 3])"
      ]
     },
     "execution_count": 34,
     "metadata": {},
     "output_type": "execute_result"
    }
   ],
   "source": [
    "from numpy.random import MT19937\n",
    "from numpy.random import RandomState, SeedSequence\n",
    "rs = RandomState(MT19937(SeedSequence(123456789)))\n",
    "np.random.randint(10,size=5)"
   ]
  },
  {
   "cell_type": "code",
   "execution_count": 35,
   "metadata": {},
   "outputs": [
    {
     "data": {
      "text/plain": [
       "array([2, 8, 6, 5, 0])"
      ]
     },
     "execution_count": 35,
     "metadata": {},
     "output_type": "execute_result"
    }
   ],
   "source": [
    "# Restarts the stream\n",
    "rs = RandomState(MT19937(SeedSequence(123456789)))\n",
    "np.random.randint(10,size=5)"
   ]
  },
  {
   "cell_type": "markdown",
   "metadata": {},
   "source": [
    "**Mersenne Twister**\n",
    "\n",
    "The above two examples show setting the seed using MT19937 aka the Mersenne Twister.  \n",
    "\n",
    "The Mersenne Twister is a pseudorandom number generator (PRNG). It is by far the most widely used general-purpose PRNG. Its name derives from the fact that its period length is chosen to be a Mersenne prime. [\\[30\\]][30] In mathematics, a Mersenne prime is a prime number that is one less than a power of two.\n",
    "\n",
    "\n",
    "[30]: https://en.wikipedia.org/wiki/Mersenne_Twister\n",
    "\n"
   ]
  },
  {
   "cell_type": "code",
   "execution_count": 36,
   "metadata": {},
   "outputs": [
    {
     "data": {
      "text/plain": [
       "array([1, 6, 7, 9, 8])"
      ]
     },
     "execution_count": 36,
     "metadata": {},
     "output_type": "execute_result"
    }
   ],
   "source": [
    "np.random.seed(101) # set seed\n",
    "np.random.randint(10,size=5)"
   ]
  },
  {
   "cell_type": "markdown",
   "metadata": {},
   "source": [
    "Setting the seed to 101 allows us to get the same results repeatedly. "
   ]
  },
  {
   "cell_type": "code",
   "execution_count": 37,
   "metadata": {},
   "outputs": [
    {
     "data": {
      "text/plain": [
       "array([4, 8, 5, 0, 5])"
      ]
     },
     "execution_count": 37,
     "metadata": {},
     "output_type": "execute_result"
    }
   ],
   "source": [
    "np.random.randint(10,size=5) # no seed"
   ]
  },
  {
   "cell_type": "code",
   "execution_count": 38,
   "metadata": {},
   "outputs": [
    {
     "data": {
      "text/plain": [
       "array([1, 6, 7, 9, 8])"
      ]
     },
     "execution_count": 38,
     "metadata": {},
     "output_type": "execute_result"
    }
   ],
   "source": [
    "np.random.seed(101)\n",
    "np.random.randint(10,size=5)\n"
   ]
  },
  {
   "cell_type": "markdown",
   "metadata": {},
   "source": [
    "The two examples above show how without the seed the random numbers returned are different each time. However when we reset the seed at 101 like before it returns the same values. \n",
    "\n",
    "----------------"
   ]
  },
  {
   "cell_type": "markdown",
   "metadata": {},
   "source": [
    "**class numpy.random.BitGenerator(seed=None)**\n",
    "\n",
    "Base Class for generic BitGenerators, which provide a stream of random bits based on different algorithms. Must be overridden.\n",
    "\n",
    "* Parameters \n",
    "    * seed: A seed to initialize the BitGenerator. If None, then fresh, unpredictable entropy will be pulled from the OS. If an int or array_like[ints] is passed, then it will be passed to ~`numpy.random.SeedSequence` to derive the initial BitGenerator state. One may also pass in a SeedSequence instance.\n",
    "\n",
    "* Attributes\n",
    "    * lock: Lock instance that is shared so that the same BitGenerator can be used in multiple Generators without corrupting the state. Code that generates values from a bit generator should hold the bit generator’s lock.\n",
    "    \n",
    "Note: for more information on this function see numpy documentation. [\\[31\\]][31]\n",
    "\n",
    "\n",
    "[31]: https://numpy.org/doc/stable/reference/random/bit_generators/generated/numpy.random.BitGenerator.html#numpy.random.BitGenerator\n",
    "\n",
    "-----------"
   ]
  },
  {
   "cell_type": "markdown",
   "metadata": {},
   "source": [
    "### Supported BitGenerators \n",
    "\n",
    "The above command allows us to set which bit generator we wish to use. There are various available bitgenerators each with pro's and con's. \n",
    "\n",
    "The random values produced by Generator orignate in a BitGenerator. The BitGenerators do not directly provide random numbers and only contains methods used for seeding, getting or setting the state, jumping or advancing the state, and for accessing low-level wrappers for consumption by code that can efficiently access the functions provided, e.g., numba. [\\[32\\]][32]\n",
    "\n",
    "The included generators in numpy are: \n",
    "\n",
    "* PCG-64: The default. A fast generator that supports many parallel streams and can be advanced by an arbitrary amount. [\\[33\\]][33]\n",
    "* MT19937 - The standard Python BitGenerator. [\\[30\\]][30]\n",
    "* Philox - A counter-based generator capable of being advanced an arbitrary number of steps or generating independent streams. [\\[34\\]][34]\n",
    "* SFC64 - A fast generator based on random invertible mappings. Usually the fastest generator of the four. [\\[35\\]][35]\n",
    "\n",
    "\n",
    "\n",
    "\n",
    "[30]: https://en.wikipedia.org/wiki/Mersenne_Twister\n",
    "\n",
    "[32]: https://numpy.org/doc/stable/reference/random/bit_generators/index.html\n",
    "\n",
    "[33]: https://numpy.org/doc/stable/reference/random/bit_generators/generated/numpy.random.PCG64.advance.html#numpy.random.PCG64.advance\n",
    "\n",
    "[34]: https://numpy.org/doc/stable/reference/random/bit_generators/philox.html\n",
    "\n",
    "[35]: https://numpy.org/doc/stable/reference/random/bit_generators/sfc64.html\n",
    "\n"
   ]
  },
  {
   "cell_type": "markdown",
   "metadata": {},
   "source": [
    "## References\n",
    "----------"
   ]
  },
  {
   "cell_type": "markdown",
   "metadata": {},
   "source": [
    "[1] https://numpy.org/doc/stable/reference/random/index.html\n",
    "\n",
    "[2] https://www.w3schools.com/python/numpy_random.asp\n",
    "\n",
    "[3] https://realpython.com/python-random/\n",
    "\n",
    "[4] https://numpy.org/doc/stable/reference/random/generator.html#numpy.random.Generator\n",
    "\n",
    "[5] https://numpy.org/doc/stable/reference/random/generated/numpy.random.rand.html#numpy.random.rand\n",
    "\n",
    "[6] https://numpy.org/doc/stable/reference/random/generated/numpy.random.Generator.integers.html#numpy.random.Generator.integers\n",
    "\n",
    "[7] https://numpy.org/doc/stable/reference/random/generated/numpy.random.Generator.choice.html#numpy.random.Generator.choice\n",
    "\n",
    "[8] https://numpy.org/doc/stable/reference/random/generated/numpy.random.Generator.bytes.html#numpy.random.Generator.bytes\n",
    "\n",
    "[9] https://numpy.org/doc/stable/reference/random/generated/numpy.random.Generator.shuffle.html#numpy.random.Generator.shuffle\n",
    "\n",
    "[10] https://numpy.org/doc/stable/reference/random/generated/numpy.random.Generator.permutation.html#numpy.random.Generator.permutation\n",
    "\n",
    "[11] https://en.wikipedia.org/wiki/Permutation\n",
    "\n",
    "[12] https://en.wikipedia.org/wiki/Rubik%27s_Cube#Permutations\n",
    "\n",
    "[13] https://numpy.org/doc/stable/reference/random/generated/numpy.random.vonmises.html#numpy.random.vonmises\n",
    "\n",
    "[14] https://www.statisticshowto.com/von-mises-distribution/\n",
    "\n",
    "[15] https://numpy.org/doc/stable/reference/generated/numpy.linspace.html\n",
    "\n",
    "[16] https://en.wikipedia.org/wiki/Von_Mises_distribution\n",
    "\n",
    "[17] https://numpy.org/doc/stable/reference/random/generated/numpy.random.Generator.binomial.html#numpy.random.Generator.binomial\n",
    "\n",
    "[18] https://www.statisticshowto.com/probability-and-statistics/binomial-theorem/binomial-distribution-formula/\n",
    "\n",
    "[19] https://numpy.org/doc/stable/reference/random/generated/numpy.random.Generator.uniform.html#numpy.random.Generator.uniform\n",
    "\n",
    "[20] https://www.statisticshowto.com/uniform-distribution/\n",
    "\n",
    "[21] https://numpy.org/doc/stable/reference/random/generated/numpy.random.normal.html#numpy.random.normal\n",
    "\n",
    "[22] https://statisticsbyjim.com/basics/normal-distribution/\n",
    "\n",
    "[23] https://numpy.org/doc/stable/reference/random/generated/numpy.random.Generator.chisquare.html#numpy.random.Generator.chisquare\n",
    "\n",
    "[24] https://www.w3schools.com/python/numpy_random_chisquare.asp\n",
    "\n",
    "[25] https://en.wikipedia.org/wiki/Chi-square_distribution\n",
    "\n",
    "[26] https://numpy.org/doc/stable/reference/random/generated/numpy.random.seed.html#numpy.random.seed\n",
    "\n",
    "[27] https://www.statisticshowto.com/random-seed-definition/\n",
    "\n",
    "[28] https://www.researchgate.net/post/Can-someone-explain-what-is-seed-in-generating-a-random-number\n",
    "\n",
    "[29] https://www.epochconverter.com/\n",
    "\n",
    "[30] https://en.wikipedia.org/wiki/Mersenne_Twister\n",
    "\n",
    "[31] https://numpy.org/doc/stable/reference/random/bit_generators/generated/numpy.random.BitGenerator.html#numpy.random.BitGenerator\n",
    "\n",
    "[32] https://numpy.org/doc/stable/reference/random/bit_generators/index.html\n",
    "\n",
    "[33] https://numpy.org/doc/stable/reference/random/bit_generators/generated/numpy.random.PCG64.advance.html#numpy.random.PCG64.advance\n",
    "\n",
    "[34] https://numpy.org/doc/stable/reference/random/bit_generators/philox.html\n",
    "\n",
    "[35] https://numpy.org/doc/stable/reference/random/bit_generators/sfc64.html"
   ]
  }
 ],
 "metadata": {
  "kernelspec": {
   "display_name": "Python 3",
   "language": "python",
   "name": "python3"
  },
  "language_info": {
   "codemirror_mode": {
    "name": "ipython",
    "version": 3
   },
   "file_extension": ".py",
   "mimetype": "text/x-python",
   "name": "python",
   "nbconvert_exporter": "python",
   "pygments_lexer": "ipython3",
   "version": "3.8.3"
  }
 },
 "nbformat": 4,
 "nbformat_minor": 4
}
