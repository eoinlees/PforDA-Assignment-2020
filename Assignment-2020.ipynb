{
 "cells": [
  {
   "cell_type": "markdown",
   "metadata": {},
   "source": [
    "# Programming for Data Analytics -  numpy.random - Assignment\n",
    "### Eoin Lees - G00387888 - November 2020\n",
    "------------"
   ]
  },
  {
   "cell_type": "markdown",
   "metadata": {},
   "source": [
    "\n",
    "\n",
    "[5] https://numpy.org/doc/stable/reference/random/generated/numpy.random.rand.html#numpy.random.rand\n",
    "\n",
    "[6] https://numpy.org/doc/stable/reference/random/generated/numpy.random.Generator.integers.html#numpy.random.Generator.integers\n",
    "\n",
    "[7] https://numpy.org/doc/stable/reference/random/generated/numpy.random.Generator.choice.html#numpy.random.Generator.choice\n",
    "\n",
    "[8] https://numpy.org/doc/stable/reference/random/generated/numpy.random.Generator.bytes.html#numpy.random.Generator.bytes\n",
    "\n",
    "[9] https://numpy.org/doc/stable/reference/random/generated/numpy.random.Generator.shuffle.html#numpy.random.Generator.shuffle\n",
    "\n",
    "[10] https://numpy.org/doc/stable/reference/random/generated/numpy.random.Generator.permutation.html#numpy.random.Generator.permutation\n",
    "\n",
    "[11] https://en.wikipedia.org/wiki/Permutation\n",
    "\n",
    "[12] https://en.wikipedia.org/wiki/Rubik%27s_Cube#Permutations\n",
    "\n",
    "[13] https://numpy.org/doc/stable/reference/random/generated/numpy.random.vonmises.html#numpy.random.vonmises\n",
    "\n",
    "[14] https://www.statisticshowto.com/von-mises-distribution/\n",
    "\n",
    "[15] https://numpy.org/doc/stable/reference/generated/numpy.linspace.html\n",
    "\n",
    "[16] https://en.wikipedia.org/wiki/Von_Mises_distribution\n",
    "\n",
    "[17] https://numpy.org/doc/stable/reference/random/generated/numpy.random.Generator.binomial.html#numpy.random.Generator.binomial\n",
    "\n",
    "[18] https://www.statisticshowto.com/probability-and-statistics/binomial-theorem/binomial-distribution-formula/\n",
    "\n",
    "[19] https://numpy.org/doc/stable/reference/random/generated/numpy.random.Generator.uniform.html#numpy.random.Generator.uniform\n",
    "\n",
    "[20] https://www.statisticshowto.com/uniform-distribution/\n",
    "\n",
    "[21] https://numpy.org/doc/stable/reference/random/generated/numpy.random.normal.html#numpy.random.normal\n",
    "\n",
    "[22] https://statisticsbyjim.com/basics/normal-distribution/\n",
    "\n",
    "[23] https://numpy.org/doc/stable/reference/random/generated/numpy.random.Generator.chisquare.html#numpy.random.Generator.chisquare\n",
    "\n",
    "[24] https://www.w3schools.com/python/numpy_random_chisquare.asp\n",
    "\n",
    "[25] https://en.wikipedia.org/wiki/Chi-square_distribution\n",
    "\n",
    "[26] https://numpy.org/doc/stable/reference/random/generated/numpy.random.seed.html#numpy.random.seed\n",
    "\n",
    "[27] https://www.statisticshowto.com/random-seed-definition/\n",
    "\n",
    "[28] https://www.researchgate.net/post/Can-someone-explain-what-is-seed-in-generating-a-random-number\n",
    "\n",
    "[29] https://www.epochconverter.com/\n",
    "\n",
    "[30] https://en.wikipedia.org/wiki/Mersenne_Twister\n",
    "\n",
    "[31] https://numpy.org/doc/stable/reference/random/bit_generators/generated/numpy.random.BitGenerator.html#numpy.random.BitGenerator\n",
    "\n",
    "[32] https://numpy.org/doc/stable/reference/random/bit_generators/index.html\n",
    "\n",
    "[33] https://numpy.org/doc/stable/reference/random/bit_generators/generated/numpy.random.PCG64.advance.html#numpy.random.PCG64.advance\n",
    "\n",
    "[34] https://numpy.org/doc/stable/reference/random/bit_generators/philox.html\n",
    "\n",
    "[35] https://numpy.org/doc/stable/reference/random/bit_generators/sfc64.html"
   ]
  },
  {
   "cell_type": "markdown",
   "metadata": {},
   "source": [
    "## Section 1. Explain the overall purpose of the package.\n",
    "--------------"
   ]
  },
  {
   "cell_type": "markdown",
   "metadata": {},
   "source": [
    "## <u>numpy.random</u> \n",
    "\n",
    "The overall purpose of the numpy.random package is to \"produce pseudo random numbers using combinations of a BitGenerator to create sequences and a Generator to use those sequences to sample from different statistical distributions\" [［1］][1]\n",
    "\n",
    "A random number does not mean a different number every time. Random means something that cannot be predicted logically. In order for a computer to achieve this it uses BitGenerators to create a number based on a generation algorithm. These are known as psudo random numbers. [［2］][2]\n",
    "\n",
    "\n",
    "##### BitGenerators: \n",
    "\n",
    "Objects that generate random numbers. These are typically unsigned integer words filled with sequences of either 32 or 64 random bits. There are a number of different generators than can be used for this since Numpy version 1.17.0. The use of seeds and there effects on this is explored further in section 4.   \n",
    "\n",
    "##### Generators: \n",
    "\n",
    "Objects that transform sequences of random bits from a BitGenerator into sequences of numbers that follow a specific probability distribution (such as uniform, Normal or Binomial) within a specified interval. In this document there is a description of the following distributions  in section 3: \n",
    "\n",
    "* Von meises \n",
    "* Binomial\n",
    "* Uniform\n",
    "* Normal\n",
    "* Chi squared\n",
    "\n",
    "[［3］][3]\n",
    "It is possible to create real random numbers using a true random number generator. An example of this can be seen at https://www.random.org/integers/ which uses atmospheric noise to create true random numbers. However this is a lot more involved and for the purpose of this analysis not relevant. \n",
    "\n",
    "It is worth noteing however that it is commonly reccomended not use psudo-random number generators if you require a cryptographically secure number. \n",
    "\n",
    "[1]: https://numpy.org/doc/stable/reference/random/index.html\n",
    "\n",
    "[2]: https://www.w3schools.com/python/numpy_random.asp\n",
    "\n",
    "[3]: https://realpython.com/python-random/\n"
   ]
  },
  {
   "cell_type": "code",
   "execution_count": 1,
   "metadata": {},
   "outputs": [],
   "source": [
    "# Import all modules for this notebook\n",
    "import numpy as np\n",
    "import matplotlib.pyplot as plt\n",
    "import seaborn as sns"
   ]
  },
  {
   "cell_type": "markdown",
   "metadata": {},
   "source": [
    "## Section 2. Explain the use of the “Simple random data” and “Permutations” functions.\n",
    "-----------"
   ]
  },
  {
   "cell_type": "markdown",
   "metadata": {},
   "source": [
    "## <u>Simple Random Data</u>\n",
    "\n",
    "\n",
    "\n",
    "Simple random data is broken down below into the following: [4][4]\n",
    "\n",
    "* random\n",
    "* integers\n",
    "* choice\n",
    "* bytes\n",
    "\n",
    "-------------\n",
    "[4]: https://numpy.org/doc/stable/reference/random/generator.html#numpy.random.Generator"
   ]
  },
  {
   "cell_type": "markdown",
   "metadata": {},
   "source": [
    "* ### Random\n",
    "\n",
    "**numpy.random.rand(d0, d1, ..., dn)**\n",
    "\n",
    "Creates a random number between 0 and 1 that is uniformilly distributed. [5]\n",
    "\n",
    "* Parameters \n",
    "    * d0, d1, …, dnint, optional\n",
    "    * The dimensions of the returned array, must be non-negative. If no argument is given a single Python float is returned.\n",
    "\n",
    "* Returns\n",
    "    * out: ndarray, shape (d0, d1, ..., dn)\n",
    "    * Random values.\n",
    "\n",
    "Note: for more information on this function see numpy documentation. [5]\n",
    "\n",
    "Examples:"
   ]
  },
  {
   "cell_type": "code",
   "execution_count": 2,
   "metadata": {},
   "outputs": [
    {
     "data": {
      "text/plain": [
       "0.3266942986137894"
      ]
     },
     "execution_count": 2,
     "metadata": {},
     "output_type": "execute_result"
    }
   ],
   "source": [
    "np.random.rand()\n",
    "# creates a random number between 0 and 1. Uniformily distributed. "
   ]
  },
  {
   "cell_type": "code",
   "execution_count": 3,
   "metadata": {},
   "outputs": [
    {
     "data": {
      "text/plain": [
       "array([[0.80705868, 0.66142056],\n",
       "       [0.51360771, 0.88588005],\n",
       "       [0.2912911 , 0.23671042],\n",
       "       [0.03176214, 0.45782377]])"
      ]
     },
     "execution_count": 3,
     "metadata": {},
     "output_type": "execute_result"
    }
   ],
   "source": [
    "x = np.random.rand(4,2)\n",
    "# creates an array with 4 lists of 2 random numbers \n",
    "x"
   ]
  },
  {
   "cell_type": "markdown",
   "metadata": {},
   "source": [
    "The above examples show how to use numpy.random.rand(). As stated in the parameters the dimensions of the returned array must be non negative. \n",
    "\n",
    "-------------"
   ]
  },
  {
   "cell_type": "markdown",
   "metadata": {},
   "source": [
    "* ### Integers\n",
    "\n",
    "**Generator.integers(low, high=None, size=None, dtype=np.int64, endpoint=False)**\n",
    "\n",
    "Integers returns random integers from low to high (not included). it returns ranndom integers from the “discrete uniform” distribution of the specified dtype. If high is None (the default), then results are from 0 to low. [6]\n",
    "\n",
    "* Parameters \n",
    "    * low: the lowest value to select from. \n",
    "    * high: the highest value to select from. \n",
    "    * size: the output shape. number of values returned or number of values and lists returned. \n",
    "    * dtype: dtype, default is np.int64\n",
    "    * endpoint: If true, sample from the interval [low, high] instead of the default [low, high) Defaults to False\n",
    "   \n",
    "\n",
    "* Returns\n",
    "    * out: (int or ndarray of ints) size-shaped array of random integers from the appropriate distribution, or a single such random int if size not provided.\n",
    "\n",
    "Note: for more information on this function see numpy documentation. [6]\n",
    "\n",
    "Examples:\n"
   ]
  },
  {
   "cell_type": "code",
   "execution_count": 4,
   "metadata": {},
   "outputs": [],
   "source": [
    "#  create rng - random number generator object\n",
    "rng = np.random.default_rng()"
   ]
  },
  {
   "cell_type": "code",
   "execution_count": 5,
   "metadata": {},
   "outputs": [
    {
     "data": {
      "text/plain": [
       "array([0, 1, 2, 1, 0, 2, 2, 0, 0, 2, 1, 0, 2, 0, 2], dtype=int64)"
      ]
     },
     "execution_count": 5,
     "metadata": {},
     "output_type": "execute_result"
    }
   ],
   "source": [
    "# use rng to generate sequence of random integers\n",
    "rng.integers(3, size=15)"
   ]
  },
  {
   "cell_type": "markdown",
   "metadata": {},
   "source": [
    "This generates a series of 15 numbers up to but not inclusive of 3. The data type is \"int64\" by default. It shows how by default the low parameter is 0 and the high value is stated as 3. "
   ]
  },
  {
   "cell_type": "code",
   "execution_count": 6,
   "metadata": {},
   "outputs": [
    {
     "data": {
      "text/plain": [
       "array([[4, 2, 3, 4, 4],\n",
       "       [0, 2, 4, 4, 1],\n",
       "       [4, 4, 3, 0, 2]], dtype=int64)"
      ]
     },
     "execution_count": 6,
     "metadata": {},
     "output_type": "execute_result"
    }
   ],
   "source": [
    "# using the size parameter to generate a 3 x 5 array.\n",
    "rng.integers(5, size=(3, 5))"
   ]
  },
  {
   "cell_type": "markdown",
   "metadata": {},
   "source": [
    "Again this demonstrates the high value set at 5. The size parameter states two variables, the first is the number of arrays, in this case three. The second states the number of elements in each array. The size parameter allows further dimension to be added along the 3rd and 4th dimensions etc. This allows complex data structures be formed. "
   ]
  },
  {
   "cell_type": "code",
   "execution_count": 7,
   "metadata": {
    "scrolled": true
   },
   "outputs": [],
   "source": [
    "# Test the distribution of the random data\n",
    "x = rng.integers(100, size=100)"
   ]
  },
  {
   "cell_type": "markdown",
   "metadata": {},
   "source": [
    "Here we create an array of 100 values in order to determine what kind of distribution is set as default. "
   ]
  },
  {
   "cell_type": "code",
   "execution_count": 8,
   "metadata": {},
   "outputs": [
    {
     "data": {
      "text/plain": [
       "(array([14.,  8.,  8., 17.,  5.,  5.,  8., 16., 10.,  9.]),\n",
       " array([ 1. , 10.5, 20. , 29.5, 39. , 48.5, 58. , 67.5, 77. , 86.5, 96. ]),\n",
       " <a list of 10 Patch objects>)"
      ]
     },
     "execution_count": 8,
     "metadata": {},
     "output_type": "execute_result"
    },
    {
     "data": {
      "image/png": "[encoded data removed]",
      "text/plain": [
       "<Figure size 432x288 with 1 Axes>"
      ]
     },
     "metadata": {
      "needs_background": "light"
     },
     "output_type": "display_data"
    }
   ],
   "source": [
    "# Create histogram of plot\n",
    "plt.hist(x)"
   ]
  },
  {
   "cell_type": "markdown",
   "metadata": {},
   "source": [
    "This profile is quite varied. It does not allow us to determine much based off the limited number of random values. "
   ]
  },
  {
   "cell_type": "code",
   "execution_count": 9,
   "metadata": {},
   "outputs": [
    {
     "data": {
      "text/plain": [
       "(array([1001295.,  999190., 1000407.,  998817.,  999808., 1000321.,\n",
       "         999905., 1000788.,  999086., 1000383.]),\n",
       " array([ 0. ,  9.9, 19.8, 29.7, 39.6, 49.5, 59.4, 69.3, 79.2, 89.1, 99. ]),\n",
       " <a list of 10 Patch objects>)"
      ]
     },
     "execution_count": 9,
     "metadata": {},
     "output_type": "execute_result"
    },
    {
     "data": {
      "image/png": "[encoded data removed]",
      "text/plain": [
       "<Figure size 432x288 with 1 Axes>"
      ]
     },
     "metadata": {
      "needs_background": "light"
     },
     "output_type": "display_data"
    }
   ],
   "source": [
    "# set size = 10000000\n",
    "x = rng.integers(100, size=10000000)\n",
    "plt.hist(x)"
   ]
  },
  {
   "cell_type": "markdown",
   "metadata": {},
   "source": [
    "When we set the size the ten million we see that the profile of this data is flat. The distribution of numbers into each 20 unit bar seems to be the same.\n",
    "This is known as a uniform distribution, which is rare in a real world situation. \n",
    "\n",
    "--------------"
   ]
  },
  {
   "cell_type": "markdown",
   "metadata": {},
   "source": [
    "* ### Choice \n",
    "\n",
    "**Generator.choice(a, size=None, replace=True, p=None, axis=0, shuffle=True)**\n",
    " \n",
    " Creates a random sample from a given array. [7]\n",
    " \n",
    "\n",
    "* Parameters \n",
    "    * a: array. if ndarray, random sample generated from its elements. if int, random sample generated from np.arrange(a)\n",
    "    * size: output size\n",
    "    * replace: Whether the sample is with or without replacement\n",
    "    * p: the probabilities associated with each entry in a. \n",
    "    * axis: The axis along which the selection is performed. The default, 0, selects by row.\n",
    "    * shuffle: Whether the sample is shuffled when sampling without replacement. \n",
    "\n",
    "\n",
    "* Returns\n",
    "    * samples: returns a single item or the generated ndarray\n",
    "\n",
    "Note: for more information on this function see numpy documentation. [7]\n",
    "\n",
    "Examples:"
   ]
  },
  {
   "cell_type": "code",
   "execution_count": 10,
   "metadata": {},
   "outputs": [
    {
     "data": {
      "text/plain": [
       "array([5, 6, 7], dtype=int64)"
      ]
     },
     "execution_count": 10,
     "metadata": {},
     "output_type": "execute_result"
    }
   ],
   "source": [
    "rng = np.random.default_rng()\n",
    "rng.choice(10, 3)\n",
    "\n",
    "#This is equivalent to rng.integers(0,5,3)\n",
    "# Picks 3 random numbers between 0 and 10\n",
    "# generate a uniform random sample from np.arange(5) of size 3:\n"
   ]
  },
  {
   "cell_type": "code",
   "execution_count": 11,
   "metadata": {},
   "outputs": [
    {
     "data": {
      "text/plain": [
       "(array([10032., 10071., 10013., 10021.,  9956.,  9747., 10048., 10082.,\n",
       "         9978., 10052.]),\n",
       " array([0. , 0.9, 1.8, 2.7, 3.6, 4.5, 5.4, 6.3, 7.2, 8.1, 9. ]),\n",
       " <a list of 10 Patch objects>)"
      ]
     },
     "execution_count": 11,
     "metadata": {},
     "output_type": "execute_result"
    },
    {
     "data": {
      "image/png": "[encoded data removed]",
      "text/plain": [
       "<Figure size 432x288 with 1 Axes>"
      ]
     },
     "metadata": {
      "needs_background": "light"
     },
     "output_type": "display_data"
    }
   ],
   "source": [
    "# show that sample is uniformly distributed\n",
    "x = rng.choice(10, 100000)\n",
    "plt.hist(x)"
   ]
  },
  {
   "cell_type": "markdown",
   "metadata": {},
   "source": [
    "The histogram shows that the data produced by choice is uniformly distributed. "
   ]
  },
  {
   "cell_type": "code",
   "execution_count": 12,
   "metadata": {},
   "outputs": [
    {
     "data": {
      "text/plain": [
       "array(['car', 'star'], dtype='<U4')"
      ]
     },
     "execution_count": 12,
     "metadata": {},
     "output_type": "execute_result"
    }
   ],
   "source": [
    "rng.choice([\"car\", \"bar\", \"star\", \"tar\"], 2)\n",
    "\n",
    "# generates a random sample of size 2 of the list given. "
   ]
  },
  {
   "cell_type": "markdown",
   "metadata": {},
   "source": [
    "The choice command can be used to randomly select inputted strings also as shown above."
   ]
  },
  {
   "cell_type": "code",
   "execution_count": 13,
   "metadata": {},
   "outputs": [
    {
     "data": {
      "text/plain": [
       "array(['star', 'tar', 'star', 'star'], dtype='<U4')"
      ]
     },
     "execution_count": 13,
     "metadata": {},
     "output_type": "execute_result"
    }
   ],
   "source": [
    "rng.choice([\"car\", \"bar\", \"star\", \"tar\"], 4, p=[0.1, 0.1, 0.6, 0.2])\n",
    "# adding probabilities"
   ]
  },
  {
   "cell_type": "code",
   "execution_count": 14,
   "metadata": {},
   "outputs": [
    {
     "data": {
      "text/plain": [
       "(array([6006.,    0.,    0., 1000.,    0.,    0., 2007.,    0.,    0.,\n",
       "         987.]),\n",
       " array([0. , 0.3, 0.6, 0.9, 1.2, 1.5, 1.8, 2.1, 2.4, 2.7, 3. ]),\n",
       " <a list of 10 Patch objects>)"
      ]
     },
     "execution_count": 14,
     "metadata": {},
     "output_type": "execute_result"
    },
    {
     "data": {
      "image/png": "[encoded data removed]",
      "text/plain": [
       "<Figure size 432x288 with 1 Axes>"
      ]
     },
     "metadata": {
      "needs_background": "light"
     },
     "output_type": "display_data"
    }
   ],
   "source": [
    "x = rng.choice([\"car\", \"bar\", \"star\", \"tar\"], 10000, p=[0.1, 0.1, 0.6, 0.2])\n",
    "plt.hist(x)\n",
    "# plotting command run 10000 times"
   ]
  },
  {
   "cell_type": "markdown",
   "metadata": {},
   "source": [
    "Using the p parameter we can set the probability of each entity. We can prove this probability by running the command 10,000 times and protting the results. \n",
    "\n",
    "-----------------"
   ]
  },
  {
   "cell_type": "markdown",
   "metadata": {},
   "source": [
    "* ### Bytes\n",
    "\n",
    "**Generator.bytes(length)**\n",
    "\n",
    "Returns a string of random bytes of specified length method : Generator.bytes(length) \n",
    "\n",
    "* Parameters \n",
    "    * length: the number of random bytes required. \n",
    "   \n",
    "* Returns\n",
    "    * out: string of length length\n",
    "\n",
    "Note: for more information on this function see numpy documentation. [8]\n",
    "\n",
    "Examples:"
   ]
  },
  {
   "cell_type": "code",
   "execution_count": 15,
   "metadata": {},
   "outputs": [
    {
     "data": {
      "text/plain": [
       "b'\\xa5\\xf1\\x9d\\xfd\\xb0\\xef\\x9e\\xe1\\xd3\\xbc\\x0eg\\xe3\\xf1\\xd9N2@wy'"
      ]
     },
     "execution_count": 15,
     "metadata": {},
     "output_type": "execute_result"
    }
   ],
   "source": [
    "np.random.default_rng().bytes(20)"
   ]
  },
  {
   "cell_type": "markdown",
   "metadata": {},
   "source": [
    "Returns a string of random bytes of length 20. \n",
    "\n",
    "--------------"
   ]
  },
  {
   "cell_type": "markdown",
   "metadata": {},
   "source": [
    "## <u>Permutations</u>\n",
    "-----------\n",
    "\n"
   ]
  },
  {
   "cell_type": "markdown",
   "metadata": {},
   "source": [
    "* ### Shuffle\n",
    "\n",
    "**Generator.shuffle(x, axis=0)**\n",
    " \n",
    "Modifies a sequence by change the order of its contents. The contents remain unchanged, only their order is changed. [9]\n",
    " \n",
    "\n",
    "* Parameters \n",
    "    * x: the array or list to be shuffled\n",
    "    * axis: the axis to shuffle x along. \n",
    "\n",
    "* Returns\n",
    "    * None\n",
    "    \n",
    "Note: for more information on this function see numpy documentation. [9]\n",
    "\n",
    "Examples"
   ]
  },
  {
   "cell_type": "code",
   "execution_count": 16,
   "metadata": {},
   "outputs": [
    {
     "name": "stdout",
     "output_type": "stream",
     "text": [
      "The following is 10 numbers arranged in ascending order:  [0 1 2 3 4 5 6 7 8 9]\n",
      "The following is the same 10 numbers shuffled and reprinted:  [5 9 3 4 1 2 0 7 6 8]\n"
     ]
    }
   ],
   "source": [
    "# Example of arrange on integers. \n",
    "\n",
    "arr = np.arange(10)\n",
    "\n",
    "print(\"The following is 10 numbers arranged in ascending order: \", arr)\n",
    "rng.shuffle(arr)\n",
    "print(\"The following is the same 10 numbers shuffled and reprinted: \", arr)"
   ]
  },
  {
   "cell_type": "code",
   "execution_count": 17,
   "metadata": {},
   "outputs": [
    {
     "name": "stdout",
     "output_type": "stream",
     "text": [
      "['car', 'tar', 'star', 'bar']\n"
     ]
    }
   ],
   "source": [
    "# Using shuffle to shuffle a list of strings. \n",
    "\n",
    "x = [\"car\", \"bar\", \"star\", \"tar\"]\n",
    "np.random.shuffle(x)\n",
    "print(x)"
   ]
  },
  {
   "cell_type": "markdown",
   "metadata": {},
   "source": [
    "Shuffle is a simple command that can be used to easily mix the arrangement of a list randomly as show above. The data can be a list, a tuple or a string. \n",
    "\n",
    "--------------------"
   ]
  },
  {
   "cell_type": "markdown",
   "metadata": {},
   "source": [
    "* ### Permutations\n",
    "\n",
    "**Generator.permutation(x, axis=0)**\n",
    " \n",
    "randomly permutes a sequence or returnes a range of permuted values. [10] \n",
    "\n",
    "\"In mathematics, a permutation of a set is an arrangement of its members into a sequence or linear order, or if the set is already ordered, a rearrangement of its elements. The word \"permutation\" also refers to the act or process of changing the linear order of an ordered set\" [11]\n",
    " \n",
    "\n",
    "* Parameters \n",
    "    * x: Randomly permutate if x is integar. If array, make copy then shuffle elements.\n",
    "    * axis: The axis which x is shuffled along. Default is 0.\n",
    "\n",
    "* Returns\n",
    "    * out: ndarray - permuted sequence or array range. \n",
    "    \n",
    "Note: for more information on this function see numpy documentation. [10]\n",
    "\n",
    "Examples\n"
   ]
  },
  {
   "cell_type": "code",
   "execution_count": 18,
   "metadata": {},
   "outputs": [
    {
     "data": {
      "text/plain": [
       "array([3, 5, 8, 9, 1, 2, 0, 6, 7, 4])"
      ]
     },
     "execution_count": 18,
     "metadata": {},
     "output_type": "execute_result"
    }
   ],
   "source": [
    "# permutate \n",
    "rng.permutation(10)"
   ]
  },
  {
   "cell_type": "code",
   "execution_count": 19,
   "metadata": {},
   "outputs": [
    {
     "data": {
      "text/plain": [
       "array([ 2, 16,  4,  9,  5, 18])"
      ]
     },
     "execution_count": 19,
     "metadata": {},
     "output_type": "execute_result"
    }
   ],
   "source": [
    "# permutate given list\n",
    "rng.permutation([2, 4, 5, 9, 16, 18])"
   ]
  },
  {
   "cell_type": "code",
   "execution_count": 20,
   "metadata": {},
   "outputs": [
    {
     "name": "stdout",
     "output_type": "stream",
     "text": [
      "First set: \n",
      " [[ 0  1  2  3]\n",
      " [ 4  5  6  7]\n",
      " [ 8  9 10 11]\n",
      " [12 13 14 15]]\n",
      "second set: \n",
      " [[ 4  5  6  7]\n",
      " [ 8  9 10 11]\n",
      " [12 13 14 15]\n",
      " [ 0  1  2  3]]\n"
     ]
    }
   ],
   "source": [
    "# example of permutation command on printed set of data. \n",
    "arr = np.arange(16).reshape((4, 4))\n",
    "print(\"First set: \\n\", arr)\n",
    "print(\"second set: \\n\", rng.permutation(arr))"
   ]
  },
  {
   "cell_type": "markdown",
   "metadata": {},
   "source": [
    "Permutations is another method of rearranging data. The feild of permutations is detailed and well studied. A rubix cube is a practical example of permutations. Each time you turn the cube there is another set of the same data in a different permutation. More information can be found here. [12]\n",
    "\n",
    "------------"
   ]
  },
  {
   "cell_type": "markdown",
   "metadata": {},
   "source": [
    "## Section 3. Explain the use and purpose of at least five “Distributions” functions.\n",
    "------------"
   ]
  },
  {
   "cell_type": "markdown",
   "metadata": {},
   "source": [
    "* ### Distribution 1: von meises\n",
    "\n",
    "**numpy.random.vonmises(mu, kappa, size=None)**\n",
    " \n",
    "Draws a sample from a von meises distribution. Samples are drawn with specific mode(mu) and dispersion(kappa) on the interval [-π, π]  [13] \n",
    "\n",
    "\"The Von Mises distribution (also called the circular normal or Tikhonov distribution) is a continuous probability distribution with a range from 0 to 2π, aka a circle. It is similar to the normal distribution, except coordinates are placed on a circular plane. The von Mises distribution can be thought of as a special case of the Von Mises-Fisher distribution, which is an extension of the distribution to multi-dimensional spheres.\n",
    "\n",
    "The distribution was first described by Richard von Mises in 1918 as a way to model the distribution of atomic weights. It’s now used to model a variety of phenomena including:\n",
    "\n",
    "* Brownian motion (Physics),\n",
    "* Epidemiology (spread of disease),\n",
    "* Interference Alignment (Signal Processing),\n",
    "* Privacy-preserving algorithms in (Machine Learning).\" [14]\n",
    " \n",
    "\n",
    "* Parameters \n",
    "    * mu: mode or centre of the distribution.\n",
    "    * kappa: dispersion of teh distribution. Must be greater than or equal to 0. \n",
    "    * size: output shape.\n",
    "    \n",
    "* Returns\n",
    "    * out: ndarray or scalar - Drawn samples from the parameterized von Mises distribution. \n",
    "    \n",
    "Note: for more information on this function see numpy documentation. [13]\n",
    "\n",
    "Examples"
   ]
  },
  {
   "cell_type": "code",
   "execution_count": 21,
   "metadata": {
    "scrolled": true
   },
   "outputs": [
    {
     "data": {
      "text/plain": [
       "array([ 7.02859744e-01, -2.93720158e-01,  4.14585608e-01, -2.78549620e-01,\n",
       "        1.84115099e-01, -7.28285336e-01, -1.59071284e-01, -1.52487805e+00,\n",
       "       -8.37199471e-01,  6.88882055e-01,  1.10899121e-02,  5.39854731e-01,\n",
       "       -6.61824069e-01, -1.23592666e-01, -1.17762906e-01,  1.89951702e-01,\n",
       "       -7.87126118e-01,  2.22992108e-01,  1.11737762e+00,  2.80214245e-01,\n",
       "        3.26487272e-01,  3.50249166e-01, -3.69356438e-01, -8.27172143e-01,\n",
       "        5.28163369e-03,  1.77440718e-01,  2.36669429e-01, -5.89691146e-01,\n",
       "       -1.02000011e+00,  1.69444233e-02,  1.09486877e-01,  1.52033231e+00,\n",
       "       -7.09087264e-01,  1.88958893e-01, -2.12785082e-01,  1.08261539e-02,\n",
       "        2.89194272e-01,  7.28674445e-02,  7.31658339e-01,  2.98755336e-01,\n",
       "        4.58724042e-01,  7.51334384e-01, -1.73165443e-02, -6.12257013e-01,\n",
       "        2.75055095e-01, -4.33829074e-01, -2.54290128e-02, -7.64767439e-03,\n",
       "       -2.09770026e-01, -1.95744810e-02,  3.68825225e-01,  1.89708159e-01,\n",
       "       -5.41345223e-02, -3.42119555e-01,  6.85718827e-02,  8.16367372e-01,\n",
       "       -3.02059302e-02,  9.21852403e-02,  1.06703620e+00,  2.88600107e-01,\n",
       "       -4.04476937e-01, -1.90340984e-01, -2.77623779e-01, -5.02351431e-01,\n",
       "        9.35464184e-01,  4.68594115e-02,  1.65707144e-01,  7.43389657e-01,\n",
       "        3.89931927e-01, -6.72251430e-01, -2.78596323e-01, -3.09889673e-01,\n",
       "       -5.37926185e-01, -7.62831554e-01, -6.31473241e-01,  4.94461795e-01,\n",
       "        8.52421372e-01, -8.56701413e-02,  1.04246998e+00, -6.32850540e-01,\n",
       "        8.52200105e-01,  4.12640084e-01,  1.61659827e-01, -5.95452751e-01,\n",
       "        7.58128591e-01, -4.90140288e-01,  7.94556753e-03, -2.26250950e-01,\n",
       "       -1.62186523e-01, -1.77994288e-01, -7.62809060e-02, -6.91578983e-01,\n",
       "       -1.35807975e-01, -1.50452418e-01,  3.60435342e-01, -1.40420468e-01,\n",
       "        1.84294685e-01,  1.28854963e-01, -1.32865143e-01, -5.94295766e-01,\n",
       "       -3.27775983e-01, -1.28234342e+00,  3.52177225e-01,  1.56415586e-01,\n",
       "        3.11613844e-01,  9.73834978e-02, -2.38429945e-01,  1.79035347e-01,\n",
       "        2.87214474e-01,  1.10281132e+00, -4.25228330e-01, -6.28712304e-01,\n",
       "       -4.29032869e-02, -4.46769830e-01, -9.00864095e-01, -8.62316825e-01,\n",
       "       -1.03221938e+00, -2.26109446e-02,  3.96045586e-01,  2.45409315e-01,\n",
       "       -1.25264865e-01,  5.35590296e-01,  2.50851869e-01,  1.71539488e-01,\n",
       "       -8.58732219e-01, -5.95935350e-01, -4.29926463e-01, -1.18280539e+00,\n",
       "        8.26415583e-01, -3.12925989e-01, -1.19269902e-01, -2.13614078e-01,\n",
       "        8.49488974e-02, -2.21975111e-01, -3.00653748e-01,  3.63967291e-01,\n",
       "        5.88692148e-01,  5.16387356e-01, -4.42901895e-01,  9.52661214e-01,\n",
       "        1.00680121e+00,  4.19009865e-01,  1.47933074e-02, -1.45450577e-01,\n",
       "       -9.43392346e-01,  9.40623693e-01,  5.93528346e-01, -7.41990340e-02,\n",
       "        1.82896014e-01,  9.33966916e-01,  3.77845251e-01, -1.48048959e-01,\n",
       "       -4.40367284e-01,  2.10415210e-01,  1.05885765e+00,  3.26139076e-01,\n",
       "        2.71453313e-01, -2.84058773e-01,  4.42765170e-02,  2.54484581e-01,\n",
       "        4.88579815e-01,  6.54410206e-02, -4.30297757e-02, -4.31291686e-01,\n",
       "        7.09148600e-01, -8.66295423e-02,  1.01649733e+00, -2.90518231e-01,\n",
       "       -1.46723040e-01,  4.35520639e-01, -5.58573847e-01, -6.23540691e-01,\n",
       "       -5.00444932e-02,  3.73080660e-01,  8.16477458e-02, -4.87716836e-01,\n",
       "        5.14390182e-01, -2.81109628e-01,  2.19257404e-01, -3.11789705e-02,\n",
       "       -4.38045295e-02,  4.06888171e-01,  2.38524454e-01, -3.01908887e-01,\n",
       "       -1.84744925e-01,  4.99453591e-01, -1.07059958e+00, -6.60631328e-01,\n",
       "        2.96558803e-01, -4.70269824e-01, -6.40859828e-01, -1.12065019e-01,\n",
       "        9.02586146e-01,  5.35473243e-01,  1.64735908e-01, -2.99661301e-01,\n",
       "       -6.28241411e-01,  5.42219352e-01,  1.84984657e-01, -6.06345522e-01,\n",
       "        1.61026800e-02, -4.39259004e-01,  1.23026306e-01, -2.20797729e-01,\n",
       "       -4.85532914e-01, -2.06130448e-01, -6.89213802e-02,  7.40082312e-02,\n",
       "        8.83863217e-02, -6.93481904e-01,  7.02248849e-02, -6.90394920e-01,\n",
       "       -6.10113358e-02,  3.85464417e-01, -3.01222525e-01,  2.40587712e-01,\n",
       "        1.89676299e-01, -2.41134042e-01, -7.15691891e-01,  1.71401495e-01,\n",
       "       -4.25479945e-01,  4.15527902e-01,  6.18570833e-01, -1.91247429e-01,\n",
       "       -1.07266082e-01, -1.83565579e-02,  7.53229336e-01, -2.99713060e-01,\n",
       "        7.93552419e-01, -4.03244756e-01,  2.27949781e-01,  5.47047625e-01,\n",
       "        1.61314870e-01, -1.92792422e-01, -6.10905314e-02,  3.26581431e-01,\n",
       "        5.58165700e-01,  2.40982106e-01,  1.62610094e-01,  7.04903844e-01,\n",
       "        1.30390401e-01, -2.35175004e-01, -5.92801255e-01,  1.92562100e-01,\n",
       "        7.58172502e-02, -2.25078155e-01,  9.41889794e-02,  6.72956476e-02,\n",
       "        4.02555228e-01, -5.56216227e-01,  5.67258712e-01,  6.37724136e-01,\n",
       "        7.58130768e-01, -1.16206839e-01, -1.28123144e-02, -4.94818962e-02,\n",
       "       -6.48932997e-02, -7.14933824e-01, -3.86808117e-02,  7.42254054e-02,\n",
       "       -1.66358000e+00,  3.37843318e-01, -5.98228715e-01,  6.78773160e-01,\n",
       "        2.85811782e-02,  2.37472038e-01, -1.11008134e+00, -2.93914122e-01,\n",
       "       -7.06170244e-01,  1.21039517e+00, -1.18937592e+00, -4.64693603e-01,\n",
       "        4.73225189e-01,  2.91726229e-01,  2.77516446e-01,  1.19263781e+00,\n",
       "       -5.75352173e-01,  9.24278499e-01,  4.33118930e-01, -8.58039707e-01,\n",
       "       -9.39302094e-02, -3.30037125e-01,  9.71011768e-01,  1.12374689e-03,\n",
       "       -1.75886838e-01,  2.24189822e-01, -4.83196475e-01, -2.92482438e-01,\n",
       "        2.00979501e-01, -5.63813690e-01, -9.64743687e-01,  2.79222030e-02,\n",
       "        7.90825024e-02,  1.31520180e-01,  1.35741795e-02,  5.08642310e-02,\n",
       "        2.02334953e-01,  5.85569422e-01, -1.24373540e+00,  8.25185000e-01,\n",
       "        5.21589317e-01, -2.71502641e-01, -1.66215831e-01,  2.63327985e-01,\n",
       "       -7.26581124e-01, -1.49260996e+00,  8.90559431e-02,  9.56371174e-02,\n",
       "        6.26985601e-02,  1.42260081e-01, -7.96803677e-03, -1.22447287e+00,\n",
       "       -3.40595974e-01,  4.52700784e-01,  4.30954252e-02,  1.86637016e+00,\n",
       "       -4.07332025e-01, -4.27246433e-01,  8.64524700e-02, -6.71284645e-01,\n",
       "       -9.61020543e-02,  7.01137513e-02, -6.20839708e-01,  3.40871672e-01,\n",
       "        4.44879980e-01, -8.93855244e-02,  2.02488175e-01, -6.77593196e-01,\n",
       "        9.22726447e-01,  3.73867820e-01,  4.04979903e-01,  4.26159123e-01,\n",
       "       -2.16719615e-01,  1.12691397e-01,  8.03339801e-01,  6.59612940e-01,\n",
       "        7.55032948e-01, -3.56466384e-01,  2.10281093e-01,  2.24313606e-01,\n",
       "       -2.49804237e-01, -1.63948154e-01,  7.89314205e-01,  2.75503757e-01,\n",
       "       -5.52914952e-01, -3.12667634e-01,  1.68919404e-01,  1.69186016e-01,\n",
       "        6.43574681e-01, -6.13395658e-01,  1.90643514e-01,  6.00789333e-01,\n",
       "        2.54490643e-01,  7.54841734e-01,  3.25477661e-01, -2.14819837e-01,\n",
       "       -9.10279037e-03,  1.17504652e-01,  2.45882251e-01,  6.61761250e-01,\n",
       "        4.31741824e-01, -1.32476670e+00,  1.01232901e+00, -2.30525776e-01,\n",
       "       -5.17030115e-03, -6.49797087e-02,  9.62565861e-01, -4.07698252e-01,\n",
       "       -6.60734629e-02, -6.19977498e-01, -9.68262326e-01, -5.82080510e-01,\n",
       "       -2.71851831e-01, -1.87717397e-01,  1.10008148e+00,  7.09631277e-01,\n",
       "        7.07653678e-01,  2.36149311e-01, -5.11847575e-02,  8.34523454e-02,\n",
       "       -6.37260320e-01,  9.60546036e-02,  2.30986250e-01,  5.36894638e-01,\n",
       "       -2.77730266e-01, -3.13682270e-01, -6.15901539e-02, -8.74208071e-01,\n",
       "       -1.53841945e-01, -6.18115087e-01,  1.17917168e-01, -6.31662120e-01,\n",
       "        4.49664428e-01, -1.03002104e-02,  1.78611891e-02, -2.33056554e-01,\n",
       "        4.44079775e-01, -3.79003692e-02,  3.54550182e-02, -9.73713754e-01,\n",
       "       -3.25016118e-01,  1.84858870e-01, -3.26617286e-02, -3.30878457e-01,\n",
       "       -2.75844899e-01,  5.22742861e-01,  6.36450159e-01,  3.69996723e-01,\n",
       "       -1.79128242e-01,  9.04987610e-01, -3.22417572e-01, -4.39380874e-01,\n",
       "       -6.83037640e-01,  9.96324518e-01,  8.93690186e-01, -1.02941842e+00,\n",
       "       -2.49701226e-01, -1.62815453e-01,  2.36040681e-01,  5.63997489e-01,\n",
       "        1.35989688e-02, -1.52859712e-01,  5.68731870e-01, -5.80029402e-02,\n",
       "        1.12913420e-01,  4.75041368e-01, -1.19568301e+00, -3.11416303e-01,\n",
       "        1.83129511e-01, -1.56387718e+00, -8.01742408e-01,  3.92719451e-01,\n",
       "       -2.72610104e-01, -5.58617574e-01,  1.21072557e+00,  7.78835560e-01,\n",
       "        1.47792466e-01,  5.72735958e-01,  9.28620938e-02,  1.15161637e+00,\n",
       "        5.10703293e-01, -8.74591133e-01,  3.55293718e-01, -1.83396148e-01,\n",
       "       -2.53844974e-01,  5.01651238e-01,  1.16656466e-02,  1.61376552e-01,\n",
       "        7.25836931e-01, -5.12945473e-01,  2.73671817e-01,  3.68260203e-01,\n",
       "       -5.47964075e-03,  2.60237310e-01,  1.18170484e-02,  3.81663763e-01,\n",
       "       -2.01979838e-01, -6.61070139e-01, -7.15244251e-01,  5.97064143e-01,\n",
       "        7.69170312e-01, -3.02421088e-01, -5.72838049e-01, -2.54530747e-01,\n",
       "       -1.87893947e-01, -5.06778439e-01, -8.37848023e-01, -3.12158276e-01,\n",
       "       -6.50820962e-01, -7.71799342e-01, -1.25923478e+00, -1.65114125e-01,\n",
       "       -1.32609204e-01, -6.80736063e-01,  1.52422184e-01, -5.07748501e-01,\n",
       "       -6.23303159e-01, -7.79531935e-01, -7.32999178e-02, -6.55002626e-01,\n",
       "        6.47746710e-02,  1.92447868e-02,  1.17802421e-01, -3.29950869e-01,\n",
       "        1.40691924e-03, -3.97183660e-01, -3.15959274e-02,  2.27839883e-01,\n",
       "        2.65866156e-01,  3.06086111e-01, -4.75238749e-01, -2.31876830e-01,\n",
       "        6.99416124e-01,  1.18517935e+00,  4.57363610e-02, -3.42777358e-01,\n",
       "       -2.04386978e-01, -5.37991678e-01, -5.36784294e-01, -9.03988511e-01,\n",
       "        6.37755868e-01, -8.85420579e-01,  2.11773199e-02,  1.94048331e-01,\n",
       "       -6.10529685e-01, -3.67451842e-01,  3.10060753e-01, -5.98053750e-01,\n",
       "       -1.24866071e-01, -3.93110006e-01,  6.96914950e-01, -2.62237386e-01,\n",
       "        3.01004720e-01,  1.38213347e+00, -3.29624456e-01, -6.14394041e-01,\n",
       "       -6.85350897e-02, -5.15783851e-01, -2.16998982e-01, -6.15664977e-02,\n",
       "        8.01613346e-02,  5.14997736e-01,  3.83691785e-02,  2.54962204e-01,\n",
       "       -5.10192094e-01,  2.05407721e-01, -5.61579403e-01, -8.46736755e-02,\n",
       "        3.62836905e-01,  6.23108152e-01, -3.74531319e-01,  9.76897180e-02,\n",
       "        2.44163335e-02, -3.57080733e-02,  9.81356148e-01,  4.01973630e-01,\n",
       "        1.36938356e+00,  4.41628046e-01, -3.85408146e-01,  2.79421123e-01,\n",
       "        5.62370153e-02,  1.55238540e-01,  1.75495378e-02,  7.73179912e-01,\n",
       "       -1.23439869e+00, -9.01572012e-02,  1.63498959e-01, -3.61640659e-01,\n",
       "       -1.97290576e-01,  4.28256631e-01, -9.87194506e-01, -6.92405057e-01,\n",
       "        1.25983485e+00,  7.15049720e-01, -1.83883364e-01, -4.02906948e-01,\n",
       "       -1.76755714e-02,  4.93047452e-01, -2.50513065e-01,  4.89649858e-01,\n",
       "       -5.80570431e-01, -1.54262268e-01,  5.40706418e-01,  8.68769463e-02,\n",
       "        5.10225049e-01,  5.54859808e-01,  4.20280118e-01,  6.93663900e-01,\n",
       "       -6.18529705e-01,  6.89174142e-01,  1.79898382e-01, -1.39413374e-01,\n",
       "        1.91223632e-01, -8.52646910e-01,  9.32925663e-01,  1.78685595e-02,\n",
       "       -7.74429813e-01, -3.31081703e-02, -3.61956970e-01, -1.19149087e+00,\n",
       "        4.99535755e-01, -6.33683309e-01,  1.59080407e-01, -2.92276617e-01,\n",
       "        5.13144719e-01,  6.03138444e-02, -2.97964016e-01, -7.52526869e-01,\n",
       "        4.83261740e-01, -1.50965125e-01, -1.02487412e+00, -6.94372303e-01,\n",
       "       -4.55585731e-01,  1.08251762e+00,  7.56630320e-01, -7.32088239e-01,\n",
       "       -4.51239156e-02,  1.16041195e-01,  2.33510022e-01,  5.10942812e-02,\n",
       "        1.52555021e+00, -2.55754537e-02, -7.59788466e-01, -4.48404355e-02,\n",
       "       -4.15469474e-01,  8.81979488e-01,  3.39001545e-02,  2.71423262e-01,\n",
       "       -1.58372340e+00,  2.88351530e-01,  1.39188508e+00,  7.88190914e-01,\n",
       "        1.72480913e-01,  8.27183457e-01,  2.29553657e-02, -1.47754494e+00,\n",
       "        3.65902416e-02,  3.07281857e-01,  9.40255367e-01, -1.03831036e-01,\n",
       "       -7.81444288e-02,  1.74751757e-01, -3.44575471e-01,  8.17709020e-02,\n",
       "       -8.83934646e-02, -5.48513926e-01, -7.37170607e-01,  5.10564396e-02,\n",
       "       -6.06248059e-01, -4.04501025e-01,  1.43700902e-01, -2.03198237e-01,\n",
       "       -6.05765918e-01,  2.07332643e-01, -8.90520588e-01,  4.74011133e-01,\n",
       "       -3.04863220e-02, -2.06762305e-01,  2.27820760e-01, -1.19581306e+00,\n",
       "        3.62505599e-01,  6.39920610e-01,  1.79965559e-01, -2.42532748e-01,\n",
       "        9.52767217e-02,  9.08730976e-01,  3.96331185e-02,  5.31937697e-02,\n",
       "        5.19296207e-01, -2.07685157e-01, -8.25130253e-01,  5.66126410e-01,\n",
       "        8.18429677e-01, -1.70282218e-01, -4.66162373e-01,  4.02620536e-01,\n",
       "        1.86484466e-01, -3.43127526e-01,  6.20875317e-01,  3.05042841e-01,\n",
       "        2.28343717e-01,  9.13723293e-01, -3.56325897e-01, -6.25470553e-01,\n",
       "       -1.79478276e-01, -4.69218549e-02, -6.82600887e-01,  1.16165085e+00,\n",
       "        4.09647970e-01,  2.66022884e-01,  1.85568272e-01,  4.06163014e-01,\n",
       "        1.23218421e+00,  1.36163406e-01, -5.86761466e-01, -3.37715602e-01,\n",
       "        3.82881059e-02,  4.47257091e-01,  1.18774858e-01,  3.96798122e-01,\n",
       "        6.11220655e-02, -5.75319777e-01, -4.73822254e-01,  1.40139569e-01,\n",
       "        2.97597456e-02, -7.31254087e-01, -4.32922767e-01,  3.22967742e-01,\n",
       "       -6.78938162e-01, -6.27239077e-01, -7.38262601e-01,  7.77122799e-01,\n",
       "        7.43433244e-01, -9.55092821e-02,  4.53809706e-01,  9.01915732e-01,\n",
       "        6.53091100e-02, -7.01354068e-01, -1.04013170e-01,  3.34729909e-01,\n",
       "        3.10043809e-01, -7.56879260e-01, -1.89478516e+00,  6.61201262e-01,\n",
       "        6.03137821e-01, -4.17538815e-01, -1.25172961e+00, -1.11276082e-01,\n",
       "       -1.20455736e+00,  3.22676402e-01, -1.12765341e-01,  4.45091826e-02,\n",
       "        5.59643595e-01,  3.72962992e-01,  1.47406150e-01, -5.57907993e-01,\n",
       "       -5.76451751e-02,  1.07789503e+00, -8.92676338e-01,  6.81767869e-02,\n",
       "       -3.68678984e-01,  6.00177716e-01, -9.14992585e-01,  6.84372715e-02,\n",
       "       -7.12951614e-01, -5.14264500e-01, -4.45090447e-01,  1.18187278e+00,\n",
       "        8.13088453e-01,  6.41603869e-01,  1.78604333e-01, -5.75173827e-02,\n",
       "        8.00319783e-01, -3.48295113e-01, -1.41377613e-01, -2.01231978e-02,\n",
       "       -4.16445562e-01, -1.47825398e-01,  3.88268410e-02, -4.04738560e-01,\n",
       "        6.42911407e-01,  2.76217761e-02, -4.19300229e-01,  8.71962470e-01,\n",
       "       -3.11391155e-01,  5.13841651e-01, -7.57029576e-01,  2.67310776e-01,\n",
       "       -2.34365179e-01,  3.86988848e-01, -3.62316299e-01, -4.02954464e-01,\n",
       "       -9.15035206e-01, -4.45553393e-01, -1.76028912e+00,  1.80206789e-01,\n",
       "        6.64020179e-01, -3.14664425e-01, -6.38806938e-01,  1.85390120e-01,\n",
       "        2.45909050e-02,  8.13268386e-02,  1.62641448e-01, -9.40657815e-01,\n",
       "       -3.04305288e-01, -7.00066332e-01,  3.59857666e-01, -1.21767133e+00,\n",
       "        2.67415155e-01, -1.26646827e-01, -8.51249440e-02, -1.73036900e-01,\n",
       "        4.53758166e-01,  6.32254700e-02,  1.55712745e+00, -2.48006356e-01,\n",
       "        3.53603279e-01,  1.21398152e+00,  1.02919736e+00, -3.65068551e-01,\n",
       "        4.79668171e-01,  2.66615127e-03,  6.79526938e-01,  4.16890162e-01,\n",
       "        1.02448010e-01, -3.34616418e-01, -1.03624513e+00, -2.39991009e-01,\n",
       "       -1.56978059e-01,  1.76960557e-01,  1.93669708e-01,  3.89279580e-01,\n",
       "       -9.56180252e-01,  5.29274135e-02, -5.34328159e-01,  2.00256388e-01,\n",
       "       -3.72300147e-01,  1.13659305e+00,  3.75086801e-01, -7.61663262e-02,\n",
       "        1.07076612e-01,  2.59274475e-01,  5.87253289e-01,  1.96079740e-01,\n",
       "        5.59992783e-01, -1.89621831e-01,  1.23900937e-01, -4.03500012e-01,\n",
       "       -7.06868338e-01,  6.60662364e-01, -1.37027132e+00, -6.47292892e-02,\n",
       "        3.58389972e-01, -3.07120955e-01,  5.77181078e-01, -2.36395989e-01,\n",
       "       -1.32320939e-01, -6.84930423e-01,  1.94642958e-01,  8.06799671e-01,\n",
       "        4.46837175e-01,  3.47106869e-01,  3.92636172e-01,  9.10360968e-02,\n",
       "        1.07680581e+00,  8.43541190e-01, -1.18345515e+00,  1.43793074e-01,\n",
       "        2.17126947e-01,  4.79032631e-02,  1.03698605e-01, -1.98168741e-01,\n",
       "        8.05610817e-03, -3.44616095e-02,  1.03777906e-01, -3.98223126e-02,\n",
       "       -4.82341663e-01,  2.48784037e-01,  8.33964629e-02,  6.22726293e-01,\n",
       "       -5.34299606e-01,  2.83531009e-01,  6.85592027e-01,  9.40397595e-01,\n",
       "       -4.55331464e-01,  1.05903814e-03,  9.16476985e-01, -3.06861086e-01,\n",
       "        5.23939201e-02,  6.33361263e-01,  8.04936551e-01, -9.59660137e-01,\n",
       "       -1.47119118e-01, -7.94140564e-01,  4.11564982e-01, -5.71456565e-01,\n",
       "        7.84229338e-01,  5.62068104e-01, -9.88979934e-01, -3.80859706e-01,\n",
       "        3.22736181e-01, -1.10408704e-01,  4.06527612e-01, -6.00073275e-01,\n",
       "       -3.42190452e-02, -4.68076702e-01,  4.15969396e-01,  4.78511000e-01,\n",
       "        2.60328124e-02,  7.23964801e-01, -3.48682558e-01,  2.72337203e-01,\n",
       "        1.19185594e-01,  3.48265223e-01,  1.51919496e-02, -8.14738966e-02,\n",
       "       -5.52814289e-01, -4.05797648e-01,  1.55382041e-01,  9.47759819e-01,\n",
       "        9.16994695e-01,  3.51049765e-01, -3.16005677e-01, -6.43430677e-01,\n",
       "        5.10701426e-01,  4.22567491e-01,  5.49123643e-01, -5.76205357e-01,\n",
       "       -5.87076142e-01,  1.89825544e-01,  4.47254163e-01,  7.78543554e-01,\n",
       "        4.01619998e-01,  2.80796696e-01,  1.65734258e+00,  5.97355359e-01,\n",
       "       -4.03085929e-01,  3.80347959e-02,  1.31063334e-01,  1.33611065e-01,\n",
       "        1.00054250e+00,  6.83495263e-01, -9.16694877e-02, -6.72720926e-02,\n",
       "       -7.65322344e-01, -1.91170812e-01, -1.24740067e+00,  7.73217362e-01,\n",
       "        6.51268461e-01,  4.61600792e-01, -8.69081826e-02, -3.07926516e-01,\n",
       "        7.03495354e-01,  2.37359969e-02,  5.65250905e-01,  5.95146470e-01,\n",
       "       -9.12678045e-01,  5.02255935e-01,  6.00287367e-02, -6.19900428e-01,\n",
       "        3.91596882e-01,  4.83815314e-01, -5.14170038e-01, -2.71545744e-01,\n",
       "        4.78505215e-02,  6.28983631e-01, -4.95995744e-01, -2.97128346e-02,\n",
       "        7.15600472e-01,  1.44801860e-01,  2.70916683e-01, -6.33532864e-01,\n",
       "       -1.52568947e-01, -8.55956090e-02,  1.11987480e-01, -5.93831078e-01,\n",
       "        9.97811502e-01, -1.74968176e-01, -3.38618934e-01, -1.55117568e-01,\n",
       "       -3.97992811e-01,  7.87390369e-02,  1.49343818e+00, -2.37773513e-01,\n",
       "       -6.59858768e-01, -3.49138488e-01, -9.13455071e-01, -2.71778884e-01,\n",
       "        7.44562316e-01,  2.10974724e-01, -8.91800531e-01, -3.56166378e-01,\n",
       "       -3.35822692e-01, -1.28691518e-01,  7.70986276e-02, -7.31159514e-01,\n",
       "        1.08381671e-01, -7.86596474e-01, -7.01887697e-01,  6.44018136e-01,\n",
       "       -2.28572814e-01, -1.99959424e-01,  3.12177454e-01, -6.32826476e-02,\n",
       "       -3.16508365e-01,  8.45679985e-03,  3.91196592e-01,  2.41574406e-03,\n",
       "       -3.60361591e-02,  6.67190641e-02,  2.56254700e-01, -2.67690872e-02,\n",
       "        1.22688906e-01, -4.99256845e-01, -2.61238990e-01,  4.62325119e-01,\n",
       "       -1.39863334e+00, -4.24470623e-01,  9.41993636e-01, -1.56774599e-02,\n",
       "        1.22110016e+00, -9.34465142e-01, -7.42571863e-01, -7.82106333e-01,\n",
       "        1.46017475e-01, -1.22725582e-01,  3.53937262e-01,  5.27945021e-01,\n",
       "       -4.84388735e-01, -1.19649714e-01,  1.62759778e-01, -8.09646651e-01,\n",
       "       -4.33249049e-01, -2.44600399e-01,  1.02545250e-01,  1.59925350e-01,\n",
       "        1.17504275e+00,  1.50028842e-01,  6.62354088e-01, -1.30371235e-01])"
      ]
     },
     "execution_count": 21,
     "metadata": {},
     "output_type": "execute_result"
    }
   ],
   "source": [
    "mu, kappa = 0.0, 4.0 # mean and dispersion\n",
    "s = np.random.vonmises(mu, kappa, 1000)\n",
    "s # Display array"
   ]
  },
  {
   "cell_type": "code",
   "execution_count": 22,
   "metadata": {},
   "outputs": [
    {
     "data": {
      "image/png": "[encoded data removed]",
      "text/plain": [
       "<Figure size 432x288 with 1 Axes>"
      ]
     },
     "metadata": {
      "needs_background": "light"
     },
     "output_type": "display_data"
    }
   ],
   "source": [
    "from scipy.special import i0 # import module\n",
    "# Plot histogram from von meises data\n",
    "plt.hist(s, 50, density=True)\n",
    "\n",
    "# create probability density function and plot with histogram\n",
    "x = np.linspace(-np.pi, np.pi, num=51) # np.linspaace command explained [15]\n",
    "y = np.exp(kappa*np.cos(x-mu))/(2*np.pi*i0(kappa))  \n",
    "plt.plot(x, y, linewidth=2, color='r')  # plot line\n",
    "plt.show()"
   ]
  },
  {
   "cell_type": "markdown",
   "metadata": {},
   "source": [
    "Above is an example of data graphed using the vonmeises distribution. [16]\n",
    "\n",
    "https://en.wikipedia.org/wiki/Von_Mises_distribution\n",
    "\n",
    "---------------"
   ]
  },
  {
   "cell_type": "markdown",
   "metadata": {},
   "source": [
    "* ### Distribution 2: binomial\n",
    "\n",
    "**Generator.binomial(n, p, size=None)**\n",
    " \n",
    "Creates a sample from a binomial distributon. The specific paramaters are; n, the number of trialls, and  p, the probability of sucess. \n",
    "\n",
    "\"A binomial distribution can be thought of as simply the probability of a SUCCESS or FAILURE outcome in an experiment or survey that is repeated multiple times.\" [18] It is a type of distribution that has two possible outcomes. e.g coin toss - heads or tails. \n",
    "\n",
    "* Parameters \n",
    "    * n: trialls - paramater of the distribution greater than or equal to zero.\n",
    "    * p: probability of success, in the interval [1,0]\n",
    "    * size: output shape\n",
    "\n",
    "* Returns\n",
    "    * out: ndarray or scalar - Drawn samples from the parameterized binomial distribution, where each sample is equal to the number of successes over the n trials.\n",
    "    \n",
    "Note: for more information on this function see numpy documentation. [17]\n",
    "\n",
    "Examples"
   ]
  },
  {
   "cell_type": "code",
   "execution_count": 23,
   "metadata": {
    "scrolled": true
   },
   "outputs": [
    {
     "data": {
      "text/plain": [
       "array([6, 6, 4, ..., 4, 4, 5], dtype=int64)"
      ]
     },
     "execution_count": 23,
     "metadata": {},
     "output_type": "execute_result"
    }
   ],
   "source": [
    "rng = np.random.default_rng()\n",
    "n, p = 10, .5  # number of trials, probability of each trial\n",
    "s = rng.binomial(n, p, 10000)\n",
    "# result of flipping a coin 10 times, tested 10000 times.\n",
    "s\n",
    "# plt.hist(s, bins=10, range=None, rwidth=None, color=None, label=\"tEST\")\n"
   ]
  },
  {
   "cell_type": "code",
   "execution_count": 24,
   "metadata": {},
   "outputs": [
    {
     "data": {
      "text/plain": [
       "(array([   6.,  101.,  445., 1148., 2034., 2455., 2115., 1143.,  419.,\n",
       "         134.]),\n",
       " array([ 0.,  1.,  2.,  3.,  4.,  5.,  6.,  7.,  8.,  9., 10.]),\n",
       " <a list of 10 Patch objects>)"
      ]
     },
     "execution_count": 24,
     "metadata": {},
     "output_type": "execute_result"
    },
    {
     "data": {
      "image/png": "[encoded data removed]",
      "text/plain": [
       "<Figure size 432x288 with 1 Axes>"
      ]
     },
     "metadata": {
      "needs_background": "light"
     },
     "output_type": "display_data"
    }
   ],
   "source": [
    "plt.hist(s, bins=10, range=None, rwidth=None, color=None, label=\"tEST\")\n",
    "\n",
    "# matplotlib.pyplot.hist(x, bins=2 range=None, rwidth=None, color=None, label=tEST)"
   ]
  },
  {
   "cell_type": "markdown",
   "metadata": {},
   "source": [
    "The above graph plots the number of successful trialls against the number of trialls totally. It shows that the distribution is normally distributed when the probability is 0.5. \n",
    "\n",
    "There are many real word instances of binomial distributions. e.g drug trial - it works or doesnt, lottery ticket - you win or dont. It can be used to predict any situation in which success or failure are an option. \n",
    "\n",
    "---------------"
   ]
  },
  {
   "cell_type": "markdown",
   "metadata": {},
   "source": [
    "* ### Distribution 3: Uniform\n",
    "\n",
    "**Generator.uniform(low=0.0, high=1.0, size=None)**\n",
    "\n",
    "Draws a sample of a iniform distribution. Any value within the given interval is equally likely to be drawn. \n",
    "\n",
    "A uniform distribution is a probability distribution that has constant probability. [20]\n",
    "\n",
    "* Parameters \n",
    "    * low: lower boundary. values will be greater than or equal to. \n",
    "    * high: upper boundary. values will be less than. \n",
    "    * size: output shape\n",
    "\n",
    "* Returns\n",
    "    * out: ndarray or scalar - Drawn samples from the parameterized uniform distribution\n",
    "    \n",
    "Note: for more information on this function see numpy documentation. [19]\n",
    "\n",
    "Examples"
   ]
  },
  {
   "cell_type": "code",
   "execution_count": 25,
   "metadata": {},
   "outputs": [
    {
     "data": {
      "text/plain": [
       "(array([13.,  8., 10.,  8.,  6., 18., 12., 13.,  4.,  8.]),\n",
       " array([ 1. , 10.8, 20.6, 30.4, 40.2, 50. , 59.8, 69.6, 79.4, 89.2, 99. ]),\n",
       " <a list of 10 Patch objects>)"
      ]
     },
     "execution_count": 25,
     "metadata": {},
     "output_type": "execute_result"
    },
    {
     "data": {
      "image/png": "[encoded data removed]",
      "text/plain": [
       "<Figure size 432x288 with 1 Axes>"
      ]
     },
     "metadata": {
      "needs_background": "light"
     },
     "output_type": "display_data"
    }
   ],
   "source": [
    "# set size = 100\n",
    "x = rng.integers(100, size=100)\n",
    "plt.hist(x)"
   ]
  },
  {
   "cell_type": "code",
   "execution_count": 26,
   "metadata": {
    "scrolled": true
   },
   "outputs": [
    {
     "data": {
      "text/plain": [
       "(array([ 9954.,  9984., 10082.,  9996.,  9783., 10025., 10038.,  9993.,\n",
       "         9927., 10218.]),\n",
       " array([ 0. ,  9.9, 19.8, 29.7, 39.6, 49.5, 59.4, 69.3, 79.2, 89.1, 99. ]),\n",
       " <a list of 10 Patch objects>)"
      ]
     },
     "execution_count": 26,
     "metadata": {},
     "output_type": "execute_result"
    },
    {
     "data": {
      "image/png": "[encoded data removed]",
      "text/plain": [
       "<Figure size 432x288 with 1 Axes>"
      ]
     },
     "metadata": {
      "needs_background": "light"
     },
     "output_type": "display_data"
    }
   ],
   "source": [
    "# set size = 100000\n",
    "x = rng.integers(100, size=100000)\n",
    "plt.hist(x)"
   ]
  },
  {
   "cell_type": "markdown",
   "metadata": {},
   "source": [
    "The first plot shows 100 numbers drawn from 1 - 100. It is not immidiatly apparent that this is a uniofrm samle. Plotting 100,000 numbers gives us a better understanding of the uniform distribution. \n",
    "\n",
    "This is generally the distribution expected from a computer when a random generated number is needed. So the number 4 is as likely to come out as the number 10,000 etc. It will generate all numbers with the same probability.\n",
    "\n",
    "-------------"
   ]
  },
  {
   "cell_type": "markdown",
   "metadata": {},
   "source": [
    "* ### Distribution 4: normal\n",
    "\n",
    "**numpy.random.normal(loc=0.0, scale=1.0, size=None)**\n",
    "\n",
    "Draw random samples from a normal (Gaussian) distribution.\n",
    "\n",
    "\"The normal distribution is the most important probability distribution in statistics because it fits many natural phenomena. For example, heights, blood pressure, measurement error, and IQ scores follow the normal distribution. It is also known as the Gaussian distribution and the bell curve.\" [22]\n",
    "\n",
    "It is a symmetric distribution where most of the observations cluster around the central peak and the probabilities for values further away from the mean taper off equally in both directions. Extreme values in both tails of the distribution are similarly unlikely.\n",
    "\n",
    "\n",
    "* Parameters \n",
    "    * loc: mean of the distribution\n",
    "    * scale: standard deviation of the distribution\n",
    "    * size: output shape\n",
    "    \n",
    "* Returns\n",
    "    * out: ndarray or scalar - Drawn samples from the parameterized normal distribution\n",
    "    \n",
    "Note: for more information on this function see numpy documentation. [21]\n",
    "\n",
    "Examples"
   ]
  },
  {
   "cell_type": "code",
   "execution_count": 27,
   "metadata": {},
   "outputs": [],
   "source": [
    " # Students heights - centerd around middle. distribouts towards each side. "
   ]
  },
  {
   "cell_type": "code",
   "execution_count": 28,
   "metadata": {},
   "outputs": [
    {
     "data": {
      "text/plain": [
       "(array([  1.,  20.,  48., 132., 240., 252., 172., 101.,  22.,  12.]),\n",
       " array([-0.31776145, -0.25639257, -0.1950237 , -0.13365482, -0.07228595,\n",
       "        -0.01091708,  0.0504518 ,  0.11182067,  0.17318955,  0.23455842,\n",
       "         0.2959273 ]),\n",
       " <a list of 10 Patch objects>)"
      ]
     },
     "execution_count": 28,
     "metadata": {},
     "output_type": "execute_result"
    },
    {
     "data": {
      "image/png": "[encoded data removed]",
      "text/plain": [
       "<Figure size 432x288 with 1 Axes>"
      ]
     },
     "metadata": {
      "needs_background": "light"
     },
     "output_type": "display_data"
    }
   ],
   "source": [
    "mu, sigma = 0, 0.1 # mean and standard deviation\n",
    "s = np.random.normal(mu, sigma, 1000)\n",
    "plt.hist(s)"
   ]
  },
  {
   "cell_type": "code",
   "execution_count": 29,
   "metadata": {},
   "outputs": [
    {
     "data": {
      "image/png": "[encoded data removed]",
      "text/plain": [
       "<Figure size 432x288 with 1 Axes>"
      ]
     },
     "metadata": {
      "needs_background": "light"
     },
     "output_type": "display_data"
    }
   ],
   "source": [
    "# Probability density function plotted\n",
    "\n",
    "count, bins, ignored = plt.hist(s, 30, density=True)\n",
    "plt.plot(bins, 1/(sigma * np.sqrt(2 * np.pi)) *\n",
    "               np.exp( - (bins - mu)**2 / (2 * sigma**2) ),\n",
    "         linewidth=2, color='r')\n",
    "plt.show()"
   ]
  },
  {
   "cell_type": "markdown",
   "metadata": {},
   "source": [
    "This allows us to match the probability expected with real world data. eg. class heights. etc. \n",
    "\n",
    "----------------"
   ]
  },
  {
   "cell_type": "markdown",
   "metadata": {},
   "source": [
    "* ### Distribution 5: chisquare\n",
    "\n",
    "**Generator.chisquare(df, size=None)**\n",
    "\n",
    "Draw samples from a chi-square distribution.\n",
    "\n",
    "In probability theory and statistics, the chi-square distribution with df degrees of freedom is the distribution of a sum of the squares of df independent standard normal random variables. The chi-square distribution is a special case of the gamma distribution and is one of the most widely used probability distributions in inferential statistics, notably in hypothesis testing and in construction of confidence intervals.[25]\n",
    "\n",
    "\n",
    "* Parameters \n",
    "    * df: number of degrees of freedom\n",
    "    * size: output shape\n",
    "    \n",
    "* Returns\n",
    "    * out: ndarray or scalar - Drawn samples from the parameterized chi-square distribution.\n",
    "    \n",
    "Note: for more information on this function see numpy documentation. [21]\n",
    "\n",
    "Examples"
   ]
  },
  {
   "cell_type": "code",
   "execution_count": 30,
   "metadata": {},
   "outputs": [
    {
     "data": {
      "text/plain": [
       "array([[0.03346244, 0.97115334, 2.6581522 ],\n",
       "       [2.35600704, 1.16855869, 0.04853393]])"
      ]
     },
     "execution_count": 30,
     "metadata": {},
     "output_type": "execute_result"
    }
   ],
   "source": [
    "# Draw out a sample for chi squared distribution with degree of freedom 2 with size 2x3 \n",
    "x = np.random.chisquare(df=2, size=(2, 3))\n",
    "x"
   ]
  },
  {
   "cell_type": "code",
   "execution_count": 31,
   "metadata": {},
   "outputs": [
    {
     "data": {
      "image/png": "[encoded data removed]",
      "text/plain": [
       "<Figure size 432x288 with 1 Axes>"
      ]
     },
     "metadata": {
      "needs_background": "light"
     },
     "output_type": "display_data"
    }
   ],
   "source": [
    "# plot visualisaton of chisquare with 1 degree of freedom\n",
    "x = np.random.default_rng().chisquare(1,1000)\n",
    "sns.distplot(x)\n",
    "plt.show()"
   ]
  },
  {
   "cell_type": "code",
   "execution_count": 32,
   "metadata": {},
   "outputs": [
    {
     "data": {
      "image/png": "[encoded data removed]",
      "text/plain": [
       "<Figure size 432x288 with 1 Axes>"
      ]
     },
     "metadata": {
      "needs_background": "light"
     },
     "output_type": "display_data"
    }
   ],
   "source": [
    "# plot visualisaton of chisquare with 5 degree of freedom\n",
    "x = np.random.default_rng().chisquare(5,1000)\n",
    "sns.distplot(x)\n",
    "plt.show()"
   ]
  },
  {
   "cell_type": "code",
   "execution_count": 33,
   "metadata": {},
   "outputs": [
    {
     "data": {
      "image/png": "[encoded data removed]",
      "text/plain": [
       "<Figure size 432x288 with 1 Axes>"
      ]
     },
     "metadata": {
      "needs_background": "light"
     },
     "output_type": "display_data"
    }
   ],
   "source": [
    "# plot visualisaton of chisquare with 10 degree of freedom\n",
    "x = np.random.default_rng().chisquare(10,1000)\n",
    "sns.distplot(x)\n",
    "plt.show()"
   ]
  },
  {
   "cell_type": "markdown",
   "metadata": {},
   "source": [
    "The above three plots show teh difference in 1, 5 and 10 degrees of freedom. The chi-square distribution is typically used to develop hypothesis tests and confidence intervals. In a testing context, the chi-square distribution is treated as a \"standardized distribution\" [24]\n",
    "\n",
    "------------"
   ]
  },
  {
   "cell_type": "markdown",
   "metadata": {},
   "source": [
    "## Section 4. Explain the use of seeds in generating pseudorandom numbers.\n",
    "\n",
    "------------\n"
   ]
  },
  {
   "cell_type": "markdown",
   "metadata": {},
   "source": [
    "### What is a Random Seed?\n",
    "\n",
    "A random seed specifies the start point when a computer generates a random number sequence. This can be any number, but it usually comes from seconds on a computer system’s clock (Henkemans & Lee, 2001). [27] It takes the time in unix time which is the time stated in seconds after 1-1-1970. This gives a large range for seeds (0 to 1+ billion). It pretty much ensures that you don’t get the same random seed that is used twice — unless you want to. You can convert any time to this format using a epoch converter [29]\n",
    "\n",
    "Computers don’t generate truly random numbers, they are deterministic, which means that they operate by a set of rules. You can mimic randomness by specifying a set of rules. [28] It allows you to simulate a situation and repead the simulation exactly using the starting seed. \n",
    "\n",
    "-----------\n"
   ]
  },
  {
   "cell_type": "markdown",
   "metadata": {},
   "source": [
    "### Setting a seed\n",
    "\n",
    "**numpy.random.seed**\n",
    "\n",
    "This is a convenience, legacy function.\n",
    "\n",
    "The best practice is to not reseed a BitGenerator, rather to recreate a new one. This method is here for legacy reasons. This example demonstrates best practice.\n",
    "    \n",
    "Note: for more information on this function see numpy documentation. [26]\n",
    "\n",
    "Examples"
   ]
  },
  {
   "cell_type": "code",
   "execution_count": 34,
   "metadata": {},
   "outputs": [
    {
     "data": {
      "text/plain": [
       "array([7, 9, 6, 3, 8])"
      ]
     },
     "execution_count": 34,
     "metadata": {},
     "output_type": "execute_result"
    }
   ],
   "source": [
    "from numpy.random import MT19937\n",
    "from numpy.random import RandomState, SeedSequence\n",
    "rs = RandomState(MT19937(SeedSequence(123456789)))\n",
    "np.random.randint(10,size=5)"
   ]
  },
  {
   "cell_type": "code",
   "execution_count": 35,
   "metadata": {},
   "outputs": [
    {
     "data": {
      "text/plain": [
       "array([7, 5, 5, 7, 4])"
      ]
     },
     "execution_count": 35,
     "metadata": {},
     "output_type": "execute_result"
    }
   ],
   "source": [
    "# Restarts the stream\n",
    "rs = RandomState(MT19937(SeedSequence(123456789)))\n",
    "np.random.randint(10,size=5)"
   ]
  },
  {
   "cell_type": "markdown",
   "metadata": {},
   "source": [
    "**Mersenne Twister**\n",
    "\n",
    "The above two examples show setting the seed using MT19937 aka the Mersenne Twister.  \n",
    "\n",
    "The Mersenne Twister is a pseudorandom number generator (PRNG). It is by far the most widely used general-purpose PRNG. Its name derives from the fact that its period length is chosen to be a Mersenne prime. [30] In mathematics, a Mersenne prime is a prime number that is one less than a power of two.\n"
   ]
  },
  {
   "cell_type": "code",
   "execution_count": 36,
   "metadata": {},
   "outputs": [
    {
     "data": {
      "text/plain": [
       "array([1, 6, 7, 9, 8])"
      ]
     },
     "execution_count": 36,
     "metadata": {},
     "output_type": "execute_result"
    }
   ],
   "source": [
    "np.random.seed(101) # set seed\n",
    "np.random.randint(10,size=5)"
   ]
  },
  {
   "cell_type": "markdown",
   "metadata": {},
   "source": [
    "Setting the seed to 101 allows us to get the same results repeatedly. "
   ]
  },
  {
   "cell_type": "code",
   "execution_count": 37,
   "metadata": {},
   "outputs": [
    {
     "data": {
      "text/plain": [
       "array([4, 8, 5, 0, 5])"
      ]
     },
     "execution_count": 37,
     "metadata": {},
     "output_type": "execute_result"
    }
   ],
   "source": [
    "np.random.randint(10,size=5) # no seed"
   ]
  },
  {
   "cell_type": "code",
   "execution_count": 38,
   "metadata": {},
   "outputs": [
    {
     "data": {
      "text/plain": [
       "array([1, 6, 7, 9, 8])"
      ]
     },
     "execution_count": 38,
     "metadata": {},
     "output_type": "execute_result"
    }
   ],
   "source": [
    "np.random.seed(101)\n",
    "np.random.randint(10,size=5)\n"
   ]
  },
  {
   "cell_type": "markdown",
   "metadata": {},
   "source": [
    "The two examples above show how without the seed the random numbers returned are different each time. However when we reset the seed at 101 like before it returns the same values. \n",
    "\n",
    "----------------"
   ]
  },
  {
   "cell_type": "markdown",
   "metadata": {},
   "source": [
    "**class numpy.random.BitGenerator(seed=None)**\n",
    "\n",
    "Base Class for generic BitGenerators, which provide a stream of random bits based on different algorithms. Must be overridden.\n",
    "\n",
    "* Parameters \n",
    "    * seed: A seed to initialize the BitGenerator. If None, then fresh, unpredictable entropy will be pulled from the OS. If an int or array_like[ints] is passed, then it will be passed to ~`numpy.random.SeedSequence` to derive the initial BitGenerator state. One may also pass in a SeedSequence instance.\n",
    "\n",
    "* Attributes\n",
    "    * lock: Lock instance that is shared so that the same BitGenerator can be used in multiple Generators without corrupting the state. Code that generates values from a bit generator should hold the bit generator’s lock.\n",
    "    \n",
    "Note: for more information on this function see numpy documentation. [31]\n",
    "\n",
    "-----------"
   ]
  },
  {
   "cell_type": "markdown",
   "metadata": {},
   "source": [
    "### Supported BitGenerators \n",
    "\n",
    "The above command allows us to set which bit generator we wish to use. There are various available bitgenerators each with pro's and con's. \n",
    "\n",
    "The included generators in numpy are:\n",
    "\n",
    "* PCG-64: The default. A fast generator that supports many parallel streams and can be advanced by an arbitrary amount. [33]\n",
    "* MT19937 - The standard Python BitGenerator. [30]\n",
    "* Philox - A counter-based generator capable of being advanced an arbitrary number of steps or generating independent streams. [34]\n",
    "* SFC64 - A fast generator based on random invertible mappings. Usually the fastest generator of the four. [35]\n"
   ]
  },
  {
   "cell_type": "markdown",
   "metadata": {},
   "source": [
    "## References\n",
    "----------"
   ]
  },
  {
   "cell_type": "markdown",
   "metadata": {},
   "source": [
    "[1] https://numpy.org/doc/stable/reference/random/index.html\n",
    "\n",
    "[2] https://www.w3schools.com/python/numpy_random.asp\n",
    "\n",
    "[3] https://realpython.com/python-random/\n",
    "\n",
    "[4] https://numpy.org/doc/stable/reference/random/generator.html#numpy.random.Generator\n",
    "\n",
    "[5] https://numpy.org/doc/stable/reference/random/generated/numpy.random.rand.html#numpy.random.rand\n",
    "\n",
    "[6] https://numpy.org/doc/stable/reference/random/generated/numpy.random.Generator.integers.html#numpy.random.Generator.integers\n",
    "\n",
    "[7] https://numpy.org/doc/stable/reference/random/generated/numpy.random.Generator.choice.html#numpy.random.Generator.choice\n",
    "\n",
    "[8] https://numpy.org/doc/stable/reference/random/generated/numpy.random.Generator.bytes.html#numpy.random.Generator.bytes\n",
    "\n",
    "[9] https://numpy.org/doc/stable/reference/random/generated/numpy.random.Generator.shuffle.html#numpy.random.Generator.shuffle\n",
    "\n",
    "[10] https://numpy.org/doc/stable/reference/random/generated/numpy.random.Generator.permutation.html#numpy.random.Generator.permutation\n",
    "\n",
    "[11] https://en.wikipedia.org/wiki/Permutation\n",
    "\n",
    "[12] https://en.wikipedia.org/wiki/Rubik%27s_Cube#Permutations\n",
    "\n",
    "[13] https://numpy.org/doc/stable/reference/random/generated/numpy.random.vonmises.html#numpy.random.vonmises\n",
    "\n",
    "[14] https://www.statisticshowto.com/von-mises-distribution/\n",
    "\n",
    "[15] https://numpy.org/doc/stable/reference/generated/numpy.linspace.html\n",
    "\n",
    "[16] https://en.wikipedia.org/wiki/Von_Mises_distribution\n",
    "\n",
    "[17] https://numpy.org/doc/stable/reference/random/generated/numpy.random.Generator.binomial.html#numpy.random.Generator.binomial\n",
    "\n",
    "[18] https://www.statisticshowto.com/probability-and-statistics/binomial-theorem/binomial-distribution-formula/\n",
    "\n",
    "[19] https://numpy.org/doc/stable/reference/random/generated/numpy.random.Generator.uniform.html#numpy.random.Generator.uniform\n",
    "\n",
    "[20] https://www.statisticshowto.com/uniform-distribution/\n",
    "\n",
    "[21] https://numpy.org/doc/stable/reference/random/generated/numpy.random.normal.html#numpy.random.normal\n",
    "\n",
    "[22] https://statisticsbyjim.com/basics/normal-distribution/\n",
    "\n",
    "[23] https://numpy.org/doc/stable/reference/random/generated/numpy.random.Generator.chisquare.html#numpy.random.Generator.chisquare\n",
    "\n",
    "[24] https://www.w3schools.com/python/numpy_random_chisquare.asp\n",
    "\n",
    "[25] https://en.wikipedia.org/wiki/Chi-square_distribution\n",
    "\n",
    "[26] https://numpy.org/doc/stable/reference/random/generated/numpy.random.seed.html#numpy.random.seed\n",
    "\n",
    "[27] https://www.statisticshowto.com/random-seed-definition/\n",
    "\n",
    "[28] https://www.researchgate.net/post/Can-someone-explain-what-is-seed-in-generating-a-random-number\n",
    "\n",
    "[29] https://www.epochconverter.com/\n",
    "\n",
    "[30] https://en.wikipedia.org/wiki/Mersenne_Twister\n",
    "\n",
    "[31] https://numpy.org/doc/stable/reference/random/bit_generators/generated/numpy.random.BitGenerator.html#numpy.random.BitGenerator\n",
    "\n",
    "[32] https://numpy.org/doc/stable/reference/random/bit_generators/index.html\n",
    "\n",
    "[33] https://numpy.org/doc/stable/reference/random/bit_generators/generated/numpy.random.PCG64.advance.html#numpy.random.PCG64.advance\n",
    "\n",
    "[34] https://numpy.org/doc/stable/reference/random/bit_generators/philox.html\n",
    "\n",
    "[35] https://numpy.org/doc/stable/reference/random/bit_generators/sfc64.html"
   ]
  },
  {
   "cell_type": "code",
   "execution_count": null,
   "metadata": {},
   "outputs": [],
   "source": []
  }
 ],
 "metadata": {
  "kernelspec": {
   "display_name": "Python 3",
   "language": "python",
   "name": "python3"
  },
  "language_info": {
   "codemirror_mode": {
    "name": "ipython",
    "version": 3
   },
   "file_extension": ".py",
   "mimetype": "text/x-python",
   "name": "python",
   "nbconvert_exporter": "python",
   "pygments_lexer": "ipython3",
   "version": "3.8.3"
  }
 },
 "nbformat": 4,
 "nbformat_minor": 4
}
